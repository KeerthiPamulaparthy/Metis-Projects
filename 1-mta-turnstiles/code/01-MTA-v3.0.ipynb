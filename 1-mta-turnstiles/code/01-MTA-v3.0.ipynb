{
 "cells": [
  {
   "cell_type": "markdown",
   "metadata": {},
   "source": [
    "# Project 01-Benson (Draft 3.0)"
   ]
  },
  {
   "cell_type": "markdown",
   "metadata": {},
   "source": [
    "## Do-List for Today"
   ]
  },
  {
   "cell_type": "markdown",
   "metadata": {},
   "source": [
    "* pickle initial DF\n",
    "* write weight formula(s)\n",
    "* write formula for apply\n",
    "* write apply to generate column of weights\n",
    "* scatterplot for station traffic v. weight\n",
    "* slide mock-ups"
   ]
  },
  {
   "cell_type": "markdown",
   "metadata": {},
   "source": [
    "## 0. List of Imports"
   ]
  },
  {
   "cell_type": "code",
   "execution_count": 88,
   "metadata": {
    "collapsed": true
   },
   "outputs": [],
   "source": [
    "# from __future__ import print_function, division\n",
    "\n",
    "import numpy as np\n",
    "import pandas as pd\n",
    "import matplotlib.pyplot as plt\n",
    "import googlemaps\n",
    "import re\n",
    "import json\n",
    "import pickle\n",
    "import copy\n",
    "import os\n",
    "\n",
    "from geopy.distance import vincenty\n",
    "from IPython.display import Image\n",
    "\n",
    "# sets Google Maps API key to a variable\n",
    "dl_google_key = os.environ['gmAPI']\n",
    "\n",
    "%matplotlib inline"
   ]
  },
  {
   "cell_type": "markdown",
   "metadata": {},
   "source": [
    "## 1. Loading the Dataset"
   ]
  },
  {
   "cell_type": "code",
   "execution_count": 3,
   "metadata": {},
   "outputs": [
    {
     "name": "stdout",
     "output_type": "stream",
     "text": [
      "Loading http://web.mta.info/developers/data/nyct/turnstile/turnstile_170506.txt\n",
      "Loading http://web.mta.info/developers/data/nyct/turnstile/turnstile_170513.txt\n",
      "Loading http://web.mta.info/developers/data/nyct/turnstile/turnstile_170520.txt\n",
      "Loading http://web.mta.info/developers/data/nyct/turnstile/turnstile_170527.txt\n",
      "Loading http://web.mta.info/developers/data/nyct/turnstile/turnstile_170603.txt\n"
     ]
    }
   ],
   "source": [
    "# load it all up with URLs \n",
    "datelist = ['170506', '170513', '170520', '170527', '170603']\n",
    "may_df_raw = pd.DataFrame()\n",
    "base_url = 'http://web.mta.info/developers/data/nyct/turnstile/turnstile_'\n",
    "\n",
    "for date in datelist:\n",
    "    csv_url = f\"{base_url}{date}.txt\"\n",
    "    print(\"Loading\", csv_url)\n",
    "    new_df = pd.read_csv(csv_url)\n",
    "    may_df_raw = pd.concat([may_df_raw, new_df], ignore_index = True)"
   ]
  },
  {
   "cell_type": "markdown",
   "metadata": {},
   "source": [
    "## 2. Preliminary Cleaning of the Data"
   ]
  },
  {
   "cell_type": "code",
   "execution_count": 5,
   "metadata": {},
   "outputs": [
    {
     "data": {
      "text/plain": [
       "Index(['C/A', 'UNIT', 'SCP', 'STATION', 'LINENAME', 'DIVISION', 'DATE', 'TIME',\n",
       "       'DESC', 'ENTRIES', 'EXITS'],\n",
       "      dtype='object')"
      ]
     },
     "execution_count": 5,
     "metadata": {},
     "output_type": "execute_result"
    }
   ],
   "source": [
    "# Column 'EXITS' has a ton of whitespaces in the name, so we strip it\n",
    "for col in may_df_raw.columns:\n",
    "    may_df_raw.rename(columns = {col: col.strip()}, inplace=True)\n",
    "may_df_raw.columns"
   ]
  },
  {
   "cell_type": "markdown",
   "metadata": {},
   "source": [
    "### Creating Unique Station Names"
   ]
  },
  {
   "cell_type": "raw",
   "metadata": {},
   "source": [
    "STATION does not provide unique column names, though these can be provided (with some argument regarding the bigger stations) by combining STATION and LINENAME."
   ]
  },
  {
   "cell_type": "code",
   "execution_count": 186,
   "metadata": {
    "collapsed": true
   },
   "outputs": [],
   "source": [
    "may_df_raw[\"UNIQUE_STATION\"] = may_df_raw[\"STATION\"] + ' - ' + may_df_raw[\"LINENAME\"]\n",
    "\n",
    "# this station appeared with a duplicate name, henceforth united\n",
    "may_df_raw.loc[may_df_raw['UNIQUE_STATION'] == '4AV-9 ST - DFGMNR', 'UNIQUE_STATION'] = '4 AV-9 ST - DFGMNR'\n",
    "# Google thinks this one is in Manhattan, so we clarify to Brooklyn\n",
    "may_df_raw.loc[may_df_raw['UNIQUE_STATION'] == 'FULTON ST - G', 'UNIQUE_STATION'] = 'FULTON ST (BKLYN) - G'\n",
    "\n",
    "# these get clarified because the Google Maps API won't recognize them otherwise\n",
    "# may_df_raw.loc[may_df_raw['UNIQUE_STATION'] == 'CONEY IS-STILLW - DFNQ', 'UNIQUE_STATION'] = 'CONEY ISLAND-STILLWELL AV - DFNQ'\n",
    "# may_df_raw.loc[may_df_raw['UNIQUE_STATION'] == 'HOWARD BCH JFK - A', 'UNIQUE_STATION'] = 'HOWARD BEACH JFK - A'\n",
    "# may_df_raw.loc[may_df_raw['UNIQUE_STATION'] == '21 ST-QNSBRIDGE - F', 'UNIQUE_STATION'] = '21 ST-QUEENSBRIDGE - F'\n",
    "# may_df_raw.loc[may_df_raw['UNIQUE_STATION'] == 'HOYT-SCHER - ACG', 'UNIQUE_STATION'] = 'HOYT-SCHERMERHORN - ACG'\n",
    "# may_df_raw.loc[may_df_raw['UNIQUE_STATION'] == 'COURT SQ - EMG', 'UNIQUE_STATION'] = 'COURT SQUARE - EMG'\n",
    "# may_df_raw.loc[may_df_raw['UNIQUE_STATION'] == 'GRD CNTRL-42 ST - 4567S', 'UNIQUE_STATION'] = 'GRAND CENTRAL-42 ST - 4567S'\n",
    "# may_df_raw.loc[may_df_raw['UNIQUE_STATION'] == 'AQUEDUCT N.COND - A', 'UNIQUE_STATION'] = 'AQUEDUCT N.CONDUIT - A'\n",
    "# may_df_raw.loc[may_df_raw['UNIQUE_STATION'] == 'FULTON ST - 2345ACJZ', 'UNIQUE_STATION'] = 'FULTON STREET - 2345ACJZ'\n",
    "\n",
    "# confirm that duplicate station names are now made unique when merged with line name\n",
    "# for station in sorted(may_df_raw[\"UNIQUE_STATION\"].unique()):\n",
    "#     print(station)"
   ]
  },
  {
   "cell_type": "markdown",
   "metadata": {},
   "source": [
    "### Sort for Sequential Turnstile Data"
   ]
  },
  {
   "cell_type": "markdown",
   "metadata": {},
   "source": [
    "Because we loaded multiple weeks of data in series, the sequence of data for each station and turstile is broken up. Becuase SCP numbers are not unique within the system — or within a station — we have to sort in the following order:\n",
    "1. unique station\n",
    "+ remote unit (UNIT)\n",
    "+ control area (C/A)\n",
    "+ turnstile (SCP)\n",
    "+ date\n",
    "+ time"
   ]
  },
  {
   "cell_type": "code",
   "execution_count": 7,
   "metadata": {
    "scrolled": true
   },
   "outputs": [
    {
     "data": {
      "text/html": [
       "<div>\n",
       "<style>\n",
       "    .dataframe thead tr:only-child th {\n",
       "        text-align: right;\n",
       "    }\n",
       "\n",
       "    .dataframe thead th {\n",
       "        text-align: left;\n",
       "    }\n",
       "\n",
       "    .dataframe tbody tr th {\n",
       "        vertical-align: top;\n",
       "    }\n",
       "</style>\n",
       "<table border=\"1\" class=\"dataframe\">\n",
       "  <thead>\n",
       "    <tr style=\"text-align: right;\">\n",
       "      <th></th>\n",
       "      <th>index</th>\n",
       "      <th>C/A</th>\n",
       "      <th>UNIT</th>\n",
       "      <th>SCP</th>\n",
       "      <th>STATION</th>\n",
       "      <th>LINENAME</th>\n",
       "      <th>DIVISION</th>\n",
       "      <th>DATE</th>\n",
       "      <th>TIME</th>\n",
       "      <th>DESC</th>\n",
       "      <th>ENTRIES</th>\n",
       "      <th>EXITS</th>\n",
       "      <th>UNIQUE_STATION</th>\n",
       "    </tr>\n",
       "  </thead>\n",
       "  <tbody>\n",
       "    <tr>\n",
       "      <th>0</th>\n",
       "      <td>29387</td>\n",
       "      <td>H007</td>\n",
       "      <td>R248</td>\n",
       "      <td>00-00-00</td>\n",
       "      <td>1 AV</td>\n",
       "      <td>L</td>\n",
       "      <td>BMT</td>\n",
       "      <td>04/29/2017</td>\n",
       "      <td>00:00:00</td>\n",
       "      <td>REGULAR</td>\n",
       "      <td>12278147</td>\n",
       "      <td>13533772</td>\n",
       "      <td>1 AV - L</td>\n",
       "    </tr>\n",
       "    <tr>\n",
       "      <th>1</th>\n",
       "      <td>29388</td>\n",
       "      <td>H007</td>\n",
       "      <td>R248</td>\n",
       "      <td>00-00-00</td>\n",
       "      <td>1 AV</td>\n",
       "      <td>L</td>\n",
       "      <td>BMT</td>\n",
       "      <td>04/29/2017</td>\n",
       "      <td>04:00:00</td>\n",
       "      <td>REGULAR</td>\n",
       "      <td>12278188</td>\n",
       "      <td>13534099</td>\n",
       "      <td>1 AV - L</td>\n",
       "    </tr>\n",
       "    <tr>\n",
       "      <th>2</th>\n",
       "      <td>29389</td>\n",
       "      <td>H007</td>\n",
       "      <td>R248</td>\n",
       "      <td>00-00-00</td>\n",
       "      <td>1 AV</td>\n",
       "      <td>L</td>\n",
       "      <td>BMT</td>\n",
       "      <td>04/29/2017</td>\n",
       "      <td>08:00:00</td>\n",
       "      <td>REGULAR</td>\n",
       "      <td>12278271</td>\n",
       "      <td>13534359</td>\n",
       "      <td>1 AV - L</td>\n",
       "    </tr>\n",
       "    <tr>\n",
       "      <th>3</th>\n",
       "      <td>29390</td>\n",
       "      <td>H007</td>\n",
       "      <td>R248</td>\n",
       "      <td>00-00-00</td>\n",
       "      <td>1 AV</td>\n",
       "      <td>L</td>\n",
       "      <td>BMT</td>\n",
       "      <td>04/29/2017</td>\n",
       "      <td>12:00:00</td>\n",
       "      <td>REGULAR</td>\n",
       "      <td>12278813</td>\n",
       "      <td>13535235</td>\n",
       "      <td>1 AV - L</td>\n",
       "    </tr>\n",
       "    <tr>\n",
       "      <th>4</th>\n",
       "      <td>29391</td>\n",
       "      <td>H007</td>\n",
       "      <td>R248</td>\n",
       "      <td>00-00-00</td>\n",
       "      <td>1 AV</td>\n",
       "      <td>L</td>\n",
       "      <td>BMT</td>\n",
       "      <td>04/29/2017</td>\n",
       "      <td>16:00:00</td>\n",
       "      <td>REGULAR</td>\n",
       "      <td>12279597</td>\n",
       "      <td>13536282</td>\n",
       "      <td>1 AV - L</td>\n",
       "    </tr>\n",
       "  </tbody>\n",
       "</table>\n",
       "</div>"
      ],
      "text/plain": [
       "   index   C/A  UNIT       SCP STATION LINENAME DIVISION        DATE  \\\n",
       "0  29387  H007  R248  00-00-00    1 AV        L      BMT  04/29/2017   \n",
       "1  29388  H007  R248  00-00-00    1 AV        L      BMT  04/29/2017   \n",
       "2  29389  H007  R248  00-00-00    1 AV        L      BMT  04/29/2017   \n",
       "3  29390  H007  R248  00-00-00    1 AV        L      BMT  04/29/2017   \n",
       "4  29391  H007  R248  00-00-00    1 AV        L      BMT  04/29/2017   \n",
       "\n",
       "       TIME     DESC   ENTRIES     EXITS UNIQUE_STATION  \n",
       "0  00:00:00  REGULAR  12278147  13533772       1 AV - L  \n",
       "1  04:00:00  REGULAR  12278188  13534099       1 AV - L  \n",
       "2  08:00:00  REGULAR  12278271  13534359       1 AV - L  \n",
       "3  12:00:00  REGULAR  12278813  13535235       1 AV - L  \n",
       "4  16:00:00  REGULAR  12279597  13536282       1 AV - L  "
      ]
     },
     "execution_count": 7,
     "metadata": {},
     "output_type": "execute_result"
    }
   ],
   "source": [
    "may_df_sorted = may_df_raw.sort_values(['UNIQUE_STATION', 'UNIT', 'C/A', 'SCP', 'DATE', 'TIME']).reset_index()\n",
    "may_df_sorted.head(5)"
   ]
  },
  {
   "cell_type": "markdown",
   "metadata": {},
   "source": [
    "#### What are all the divisions we have presenet?"
   ]
  },
  {
   "cell_type": "code",
   "execution_count": 10,
   "metadata": {},
   "outputs": [
    {
     "data": {
      "text/plain": [
       "array(['BMT', 'IRT', 'IND', 'PTH', 'RIT', 'SRT'], dtype=object)"
      ]
     },
     "execution_count": 10,
     "metadata": {},
     "output_type": "execute_result"
    }
   ],
   "source": [
    "may_df.DIVISION.unique()"
   ]
  },
  {
   "cell_type": "markdown",
   "metadata": {},
   "source": [
    "* BMT, IRT, and IND are the three companies that were absorbed into the MTA\n",
    "* PTH is the PATH train into NJ\n",
    "* SRT is perhaps the Staten Island Railway?"
   ]
  },
  {
   "cell_type": "markdown",
   "metadata": {},
   "source": [
    "### Filter Unneccsary Columns"
   ]
  },
  {
   "cell_type": "markdown",
   "metadata": {},
   "source": [
    "We no longer need STATION and LINE, as those have been merged to provide reasonably unique station identification. An exploration of DESC reveals that it has no significant impact on the actual count of entries/exits, so that goes too."
   ]
  },
  {
   "cell_type": "code",
   "execution_count": 9,
   "metadata": {
    "collapsed": true
   },
   "outputs": [],
   "source": [
    "may_df = may_df_sorted.filter(['UNIQUE_STATION', 'UNIT', 'C/A', 'SCP', 'DIVISION', 'DATE', 'TIME',\n",
    "       'ENTRIES', 'EXITS'])\n",
    "\n",
    "# look at 50 rows for kicks\n",
    "# may_df.sample(50, random_state=23)"
   ]
  },
  {
   "cell_type": "markdown",
   "metadata": {},
   "source": [
    "## 3. Determining Total Entries and Exits per Station"
   ]
  },
  {
   "cell_type": "markdown",
   "metadata": {},
   "source": [
    "Calculating the difference between one cell in ENTRIES or EXITS and the previous theoretically yields the total number of people through the gate in the time elapsed between readings. With reliable figures, one could simply sum the column to find out how many people walked through the gates over the duration of the entire dataframe."
   ]
  },
  {
   "cell_type": "code",
   "execution_count": 227,
   "metadata": {},
   "outputs": [
    {
     "data": {
      "text/html": [
       "<div>\n",
       "<style>\n",
       "    .dataframe thead tr:only-child th {\n",
       "        text-align: right;\n",
       "    }\n",
       "\n",
       "    .dataframe thead th {\n",
       "        text-align: left;\n",
       "    }\n",
       "\n",
       "    .dataframe tbody tr th {\n",
       "        vertical-align: top;\n",
       "    }\n",
       "</style>\n",
       "<table border=\"1\" class=\"dataframe\">\n",
       "  <thead>\n",
       "    <tr style=\"text-align: right;\">\n",
       "      <th></th>\n",
       "      <th>UNIQUE_STATION</th>\n",
       "      <th>UNIT</th>\n",
       "      <th>C/A</th>\n",
       "      <th>SCP</th>\n",
       "      <th>DIVISION</th>\n",
       "      <th>DATE</th>\n",
       "      <th>TIME</th>\n",
       "      <th>DESC</th>\n",
       "      <th>ENTRIES</th>\n",
       "      <th>EXITS</th>\n",
       "      <th>ENT_DIFF</th>\n",
       "      <th>EX_DIFF</th>\n",
       "      <th>ENTD_ABS</th>\n",
       "      <th>EXD_ABS</th>\n",
       "    </tr>\n",
       "  </thead>\n",
       "  <tbody>\n",
       "    <tr>\n",
       "      <th>0</th>\n",
       "      <td>1 AV - L</td>\n",
       "      <td>R248</td>\n",
       "      <td>H007</td>\n",
       "      <td>00-00-00</td>\n",
       "      <td>BMT</td>\n",
       "      <td>04/29/2017</td>\n",
       "      <td>00:00:00</td>\n",
       "      <td>REGULAR</td>\n",
       "      <td>12278147</td>\n",
       "      <td>13533772</td>\n",
       "      <td>NaN</td>\n",
       "      <td>NaN</td>\n",
       "      <td>0.0</td>\n",
       "      <td>0.0</td>\n",
       "    </tr>\n",
       "    <tr>\n",
       "      <th>1</th>\n",
       "      <td>1 AV - L</td>\n",
       "      <td>R248</td>\n",
       "      <td>H007</td>\n",
       "      <td>00-00-00</td>\n",
       "      <td>BMT</td>\n",
       "      <td>04/29/2017</td>\n",
       "      <td>04:00:00</td>\n",
       "      <td>REGULAR</td>\n",
       "      <td>12278188</td>\n",
       "      <td>13534099</td>\n",
       "      <td>41.0</td>\n",
       "      <td>327.0</td>\n",
       "      <td>41.0</td>\n",
       "      <td>327.0</td>\n",
       "    </tr>\n",
       "    <tr>\n",
       "      <th>2</th>\n",
       "      <td>1 AV - L</td>\n",
       "      <td>R248</td>\n",
       "      <td>H007</td>\n",
       "      <td>00-00-00</td>\n",
       "      <td>BMT</td>\n",
       "      <td>04/29/2017</td>\n",
       "      <td>08:00:00</td>\n",
       "      <td>REGULAR</td>\n",
       "      <td>12278271</td>\n",
       "      <td>13534359</td>\n",
       "      <td>83.0</td>\n",
       "      <td>260.0</td>\n",
       "      <td>83.0</td>\n",
       "      <td>260.0</td>\n",
       "    </tr>\n",
       "    <tr>\n",
       "      <th>3</th>\n",
       "      <td>1 AV - L</td>\n",
       "      <td>R248</td>\n",
       "      <td>H007</td>\n",
       "      <td>00-00-00</td>\n",
       "      <td>BMT</td>\n",
       "      <td>04/29/2017</td>\n",
       "      <td>12:00:00</td>\n",
       "      <td>REGULAR</td>\n",
       "      <td>12278813</td>\n",
       "      <td>13535235</td>\n",
       "      <td>542.0</td>\n",
       "      <td>876.0</td>\n",
       "      <td>542.0</td>\n",
       "      <td>876.0</td>\n",
       "    </tr>\n",
       "    <tr>\n",
       "      <th>4</th>\n",
       "      <td>1 AV - L</td>\n",
       "      <td>R248</td>\n",
       "      <td>H007</td>\n",
       "      <td>00-00-00</td>\n",
       "      <td>BMT</td>\n",
       "      <td>04/29/2017</td>\n",
       "      <td>16:00:00</td>\n",
       "      <td>REGULAR</td>\n",
       "      <td>12279597</td>\n",
       "      <td>13536282</td>\n",
       "      <td>784.0</td>\n",
       "      <td>1047.0</td>\n",
       "      <td>784.0</td>\n",
       "      <td>1047.0</td>\n",
       "    </tr>\n",
       "  </tbody>\n",
       "</table>\n",
       "</div>"
      ],
      "text/plain": [
       "  UNIQUE_STATION  UNIT   C/A       SCP DIVISION        DATE      TIME  \\\n",
       "0       1 AV - L  R248  H007  00-00-00      BMT  04/29/2017  00:00:00   \n",
       "1       1 AV - L  R248  H007  00-00-00      BMT  04/29/2017  04:00:00   \n",
       "2       1 AV - L  R248  H007  00-00-00      BMT  04/29/2017  08:00:00   \n",
       "3       1 AV - L  R248  H007  00-00-00      BMT  04/29/2017  12:00:00   \n",
       "4       1 AV - L  R248  H007  00-00-00      BMT  04/29/2017  16:00:00   \n",
       "\n",
       "      DESC   ENTRIES     EXITS  ENT_DIFF  EX_DIFF  ENTD_ABS  EXD_ABS  \n",
       "0  REGULAR  12278147  13533772       NaN      NaN       0.0      0.0  \n",
       "1  REGULAR  12278188  13534099      41.0    327.0      41.0    327.0  \n",
       "2  REGULAR  12278271  13534359      83.0    260.0      83.0    260.0  \n",
       "3  REGULAR  12278813  13535235     542.0    876.0     542.0    876.0  \n",
       "4  REGULAR  12279597  13536282     784.0   1047.0     784.0   1047.0  "
      ]
     },
     "execution_count": 227,
     "metadata": {},
     "output_type": "execute_result"
    }
   ],
   "source": [
    "may_df['ENT_DIFF'] = may_df['ENTRIES'].diff()\n",
    "may_df['EX_DIFF'] = may_df['EXITS'].diff()\n",
    "may_df.head(5)"
   ]
  },
  {
   "cell_type": "markdown",
   "metadata": {},
   "source": [
    "### Negative Numbers and Outliers"
   ]
  },
  {
   "cell_type": "markdown",
   "metadata": {},
   "source": [
    "When we reach the end of one turnstile's count and continue with another, the differnential does not represent an actual count, and must be reset to 0.\n",
    "\n",
    "Some turnstiles count backwards, so the differential between current and previous cells in ENTRIES or EXITS will be a negative number in those cases, but the absolute value of this number represents a genuine count.\n",
    "\n",
    "Occasionally, a turnstile is reset or replaced. In the first case the differential will be a negative number, and in the second case the differential could be negative or positive. In either case, the differential will almost always be several orders of magnitude larger than the largest feasible entry or exit count, and will *not* represent actual people passing through the gate.\n",
    "\n",
    "Another case in which negative numbers appear is that in which several readings from a different turnstile are mislabeled with the current turnstile's SCP number and mixed into the series. This generates alternating negative and positive differentials.\n",
    "\n",
    "The following makes some corrections and attemps to figure out which numbers might be set as thresholds for negatives and positives for the purpose of filtering out irrelevant data."
   ]
  },
  {
   "cell_type": "markdown",
   "metadata": {},
   "source": [
    "### Correcting for Turnstile Transition"
   ]
  },
  {
   "cell_type": "markdown",
   "metadata": {},
   "source": [
    "To account for the transition from the readings of one turnstile to another, we set ENT_DIFF and EX_DIFF values to 0 whenever a difference in SCP or C/A numbers is found between current row and previous."
   ]
  },
  {
   "cell_type": "code",
   "execution_count": 228,
   "metadata": {},
   "outputs": [],
   "source": [
    "# may_df.loc[may_df['SCP'] != may_df['SCP'].shift(+1), 'ENT_DIFF'] = 0.0\n",
    "# may_df.loc[may_df['SCP'] != may_df['SCP'].shift(+1), 'EX_DIFF'] = 0.0\n",
    "# may_df.loc[may_df['SCP'] != may_df['SCP'].shift(+1), ['ENT_DIFF', 'EX_DIFF']] = 0.0\n",
    "\n",
    "# may_df.loc[may_df['C/A'] != may_df['C/A'].shift(+1), 'ENT_DIFF'] = 0.0\n",
    "# may_df.loc[may_df['C/A'] != may_df['C/A'].shift(+1), 'EX_DIFF'] = 0.0\n",
    "# may_df.loc[may_df['C/A'] != may_df['C/A'].shift(+1), ['ENT_DIFF', 'EX_DIFF']] = 0.0\n",
    "\n",
    "(may_df\n",
    " .loc[\n",
    "     (may_df['SCP'] != may_df['SCP'].shift(+1)) | (may_df['C/A'] != may_df['C/A'].shift(+1)),\n",
    "     ['ENT_DIFF', 'EX_DIFF']] = 0.0\n",
    ")"
   ]
  },
  {
   "cell_type": "markdown",
   "metadata": {},
   "source": [
    "### Finding Thresholds for Filtering"
   ]
  },
  {
   "cell_type": "markdown",
   "metadata": {},
   "source": [
    "Theoretically, one filter value should be able to be used on the absolute value of the whole series in each ENT_DIFF and EX_DIFF column. However, there are some cases only observed with positive counts that make an argument for setting different threshold values."
   ]
  },
  {
   "cell_type": "markdown",
   "metadata": {},
   "source": [
    "#### Negative Differentials"
   ]
  },
  {
   "cell_type": "markdown",
   "metadata": {},
   "source": [
    "To find a threshold to use for our filter on negative numbers, we look at summary stats and histograms of all negative values in ENT_DIFF and EX_DIFF columns."
   ]
  },
  {
   "cell_type": "code",
   "execution_count": 223,
   "metadata": {
    "scrolled": true
   },
   "outputs": [],
   "source": [
    "entries_neg = may_df[may_df['ENT_DIFF'] < 0]['ENT_DIFF']\n",
    "exits_neg = may_df[may_df['ENT_DIFF'] < 0]['EX_DIFF']"
   ]
  },
  {
   "cell_type": "code",
   "execution_count": 230,
   "metadata": {
    "scrolled": false
   },
   "outputs": [
    {
     "data": {
      "image/png": "[encoded data removed]",
      "text/plain": [
       "<matplotlib.figure.Figure at 0x113fb0208>"
      ]
     },
     "metadata": {},
     "output_type": "display_data"
    }
   ],
   "source": [
    "# histogram of negative numbers in entries with y-axis on log scale\n",
    "# how to display exits too? check the viz tutorial...\n",
    "\n",
    "fig, ax = plt.subplots(2, 1, figsize=(16,10))\n",
    "\n",
    "plots_to_make = [entries_neg, exits_neg]\n",
    "\n",
    "for series, ax_obj in zip(plots_to_make, ax):\n",
    "    ax_obj.hist(series, bins=50)\n",
    "    ax_obj.set_yscale('log')\n",
    "    ax_obj.grid()"
   ]
  },
  {
   "cell_type": "code",
   "execution_count": 233,
   "metadata": {
    "scrolled": false
   },
   "outputs": [
    {
     "data": {
      "text/plain": [
       "count    7583.000000\n",
       "mean     -366.066728\n",
       "std       384.914764\n",
       "min     -2903.000000\n",
       "25%      -544.500000\n",
       "50%      -241.000000\n",
       "75%       -66.000000\n",
       "max        -1.000000\n",
       "Name: ENT_DIFF, dtype: float64"
      ]
     },
     "execution_count": 233,
     "metadata": {},
     "output_type": "execute_result"
    }
   ],
   "source": [
    "entries_neg.describe()"
   ]
  },
  {
   "cell_type": "code",
   "execution_count": 234,
   "metadata": {},
   "outputs": [
    {
     "data": {
      "text/plain": [
       "count    7583.000000\n",
       "mean       -1.335751\n",
       "std       341.862930\n",
       "min     -2691.000000\n",
       "25%       -81.000000\n",
       "50%        12.000000\n",
       "75%       123.000000\n",
       "max      1740.000000\n",
       "Name: EX_DIFF, dtype: float64"
      ]
     },
     "execution_count": 234,
     "metadata": {},
     "output_type": "execute_result"
    }
   ],
   "source": [
    "exits_neg.describe()"
   ]
  },
  {
   "cell_type": "markdown",
   "metadata": {},
   "source": [
    "Nearly all values between -3000 > n > 0 can be attributed to a reverse-counting turnstile, and all values n < -3000 can be attrubuted to a reset or another anomaly."
   ]
  },
  {
   "cell_type": "markdown",
   "metadata": {},
   "source": [
    "### Positive Differentials"
   ]
  },
  {
   "cell_type": "markdown",
   "metadata": {},
   "source": [
    "Again, we look at histograms and summary stats of positive entrance and exit differentials to hone in on a filter threshold."
   ]
  },
  {
   "cell_type": "code",
   "execution_count": 232,
   "metadata": {
    "scrolled": false
   },
   "outputs": [
    {
     "data": {
      "image/png": "[encoded data removed]",
      "text/plain": [
       "<matplotlib.figure.Figure at 0x112123518>"
      ]
     },
     "metadata": {},
     "output_type": "display_data"
    }
   ],
   "source": [
    "min_val = 0\n",
    "max_val = 16000\n",
    "\n",
    "# if we want to look at a range instead of the whole field\n",
    "ent_pos_slice = may_df[(may_df['ENT_DIFF'] > min_val) & (may_df['ENT_DIFF'] < max_val)]['ENT_DIFF']\n",
    "ex_pos_slice = may_df[(may_df['EX_DIFF'] > min_val) & (may_df['EX_DIFF'] < max_val)]['EX_DIFF']\n",
    "\n",
    "ent_pos = may_df[may_df['ENT_DIFF'] > 0]['ENT_DIFF']\n",
    "ex_pos = may_df[may_df['EX_DIFF'] > 0]['EX_DIFF']\n",
    "\n",
    "\n",
    "plots_to_make = [ent_pos, ex_pos]\n",
    "\n",
    "fig, ax = plt.subplots(2, 1, figsize=(16,10))\n",
    "\n",
    "for series, ax_obj in zip(plots_to_make, ax):\n",
    "    ax_obj.hist(series, bins=40)\n",
    "    ax_obj.set_yscale('log')\n",
    "    ax_obj.grid()"
   ]
  },
  {
   "cell_type": "code",
   "execution_count": 28,
   "metadata": {
    "scrolled": false
   },
   "outputs": [
    {
     "data": {
      "text/plain": [
       "count    8.216090e+05\n",
       "mean     5.293635e+03\n",
       "std      2.108554e+06\n",
       "min      1.000000e+00\n",
       "25%      3.200000e+01\n",
       "50%      1.200000e+02\n",
       "75%      2.990000e+02\n",
       "max      1.557696e+09\n",
       "Name: ENT_DIFF, dtype: float64"
      ]
     },
     "execution_count": 28,
     "metadata": {},
     "output_type": "execute_result"
    }
   ],
   "source": [
    "ent_pos.describe()"
   ]
  },
  {
   "cell_type": "code",
   "execution_count": 237,
   "metadata": {},
   "outputs": [
    {
     "data": {
      "text/plain": [
       "count    8.266290e+05\n",
       "mean     9.030425e+03\n",
       "std      3.444267e+06\n",
       "min      1.000000e+00\n",
       "25%      2.300000e+01\n",
       "50%      7.800000e+01\n",
       "75%      2.040000e+02\n",
       "max      1.751213e+09\n",
       "Name: EX_DIFF, dtype: float64"
      ]
     },
     "execution_count": 237,
     "metadata": {},
     "output_type": "execute_result"
    }
   ],
   "source": [
    "ex_pos.describe()"
   ]
  },
  {
   "cell_type": "code",
   "execution_count": 238,
   "metadata": {
    "scrolled": false
   },
   "outputs": [
    {
     "data": {
      "text/plain": [
       "574146    1.557696e+09\n",
       "312004    6.831548e+08\n",
       "652164    6.528036e+08\n",
       "655513    4.884515e+08\n",
       "428619    1.979471e+08\n",
       "227874    1.475619e+08\n",
       "295648    1.169687e+08\n",
       "443550    9.825193e+07\n",
       "12100     8.356122e+07\n",
       "650838    3.420039e+07\n",
       "Name: ENT_DIFF, dtype: float64"
      ]
     },
     "execution_count": 238,
     "metadata": {},
     "output_type": "execute_result"
    }
   ],
   "source": [
    "ent_pos.sort_values(ascending=False).head(10)"
   ]
  },
  {
   "cell_type": "markdown",
   "metadata": {},
   "source": [
    "Unlike the negative numbers, there are a number of counts in the 4000s and even 5000s that appear to be legitimate. As these are quite significant values, we do not want to filter them out of our count. Several values between 6000 and 8000 seem to represent situations in which one turnstile goes offline for several days but keeps on counting, then returns a value representing this whole offline period. As these numbers contribute to an accurate count over the duration of our data, we elect to keep them."
   ]
  },
  {
   "cell_type": "markdown",
   "metadata": {},
   "source": [
    "### And We Have Thresholds!"
   ]
  },
  {
   "cell_type": "markdown",
   "metadata": {},
   "source": [
    "Anything between -3000 and 8000 in the differentials columns will be treated as a real value."
   ]
  },
  {
   "cell_type": "markdown",
   "metadata": {},
   "source": [
    "### Filtering Anomalies"
   ]
  },
  {
   "cell_type": "code",
   "execution_count": 33,
   "metadata": {
    "collapsed": true
   },
   "outputs": [],
   "source": [
    "# if value in either ENT_DIFF or EX_DIFF falls outside of the range, we set both values to 0\n",
    "\n",
    "(may_df\n",
    " .loc[\n",
    "    (may_df['ENT_DIFF'] < -3000) | (may_df['EX_DIFF'] < -3000),\n",
    "    ['ENT_DIFF', 'EX_DIFF']] = 0.0\n",
    ")\n",
    " \n",
    "(may_df\n",
    " .loc[\n",
    "    (may_df['ENT_DIFF'] > 8000) | (may_df['EX_DIFF'] > 8000),\n",
    "    ['ENT_DIFF', 'EX_DIFF']] = 0.0\n",
    ")"
   ]
  },
  {
   "cell_type": "markdown",
   "metadata": {},
   "source": [
    "We take the absolute value of all diffential and create two new columns for them."
   ]
  },
  {
   "cell_type": "code",
   "execution_count": null,
   "metadata": {
    "collapsed": true
   },
   "outputs": [],
   "source": [
    "may_df['ENTRIES_DIFF_ABS'] = may_df['ENT_DIFF'].abs()\n",
    "may_df['EXITS_DIFF_ABS'] = may_df['EX_DIFF'].abs()"
   ]
  },
  {
   "cell_type": "markdown",
   "metadata": {},
   "source": [
    "## 4. Calculating the Busiest Stations"
   ]
  },
  {
   "cell_type": "markdown",
   "metadata": {},
   "source": [
    "...is as easy as grouping by station and showing the sum of entries and exits."
   ]
  },
  {
   "cell_type": "code",
   "execution_count": 217,
   "metadata": {
    "scrolled": false
   },
   "outputs": [
    {
     "data": {
      "text/html": [
       "<div>\n",
       "<style>\n",
       "    .dataframe thead tr:only-child th {\n",
       "        text-align: right;\n",
       "    }\n",
       "\n",
       "    .dataframe thead th {\n",
       "        text-align: left;\n",
       "    }\n",
       "\n",
       "    .dataframe tbody tr th {\n",
       "        vertical-align: top;\n",
       "    }\n",
       "</style>\n",
       "<table border=\"1\" class=\"dataframe\">\n",
       "  <thead>\n",
       "    <tr style=\"text-align: right;\">\n",
       "      <th></th>\n",
       "      <th>ENTD_ABS</th>\n",
       "      <th>EXD_ABS</th>\n",
       "    </tr>\n",
       "    <tr>\n",
       "      <th>UNIQUE_STATION</th>\n",
       "      <th></th>\n",
       "      <th></th>\n",
       "    </tr>\n",
       "  </thead>\n",
       "  <tbody>\n",
       "    <tr>\n",
       "      <th>1 AV - L</th>\n",
       "      <td>640926.0</td>\n",
       "      <td>667674.0</td>\n",
       "    </tr>\n",
       "    <tr>\n",
       "      <th>103 ST - 1</th>\n",
       "      <td>393661.0</td>\n",
       "      <td>187491.0</td>\n",
       "    </tr>\n",
       "    <tr>\n",
       "      <th>103 ST - 6</th>\n",
       "      <td>425559.0</td>\n",
       "      <td>351729.0</td>\n",
       "    </tr>\n",
       "    <tr>\n",
       "      <th>103 ST - BC</th>\n",
       "      <td>149106.0</td>\n",
       "      <td>106674.0</td>\n",
       "    </tr>\n",
       "    <tr>\n",
       "      <th>103 ST-CORONA - 7</th>\n",
       "      <td>646780.0</td>\n",
       "      <td>468924.0</td>\n",
       "    </tr>\n",
       "    <tr>\n",
       "      <th>104 ST - A</th>\n",
       "      <td>53015.0</td>\n",
       "      <td>18517.0</td>\n",
       "    </tr>\n",
       "    <tr>\n",
       "      <th>104 ST - JZ</th>\n",
       "      <td>45125.0</td>\n",
       "      <td>6815.0</td>\n",
       "    </tr>\n",
       "    <tr>\n",
       "      <th>110 ST - 6</th>\n",
       "      <td>375173.0</td>\n",
       "      <td>292366.0</td>\n",
       "    </tr>\n",
       "    <tr>\n",
       "      <th>111 ST - 7</th>\n",
       "      <td>373148.0</td>\n",
       "      <td>250502.0</td>\n",
       "    </tr>\n",
       "    <tr>\n",
       "      <th>111 ST - A</th>\n",
       "      <td>70971.0</td>\n",
       "      <td>25324.0</td>\n",
       "    </tr>\n",
       "    <tr>\n",
       "      <th>111 ST - J</th>\n",
       "      <td>99493.0</td>\n",
       "      <td>57288.0</td>\n",
       "    </tr>\n",
       "    <tr>\n",
       "      <th>116 ST - 23</th>\n",
       "      <td>386688.0</td>\n",
       "      <td>163283.0</td>\n",
       "    </tr>\n",
       "    <tr>\n",
       "      <th>116 ST - 6</th>\n",
       "      <td>508049.0</td>\n",
       "      <td>269128.0</td>\n",
       "    </tr>\n",
       "    <tr>\n",
       "      <th>116 ST - BC</th>\n",
       "      <td>224446.0</td>\n",
       "      <td>154989.0</td>\n",
       "    </tr>\n",
       "    <tr>\n",
       "      <th>116 ST-COLUMBIA - 1</th>\n",
       "      <td>391595.0</td>\n",
       "      <td>209433.0</td>\n",
       "    </tr>\n",
       "    <tr>\n",
       "      <th>121 ST - JZ</th>\n",
       "      <td>26154.0</td>\n",
       "      <td>4641.0</td>\n",
       "    </tr>\n",
       "    <tr>\n",
       "      <th>125 ST - 1</th>\n",
       "      <td>240077.0</td>\n",
       "      <td>240270.0</td>\n",
       "    </tr>\n",
       "    <tr>\n",
       "      <th>125 ST - 23</th>\n",
       "      <td>517169.0</td>\n",
       "      <td>192121.0</td>\n",
       "    </tr>\n",
       "    <tr>\n",
       "      <th>125 ST - 456</th>\n",
       "      <td>907809.0</td>\n",
       "      <td>785632.0</td>\n",
       "    </tr>\n",
       "    <tr>\n",
       "      <th>125 ST - ACBD</th>\n",
       "      <td>953859.0</td>\n",
       "      <td>750255.0</td>\n",
       "    </tr>\n",
       "  </tbody>\n",
       "</table>\n",
       "</div>"
      ],
      "text/plain": [
       "                     ENTD_ABS   EXD_ABS\n",
       "UNIQUE_STATION                         \n",
       "1 AV - L             640926.0  667674.0\n",
       "103 ST - 1           393661.0  187491.0\n",
       "103 ST - 6           425559.0  351729.0\n",
       "103 ST - BC          149106.0  106674.0\n",
       "103 ST-CORONA - 7    646780.0  468924.0\n",
       "104 ST - A            53015.0   18517.0\n",
       "104 ST - JZ           45125.0    6815.0\n",
       "110 ST - 6           375173.0  292366.0\n",
       "111 ST - 7           373148.0  250502.0\n",
       "111 ST - A            70971.0   25324.0\n",
       "111 ST - J            99493.0   57288.0\n",
       "116 ST - 23          386688.0  163283.0\n",
       "116 ST - 6           508049.0  269128.0\n",
       "116 ST - BC          224446.0  154989.0\n",
       "116 ST-COLUMBIA - 1  391595.0  209433.0\n",
       "121 ST - JZ           26154.0    4641.0\n",
       "125 ST - 1           240077.0  240270.0\n",
       "125 ST - 23          517169.0  192121.0\n",
       "125 ST - 456         907809.0  785632.0\n",
       "125 ST - ACBD        953859.0  750255.0"
      ]
     },
     "execution_count": 217,
     "metadata": {},
     "output_type": "execute_result"
    }
   ],
   "source": [
    "may_df.groupby('UNIQUE_STATION')['ENTRIES_DIFF_ABS', 'EXITS_DIFF_ABS'].sum().head(20)"
   ]
  },
  {
   "cell_type": "markdown",
   "metadata": {
    "collapsed": true
   },
   "source": [
    "## 5. Location, Location, Location: Enter the Goog"
   ]
  },
  {
   "cell_type": "markdown",
   "metadata": {},
   "source": [
    "Because we intend to compare station locations to locations of tech companies and universities, we need to grab the latitude and longitude of our stations, companies, and universities to compute that distance. We'll use the Google Maps API to query lat/lng for each one."
   ]
  },
  {
   "cell_type": "code",
   "execution_count": 38,
   "metadata": {
    "collapsed": true
   },
   "outputs": [],
   "source": [
    "def find_location(search_array, search_type, gkey, lcn_dict=None):\n",
    "    \"\"\"\n",
    "    This test function will take in an array of searchable venues, look them up on the Google API, and return their\n",
    "    location as latitude and longitude.\n",
    "    \n",
    "    Type key:\n",
    "    0. Subway Station\n",
    "    1. Company\n",
    "    2. College\n",
    "    \n",
    "    ---\n",
    "    \n",
    "    IN: ndarray, list, etc. of locations; type (int); Google API key (str)\n",
    "        * specify dictionary for input if you'd like to add to it\n",
    "    OUT: dictionary of venues as keys and latitude/longitude as items; venues for which no data was found\n",
    "    \"\"\"\n",
    "    \n",
    "    gmaps = googlemaps.Client(key=gkey)\n",
    "    no_value = []\n",
    "    search_types = ['subway station', 'company headquarters', 'college']\n",
    "    if lcn_dict == None:\n",
    "        lcn_dict = {}\n",
    "\n",
    "    for venue in search_array:\n",
    "        print(f\"Searching for: {venue}                              \\r\", end='')\n",
    "        search_me = venue + search_types[search_type] + ' NEW YORK'\n",
    "        result = gmaps.geocode(search_me)\n",
    "        if result:\n",
    "            latitude = result[0]['geometry']['location']['lat']\n",
    "            longitude = result[0]['geometry']['location']['lng']\n",
    "        else:\n",
    "            latitude = np.nan\n",
    "            longitude = np.nan\n",
    "            print(f\"*** {venue}: No value found!\")\n",
    "            no_value.append(venue)\n",
    "        lcn_dict[venue] = (latitude, longitude)\n",
    "        \n",
    "    print(\"Complete!                                                   \")\n",
    "        \n",
    "    return lcn_dict, no_value"
   ]
  },
  {
   "cell_type": "code",
   "execution_count": 183,
   "metadata": {},
   "outputs": [
    {
     "name": "stdout",
     "output_type": "stream",
     "text": [
      "*** AQUEDUCT N.COND - A: No value found!                                   \n",
      "*** FULTON ST - 2345ACJZ: No value found!                                    \n",
      "*** NEWARK HW BMEBE - 1: No value found!                                \n",
      "Complete!                                                                 \n"
     ]
    }
   ],
   "source": [
    "# uncomment code to run these instead of loading from JSON file\n",
    "\n",
    "station_names = may_df['UNIQUE_STATION'].unique() # numpy array of unique names\n",
    "\n",
    "station_lcns, stations_nolcndata = find_location(station_names, 0, dl_google_key)"
   ]
  },
  {
   "cell_type": "code",
   "execution_count": 190,
   "metadata": {},
   "outputs": [
    {
     "name": "stdout",
     "output_type": "stream",
     "text": [
      "AQUEDUCT N.COND - A\n",
      "FULTON ST - 2345ACJZ\n",
      "NEWARK HW BMEBE - 1\n"
     ]
    }
   ],
   "source": [
    "for station in stations_nolcndata:\n",
    "   print(station) "
   ]
  },
  {
   "cell_type": "code",
   "execution_count": 198,
   "metadata": {
    "scrolled": true
   },
   "outputs": [],
   "source": [
    "# cycles through stations with no location data and offers opportunity to rename\n",
    "# both in list and df\n",
    "\n",
    "for index, station in enumerate(stations_nolcndata[:]):\n",
    "    print(f\"Enter new name for {station} (or hit enter to leave as-is)\")\n",
    "    newname = input(\"> \").strip()\n",
    "    if newname != '':\n",
    "        may_df.loc[may_df['UNIQUE_STATION'] == station, 'UNIQUE_STATION'] = newname\n",
    "        stations_nolcndata[index] = newname\n",
    "        del station_lcns[station]\n",
    "\n",
    "for station in stations_nolcndata:\n",
    "    print(station)"
   ]
  },
  {
   "cell_type": "code",
   "execution_count": 197,
   "metadata": {},
   "outputs": [
    {
     "name": "stdout",
     "output_type": "stream",
     "text": [
      "Complete!                                                            \n"
     ]
    }
   ],
   "source": [
    "# try one more time with stations that didn't return lat/lng info\n",
    "station_lcns_updated, stations_nolcndata = find_location(stations_nolcndata, 0, dl_google_key, lcn_dict=station_lcns)"
   ]
  },
  {
   "cell_type": "code",
   "execution_count": 209,
   "metadata": {
    "scrolled": false
   },
   "outputs": [
    {
     "data": {
      "text/plain": [
       "476"
      ]
     },
     "execution_count": 209,
     "metadata": {},
     "output_type": "execute_result"
    }
   ],
   "source": []
  },
  {
   "cell_type": "code",
   "execution_count": 40,
   "metadata": {
    "collapsed": true
   },
   "outputs": [],
   "source": [
    "\n",
    "# 50 notable tech companies in NYC\n",
    "companies = ['Amazon','AOL','Apple','AppNexus','Bloomberg','Blue Apron 40 w 23rd St','BuzzFeed','ETrade','Etsy','Facebook',\n",
    "                 'Fresh Direct','Google','Information Builders','LinkedIn','MediaRadar','Microsoft','Oscar',\n",
    "                 'Salesforce','Shutterstock','Spotify','Tumblr','Twitter','VICE Media','WeWork','Yelp','Yext',\n",
    "                 'Zocdoc','Betterment','Bonobos','Compass','Grubhub','Fareportal','FanDuel','MediaMath',\n",
    "                 'Integral Ad Science','MondoDB','Sprinklr','Uber','Vimeo','Intersection','Snapchat','Flatiron Health',\n",
    "                 'Gilt','LearnVest','OnDeck','Squarespace','Thrillist','Warby Parker','TMP Worldwide','Refinery29']\n",
    "\n",
    "# company_lcns, companies_nolcndata = find_location(companies, 1, dl_google_key)"
   ]
  },
  {
   "cell_type": "code",
   "execution_count": 41,
   "metadata": {
    "collapsed": true
   },
   "outputs": [],
   "source": [
    "# 10 notable universities in NYC\n",
    "colleges = ['City University of New York Harlem','Yeshiva University', 'Columbia University',\n",
    "            'New York Institute of Technology','New York University','Pace University', 'Fordham University',\n",
    "            'The New School','Hunter College','Baruch College'] \n",
    "\n",
    "# company_and_college_lcns, colleges_nolcndata = find_location(colleges, 2, dl_google_key, lcn_dict=company_lcns)"
   ]
  },
  {
   "cell_type": "code",
   "execution_count": 42,
   "metadata": {
    "collapsed": true
   },
   "outputs": [],
   "source": [
    "# throw these into JSON files for later\n",
    "\n",
    "# with open('station_lcns.txt', 'w') as fs:\n",
    "#     json.dump(station_lcns, fs)\n",
    "\n",
    "# with open('candc_lcns.txt', 'w') as fc:\n",
    "#     json.dump(company_and_college_lcns, fc)"
   ]
  },
  {
   "cell_type": "code",
   "execution_count": null,
   "metadata": {
    "collapsed": true
   },
   "outputs": [],
   "source": [
    "# and then read them\n",
    "with open('station_lcns.txt', 'r') as fs:\n",
    "    station_lcns_current_dict = json.load(fs)\n",
    "    \n",
    "with open('candc_lcns.txt', 'r') as fc:\n",
    "    company_and_college_lcns_current_dict = json.load(fc)"
   ]
  },
  {
   "cell_type": "code",
   "execution_count": 43,
   "metadata": {},
   "outputs": [
    {
     "name": "stdout",
     "output_type": "stream",
     "text": [
      "475\n",
      "60\n"
     ]
    }
   ],
   "source": [
    "print(len(station_lcns_current_dict))\n",
    "print(len(company_and_college_lcns_current_dict))"
   ]
  },
  {
   "cell_type": "markdown",
   "metadata": {},
   "source": [
    "**FYI, latitude and longitude of NYC:** \n",
    "* Latitude = 40.7141667 \n",
    "* Longitude = -74.0063889"
   ]
  },
  {
   "cell_type": "markdown",
   "metadata": {},
   "source": [
    "**NEXT UP, MERGE STATION LCNS WITH BUSIEST STATIONS**"
   ]
  },
  {
   "cell_type": "markdown",
   "metadata": {},
   "source": [
    "I'm not sure why I didn't make these damn things into DFs or Series in the function, but now we try to take dictionaries of lat/lng and merge with the traffic info df using the station names as indices."
   ]
  },
  {
   "cell_type": "code",
   "execution_count": 44,
   "metadata": {
    "collapsed": true
   },
   "outputs": [],
   "source": [
    "station_locations = pd.DataFrame.from_dict(station_lcns_current_dict, orient='index')\n",
    "company_college_locations = pd.DataFrame.from_dict(company_and_college_lcns_current_dict, orient='index')\n",
    "station_locations.columns = ['Latitude', 'Longitude']\n",
    "company_college_locations.columns = ['Latitude', 'Longitude']"
   ]
  },
  {
   "cell_type": "code",
   "execution_count": null,
   "metadata": {},
   "outputs": [],
   "source": [
    "station_locations = station_locations.reindex(station_locations.index.rename('UNIQUE_STATION'))\n",
    "station_locations.head(10)"
   ]
  },
  {
   "cell_type": "code",
   "execution_count": 87,
   "metadata": {},
   "outputs": [
    {
     "data": {
      "text/html": [
       "<div>\n",
       "<style>\n",
       "    .dataframe thead tr:only-child th {\n",
       "        text-align: right;\n",
       "    }\n",
       "\n",
       "    .dataframe thead th {\n",
       "        text-align: left;\n",
       "    }\n",
       "\n",
       "    .dataframe tbody tr th {\n",
       "        vertical-align: top;\n",
       "    }\n",
       "</style>\n",
       "<table border=\"1\" class=\"dataframe\">\n",
       "  <thead>\n",
       "    <tr style=\"text-align: right;\">\n",
       "      <th></th>\n",
       "      <th>Latitude</th>\n",
       "      <th>Longitude</th>\n",
       "      <th>Product</th>\n",
       "      <th>Sum_again</th>\n",
       "    </tr>\n",
       "  </thead>\n",
       "  <tbody>\n",
       "    <tr>\n",
       "      <th>Amazon</th>\n",
       "      <td>40.749153</td>\n",
       "      <td>-73.985164</td>\n",
       "      <td>-33.236011</td>\n",
       "      <td>-33.236011</td>\n",
       "    </tr>\n",
       "    <tr>\n",
       "      <th>AOL</th>\n",
       "      <td>40.730601</td>\n",
       "      <td>-73.991522</td>\n",
       "      <td>-33.260921</td>\n",
       "      <td>-33.260921</td>\n",
       "    </tr>\n",
       "    <tr>\n",
       "      <th>Apple</th>\n",
       "      <td>40.881939</td>\n",
       "      <td>-73.988621</td>\n",
       "      <td>-33.106682</td>\n",
       "      <td>-33.106682</td>\n",
       "    </tr>\n",
       "    <tr>\n",
       "      <th>AppNexus</th>\n",
       "      <td>40.741897</td>\n",
       "      <td>-73.990914</td>\n",
       "      <td>-33.249017</td>\n",
       "      <td>-33.249017</td>\n",
       "    </tr>\n",
       "    <tr>\n",
       "      <th>Bloomberg</th>\n",
       "      <td>40.761749</td>\n",
       "      <td>-73.968004</td>\n",
       "      <td>-33.206255</td>\n",
       "      <td>-33.206255</td>\n",
       "    </tr>\n",
       "    <tr>\n",
       "      <th>Blue Apron 40 w 23rd St</th>\n",
       "      <td>40.742038</td>\n",
       "      <td>-73.991444</td>\n",
       "      <td>-33.249406</td>\n",
       "      <td>-33.249406</td>\n",
       "    </tr>\n",
       "    <tr>\n",
       "      <th>BuzzFeed</th>\n",
       "      <td>40.741526</td>\n",
       "      <td>-73.999885</td>\n",
       "      <td>-33.258359</td>\n",
       "      <td>-33.258359</td>\n",
       "    </tr>\n",
       "    <tr>\n",
       "      <th>ETrade</th>\n",
       "      <td>40.763017</td>\n",
       "      <td>-73.978952</td>\n",
       "      <td>-33.215935</td>\n",
       "      <td>-33.215935</td>\n",
       "    </tr>\n",
       "    <tr>\n",
       "      <th>Etsy</th>\n",
       "      <td>40.700582</td>\n",
       "      <td>-73.988146</td>\n",
       "      <td>-33.287563</td>\n",
       "      <td>-33.287563</td>\n",
       "    </tr>\n",
       "    <tr>\n",
       "      <th>Facebook</th>\n",
       "      <td>40.730596</td>\n",
       "      <td>-73.991525</td>\n",
       "      <td>-33.260929</td>\n",
       "      <td>-33.260929</td>\n",
       "    </tr>\n",
       "  </tbody>\n",
       "</table>\n",
       "</div>"
      ],
      "text/plain": [
       "                          Latitude  Longitude    Product  Sum_again\n",
       "Amazon                   40.749153 -73.985164 -33.236011 -33.236011\n",
       "AOL                      40.730601 -73.991522 -33.260921 -33.260921\n",
       "Apple                    40.881939 -73.988621 -33.106682 -33.106682\n",
       "AppNexus                 40.741897 -73.990914 -33.249017 -33.249017\n",
       "Bloomberg                40.761749 -73.968004 -33.206255 -33.206255\n",
       "Blue Apron 40 w 23rd St  40.742038 -73.991444 -33.249406 -33.249406\n",
       "BuzzFeed                 40.741526 -73.999885 -33.258359 -33.258359\n",
       "ETrade                   40.763017 -73.978952 -33.215935 -33.215935\n",
       "Etsy                     40.700582 -73.988146 -33.287563 -33.287563\n",
       "Facebook                 40.730596 -73.991525 -33.260929 -33.260929"
      ]
     },
     "execution_count": 87,
     "metadata": {},
     "output_type": "execute_result"
    }
   ],
   "source": [
    "company_college_locations.head(10)"
   ]
  },
  {
   "cell_type": "code",
   "execution_count": 47,
   "metadata": {},
   "outputs": [
    {
     "data": {
      "text/html": [
       "<div>\n",
       "<style>\n",
       "    .dataframe thead tr:only-child th {\n",
       "        text-align: right;\n",
       "    }\n",
       "\n",
       "    .dataframe thead th {\n",
       "        text-align: left;\n",
       "    }\n",
       "\n",
       "    .dataframe tbody tr th {\n",
       "        vertical-align: top;\n",
       "    }\n",
       "</style>\n",
       "<table border=\"1\" class=\"dataframe\">\n",
       "  <thead>\n",
       "    <tr style=\"text-align: right;\">\n",
       "      <th></th>\n",
       "      <th>ENTD_ABS</th>\n",
       "      <th>EXD_ABS</th>\n",
       "      <th>TOTAL_TRAFFIC</th>\n",
       "      <th>Latitude</th>\n",
       "      <th>Longitude</th>\n",
       "    </tr>\n",
       "    <tr>\n",
       "      <th>UNIQUE_STATION</th>\n",
       "      <th></th>\n",
       "      <th></th>\n",
       "      <th></th>\n",
       "      <th></th>\n",
       "      <th></th>\n",
       "    </tr>\n",
       "  </thead>\n",
       "  <tbody>\n",
       "    <tr>\n",
       "      <th>1 AV - L</th>\n",
       "      <td>640926.0</td>\n",
       "      <td>667674.0</td>\n",
       "      <td>1308600.0</td>\n",
       "      <td>40.762988</td>\n",
       "      <td>-73.967866</td>\n",
       "    </tr>\n",
       "    <tr>\n",
       "      <th>103 ST - 1</th>\n",
       "      <td>393661.0</td>\n",
       "      <td>187491.0</td>\n",
       "      <td>581152.0</td>\n",
       "      <td>40.790191</td>\n",
       "      <td>-73.947679</td>\n",
       "    </tr>\n",
       "    <tr>\n",
       "      <th>103 ST - 6</th>\n",
       "      <td>425559.0</td>\n",
       "      <td>351729.0</td>\n",
       "      <td>777288.0</td>\n",
       "      <td>40.790191</td>\n",
       "      <td>-73.947679</td>\n",
       "    </tr>\n",
       "    <tr>\n",
       "      <th>103 ST - BC</th>\n",
       "      <td>149106.0</td>\n",
       "      <td>106674.0</td>\n",
       "      <td>255780.0</td>\n",
       "      <td>40.749799</td>\n",
       "      <td>-73.862687</td>\n",
       "    </tr>\n",
       "    <tr>\n",
       "      <th>103 ST-CORONA - 7</th>\n",
       "      <td>646780.0</td>\n",
       "      <td>468924.0</td>\n",
       "      <td>1115704.0</td>\n",
       "      <td>40.749799</td>\n",
       "      <td>-73.862687</td>\n",
       "    </tr>\n",
       "    <tr>\n",
       "      <th>104 ST - A</th>\n",
       "      <td>53015.0</td>\n",
       "      <td>18517.0</td>\n",
       "      <td>71532.0</td>\n",
       "      <td>40.695178</td>\n",
       "      <td>-73.844330</td>\n",
       "    </tr>\n",
       "    <tr>\n",
       "      <th>104 ST - JZ</th>\n",
       "      <td>45125.0</td>\n",
       "      <td>6815.0</td>\n",
       "      <td>51940.0</td>\n",
       "      <td>40.695178</td>\n",
       "      <td>-73.844330</td>\n",
       "    </tr>\n",
       "    <tr>\n",
       "      <th>110 ST - 6</th>\n",
       "      <td>375173.0</td>\n",
       "      <td>292366.0</td>\n",
       "      <td>667539.0</td>\n",
       "      <td>40.804255</td>\n",
       "      <td>-73.966393</td>\n",
       "    </tr>\n",
       "    <tr>\n",
       "      <th>111 ST - 7</th>\n",
       "      <td>373148.0</td>\n",
       "      <td>250502.0</td>\n",
       "      <td>623650.0</td>\n",
       "      <td>40.751730</td>\n",
       "      <td>-73.855334</td>\n",
       "    </tr>\n",
       "    <tr>\n",
       "      <th>111 ST - A</th>\n",
       "      <td>70971.0</td>\n",
       "      <td>25324.0</td>\n",
       "      <td>96295.0</td>\n",
       "      <td>40.751730</td>\n",
       "      <td>-73.855334</td>\n",
       "    </tr>\n",
       "  </tbody>\n",
       "</table>\n",
       "</div>"
      ],
      "text/plain": [
       "                   ENTD_ABS   EXD_ABS  TOTAL_TRAFFIC   Latitude  Longitude\n",
       "UNIQUE_STATION                                                            \n",
       "1 AV - L           640926.0  667674.0      1308600.0  40.762988 -73.967866\n",
       "103 ST - 1         393661.0  187491.0       581152.0  40.790191 -73.947679\n",
       "103 ST - 6         425559.0  351729.0       777288.0  40.790191 -73.947679\n",
       "103 ST - BC        149106.0  106674.0       255780.0  40.749799 -73.862687\n",
       "103 ST-CORONA - 7  646780.0  468924.0      1115704.0  40.749799 -73.862687\n",
       "104 ST - A          53015.0   18517.0        71532.0  40.695178 -73.844330\n",
       "104 ST - JZ         45125.0    6815.0        51940.0  40.695178 -73.844330\n",
       "110 ST - 6         375173.0  292366.0       667539.0  40.804255 -73.966393\n",
       "111 ST - 7         373148.0  250502.0       623650.0  40.751730 -73.855334\n",
       "111 ST - A          70971.0   25324.0        96295.0  40.751730 -73.855334"
      ]
     },
     "execution_count": 47,
     "metadata": {},
     "output_type": "execute_result"
    }
   ],
   "source": [
    "may_station_traffic_with_location = may_station_traffic.join(station_locations)\n",
    "may_station_traffic_with_location.head(10)"
   ]
  },
  {
   "cell_type": "markdown",
   "metadata": {},
   "source": [
    "### Not sure yet where to put the following cell that creates a filtered DF for computations..."
   ]
  },
  {
   "cell_type": "markdown",
   "metadata": {},
   "source": [
    "This will change if we append location info to may_df beforehand."
   ]
  },
  {
   "cell_type": "code",
   "execution_count": null,
   "metadata": {
    "collapsed": true
   },
   "outputs": [],
   "source": [
    "may_station_traffic = may_df.groupby('UNIQUE_STATION')['ENTRIES_DIFF_ABS', 'EXITS_DIFF_ABS'].sum()\n",
    "may_station_traffic['TOTAL_TRAFFIC'] = may_station_traffic['ENTD_ABS'] + may_station_traffic['EXD_ABS']\n",
    "may_station_traffic.head(10)\n",
    "# may_station_traffic_total = may_station_traffic['ENTD_ABS'] + may_station_traffic['EXD_ABS']\n",
    "# may_station_traffic_total.sort_values(ascending=False).head(50)"
   ]
  },
  {
   "cell_type": "code",
   "execution_count": 95,
   "metadata": {},
   "outputs": [],
   "source": [
    "practice_df = copy.deepcopy(may_station_traffic_with_location)"
   ]
  },
  {
   "cell_type": "code",
   "execution_count": 49,
   "metadata": {
    "collapsed": true
   },
   "outputs": [],
   "source": [
    "Penn123_lat = practice_df.loc['34 ST-PENN STA - 123', 'Latitude']\n",
    "Penn123_lng = practice_df.loc['34 ST-PENN STA - 123', 'Longitude']"
   ]
  },
  {
   "cell_type": "code",
   "execution_count": 58,
   "metadata": {},
   "outputs": [],
   "source": [
    "def calculate_distance(lat1, lng1, lat2, lng2):\n",
    "    \"\"\"Takes the latitude and longitude of two points, calculates distance, and returns \n",
    "    it in miles.\n",
    "    ---\n",
    "    IN: Two pairs of lat/lng (int or float)\n",
    "    OUT: Distance between in miles (float)\n",
    "    \"\"\"\n",
    "    \n",
    "    ll_1 = (lat1, lng1)\n",
    "    ll_2 = (lat2, lng2)\n",
    "    \n",
    "    return vincenty(ll_1,ll_2).miles"
   ]
  },
  {
   "cell_type": "code",
   "execution_count": 110,
   "metadata": {},
   "outputs": [],
   "source": [
    "# a couple different ways of weighting a station based on proximity to companies/colleges\n",
    "\n",
    "def find_weight1(dist):\n",
    "    \"\"\"Returns a number from 0-1 based on distance between station and company/college,\n",
    "    favoring closer distances and discounting anything farther than 1 mile away.\n",
    "    ---\n",
    "    IN: Distance in miles (int or float)\n",
    "    OUT: Weight between 0 and 1 (int or float)\n",
    "    \"\"\"\n",
    "    if 0 < dist <= 0.25:\n",
    "        weight = 1\n",
    "    elif 0.25 < dist <= 0.5:\n",
    "        weight = 0.75\n",
    "    elif 0.5 < dist <= 0.75:\n",
    "        weight = 0.5\n",
    "    elif 0.75 < dist <= 1:\n",
    "        weight = 0.25\n",
    "    else:\n",
    "        weight = 0\n",
    "    \n",
    "    return weight\n",
    "\n",
    "def find_weight2(dist):\n",
    "    \"\"\"Returns a number from 0-1 based on a curve we thought might represent the \n",
    "    likelihood that someone at a particular company/college would use the \n",
    "    corresponding station. It is completely subjective and has no correlation with\n",
    "    any collected or observed data whatsoever, so justifying its use would be \n",
    "    difficult. Still, we were curious to see how it might work, so we coded it up\n",
    "    as an option.\n",
    "    ---\n",
    "    IN: Distance in miles (int or float)\n",
    "    OUT: Weight between 0 and 1 (float)\n",
    "\n",
    "    \"\"\"\n",
    "    \n",
    "    return 1 - (1 - 1/50**dist)**4"
   ]
  },
  {
   "cell_type": "code",
   "execution_count": 147,
   "metadata": {
    "scrolled": true
   },
   "outputs": [],
   "source": [
    "def station_weight(s_lat, s_lng):\n",
    "    \"\"\"To be applied to the stations DF to find cumulative weighting for each\n",
    "    station based on proximity to companies/colleges of interest.\n",
    "    ---\n",
    "    IN: DF row (series obj)\n",
    "    OUT: Cumulative weight (float)\"\"\"\n",
    "    \n",
    "    if s_lat is np.nan:\n",
    "        return np.nan\n",
    "    \n",
    "    weight_list = []\n",
    "    \n",
    "    for row in company_college_locations.iterrows():\n",
    "        c_lat = row[1][0]\n",
    "        c_lng = row[1][1]\n",
    "        dist = calculate_distance(s_lat, s_lng, c_lat, c_lng)\n",
    "\n",
    "        # change formula name to use \n",
    "        weight = find_weight1(dist)\n",
    "        weight_list.append(weight)\n",
    "\n",
    "    cumulative_weight = np.sum(weight_list)\n",
    "    \n",
    "    return cumulative_weight"
   ]
  },
  {
   "cell_type": "code",
   "execution_count": 148,
   "metadata": {
    "scrolled": true
   },
   "outputs": [
    {
     "data": {
      "text/plain": [
       "16.25"
      ]
     },
     "execution_count": 148,
     "metadata": {},
     "output_type": "execute_result"
    }
   ],
   "source": [
    "station_weight(Penn123_lat, Penn123_lng)"
   ]
  },
  {
   "cell_type": "code",
   "execution_count": 181,
   "metadata": {},
   "outputs": [
    {
     "data": {
      "text/plain": [
       "dtype('float64')"
      ]
     },
     "execution_count": 181,
     "metadata": {},
     "output_type": "execute_result"
    }
   ],
   "source": [
    "# practice_df['Weight'] = practice_df.apply(lambda row: station_weight(row['Latitude'], row['Longitude']), axis=1)\n",
    "practice_df['Latitude'].dtype"
   ]
  },
  {
   "cell_type": "code",
   "execution_count": 154,
   "metadata": {
    "collapsed": true
   },
   "outputs": [],
   "source": [
    "ccl_test = copy.deepcopy(company_college_locations)"
   ]
  },
  {
   "cell_type": "code",
   "execution_count": 155,
   "metadata": {},
   "outputs": [
    {
     "data": {
      "text/html": [
       "<div>\n",
       "<style>\n",
       "    .dataframe thead tr:only-child th {\n",
       "        text-align: right;\n",
       "    }\n",
       "\n",
       "    .dataframe thead th {\n",
       "        text-align: left;\n",
       "    }\n",
       "\n",
       "    .dataframe tbody tr th {\n",
       "        vertical-align: top;\n",
       "    }\n",
       "</style>\n",
       "<table border=\"1\" class=\"dataframe\">\n",
       "  <thead>\n",
       "    <tr style=\"text-align: right;\">\n",
       "      <th></th>\n",
       "      <th>Latitude</th>\n",
       "      <th>Longitude</th>\n",
       "      <th>New</th>\n",
       "    </tr>\n",
       "  </thead>\n",
       "  <tbody>\n",
       "    <tr>\n",
       "      <th>Amazon</th>\n",
       "      <td>40.749153</td>\n",
       "      <td>-73.985164</td>\n",
       "      <td>-33.236011</td>\n",
       "    </tr>\n",
       "    <tr>\n",
       "      <th>AOL</th>\n",
       "      <td>40.730601</td>\n",
       "      <td>-73.991522</td>\n",
       "      <td>-33.260921</td>\n",
       "    </tr>\n",
       "    <tr>\n",
       "      <th>Apple</th>\n",
       "      <td>40.881939</td>\n",
       "      <td>-73.988621</td>\n",
       "      <td>-33.106682</td>\n",
       "    </tr>\n",
       "    <tr>\n",
       "      <th>AppNexus</th>\n",
       "      <td>40.741897</td>\n",
       "      <td>-73.990914</td>\n",
       "      <td>-33.249017</td>\n",
       "    </tr>\n",
       "    <tr>\n",
       "      <th>Bloomberg</th>\n",
       "      <td>40.761749</td>\n",
       "      <td>-73.968004</td>\n",
       "      <td>-33.206255</td>\n",
       "    </tr>\n",
       "    <tr>\n",
       "      <th>Blue Apron 40 w 23rd St</th>\n",
       "      <td>40.742038</td>\n",
       "      <td>-73.991444</td>\n",
       "      <td>-33.249406</td>\n",
       "    </tr>\n",
       "    <tr>\n",
       "      <th>BuzzFeed</th>\n",
       "      <td>40.741526</td>\n",
       "      <td>-73.999885</td>\n",
       "      <td>-33.258359</td>\n",
       "    </tr>\n",
       "    <tr>\n",
       "      <th>ETrade</th>\n",
       "      <td>40.763017</td>\n",
       "      <td>-73.978952</td>\n",
       "      <td>-33.215935</td>\n",
       "    </tr>\n",
       "    <tr>\n",
       "      <th>Etsy</th>\n",
       "      <td>40.700582</td>\n",
       "      <td>-73.988146</td>\n",
       "      <td>-33.287563</td>\n",
       "    </tr>\n",
       "    <tr>\n",
       "      <th>Facebook</th>\n",
       "      <td>40.730596</td>\n",
       "      <td>-73.991525</td>\n",
       "      <td>-33.260929</td>\n",
       "    </tr>\n",
       "  </tbody>\n",
       "</table>\n",
       "</div>"
      ],
      "text/plain": [
       "                          Latitude  Longitude        New\n",
       "Amazon                   40.749153 -73.985164 -33.236011\n",
       "AOL                      40.730601 -73.991522 -33.260921\n",
       "Apple                    40.881939 -73.988621 -33.106682\n",
       "AppNexus                 40.741897 -73.990914 -33.249017\n",
       "Bloomberg                40.761749 -73.968004 -33.206255\n",
       "Blue Apron 40 w 23rd St  40.742038 -73.991444 -33.249406\n",
       "BuzzFeed                 40.741526 -73.999885 -33.258359\n",
       "ETrade                   40.763017 -73.978952 -33.215935\n",
       "Etsy                     40.700582 -73.988146 -33.287563\n",
       "Facebook                 40.730596 -73.991525 -33.260929"
      ]
     },
     "execution_count": 155,
     "metadata": {},
     "output_type": "execute_result"
    }
   ],
   "source": [
    "def sum_ll(a, b):\n",
    "    return a + b\n",
    "\n",
    "def div_by_two(a, b):\n",
    "    return pd.Series((a/2, b/2))\n",
    "    \n",
    "ccl_test['New'] = ccl_test.apply(lambda row: sum_ll(row['Latitude'], row['Longitude']), axis=1)\n",
    "# pd.concat([ccl_test, ccl_test.apply(lambda row: div_by_two(row['Latitude'], row['Longitude']), axis=1)])\n",
    "ccl_test.head(10)"
   ]
  },
  {
   "cell_type": "code",
   "execution_count": null,
   "metadata": {
    "collapsed": true
   },
   "outputs": [],
   "source": []
  }
 ],
 "metadata": {
  "kernelspec": {
   "display_name": "Python [default]",
   "language": "python",
   "name": "python3"
  },
  "language_info": {
   "codemirror_mode": {
    "name": "ipython",
    "version": 3
   },
   "file_extension": ".py",
   "mimetype": "text/x-python",
   "name": "python",
   "nbconvert_exporter": "python",
   "pygments_lexer": "ipython3",
   "version": "3.5.4"
  }
 },
 "nbformat": 4,
 "nbformat_minor": 2
}
