{
 "cells": [
  {
   "cell_type": "markdown",
   "metadata": {},
   "source": [
    "# 0.6 McNulty — Merging Building Permit Data"
   ]
  },
  {
   "cell_type": "code",
   "execution_count": 1,
   "metadata": {
    "collapsed": true
   },
   "outputs": [],
   "source": [
    "import mcnultymod\n",
    "import pandas as pd\n",
    "import numpy as np\n",
    "import matplotlib.pyplot as plt\n",
    "from mpl_toolkits.basemap import Basemap\n",
    "import seaborn as sns\n",
    "plt.style.use('seaborn')\n",
    "%matplotlib inline\n",
    "from geopy.distance import vincenty\n",
    "\n",
    "import pickle\n",
    "\n",
    "from datetime import datetime, timedelta, date"
   ]
  },
  {
   "cell_type": "code",
   "execution_count": 2,
   "metadata": {
    "collapsed": true
   },
   "outputs": [],
   "source": [
    "auctions = pd.read_pickle('../data/auctionsclosed.pkl')"
   ]
  },
  {
   "cell_type": "code",
   "execution_count": 3,
   "metadata": {},
   "outputs": [
    {
     "data": {
      "text/html": [
       "<div>\n",
       "<style>\n",
       "    .dataframe thead tr:only-child th {\n",
       "        text-align: right;\n",
       "    }\n",
       "\n",
       "    .dataframe thead th {\n",
       "        text-align: left;\n",
       "    }\n",
       "\n",
       "    .dataframe tbody tr th {\n",
       "        vertical-align: top;\n",
       "    }\n",
       "</style>\n",
       "<table border=\"1\" class=\"dataframe\">\n",
       "  <thead>\n",
       "    <tr style=\"text-align: right;\">\n",
       "      <th></th>\n",
       "      <th>address</th>\n",
       "      <th>parcelid</th>\n",
       "      <th>price</th>\n",
       "      <th>closingdate</th>\n",
       "      <th>salestatus</th>\n",
       "      <th>buyerstatus</th>\n",
       "      <th>purchasertype</th>\n",
       "      <th>program</th>\n",
       "      <th>councildistrict</th>\n",
       "      <th>neighborhood</th>\n",
       "      <th>latitude</th>\n",
       "      <th>longitude</th>\n",
       "      <th>location</th>\n",
       "    </tr>\n",
       "  </thead>\n",
       "  <tbody>\n",
       "    <tr>\n",
       "      <th>715</th>\n",
       "      <td>2499 Longfellow</td>\n",
       "      <td>10002638.</td>\n",
       "      <td>29100.0</td>\n",
       "      <td>2014-06-12</td>\n",
       "      <td>Closed</td>\n",
       "      <td>Selected</td>\n",
       "      <td>Homebuyer</td>\n",
       "      <td>Auction</td>\n",
       "      <td>5</td>\n",
       "      <td>Boston Edison</td>\n",
       "      <td>42.375830</td>\n",
       "      <td>-83.108916</td>\n",
       "      <td>location\\n(42.37583, -83.108916)</td>\n",
       "    </tr>\n",
       "    <tr>\n",
       "      <th>633</th>\n",
       "      <td>5811 Grayton</td>\n",
       "      <td>21074175.</td>\n",
       "      <td>10500.0</td>\n",
       "      <td>2014-07-10</td>\n",
       "      <td>Closed</td>\n",
       "      <td>Selected</td>\n",
       "      <td>Homebuyer</td>\n",
       "      <td>Auction</td>\n",
       "      <td>4</td>\n",
       "      <td>East English Village</td>\n",
       "      <td>42.411569</td>\n",
       "      <td>-82.936629</td>\n",
       "      <td>location\\n(42.411569, -82.936629)</td>\n",
       "    </tr>\n",
       "    <tr>\n",
       "      <th>595</th>\n",
       "      <td>16905 Chandler Park Dr</td>\n",
       "      <td>21009371-2</td>\n",
       "      <td>8200.0</td>\n",
       "      <td>2014-07-23</td>\n",
       "      <td>Closed</td>\n",
       "      <td>Selected</td>\n",
       "      <td>Homebuyer</td>\n",
       "      <td>Auction</td>\n",
       "      <td>4</td>\n",
       "      <td>East English Village</td>\n",
       "      <td>42.410584</td>\n",
       "      <td>-82.935297</td>\n",
       "      <td>location\\n(42.410584, -82.935297)</td>\n",
       "    </tr>\n",
       "    <tr>\n",
       "      <th>181</th>\n",
       "      <td>6008 Auburn</td>\n",
       "      <td>22092071.</td>\n",
       "      <td>4600.0</td>\n",
       "      <td>2014-07-30</td>\n",
       "      <td>Closed</td>\n",
       "      <td>Selected</td>\n",
       "      <td>Homebuyer</td>\n",
       "      <td>Auction</td>\n",
       "      <td>7</td>\n",
       "      <td>Warrendale</td>\n",
       "      <td>42.332545</td>\n",
       "      <td>-83.232177</td>\n",
       "      <td>location\\n(42.332545, -83.232177)</td>\n",
       "    </tr>\n",
       "    <tr>\n",
       "      <th>614</th>\n",
       "      <td>4690 Devonshire</td>\n",
       "      <td>21070427.</td>\n",
       "      <td>7000.0</td>\n",
       "      <td>2014-08-06</td>\n",
       "      <td>Closed</td>\n",
       "      <td>Selected</td>\n",
       "      <td>Investor</td>\n",
       "      <td>Auction</td>\n",
       "      <td>4</td>\n",
       "      <td>Morningside</td>\n",
       "      <td>42.399628</td>\n",
       "      <td>-82.940238</td>\n",
       "      <td>location\\n(42.399628, -82.940238)</td>\n",
       "    </tr>\n",
       "  </tbody>\n",
       "</table>\n",
       "</div>"
      ],
      "text/plain": [
       "                    address    parcelid    price closingdate salestatus  \\\n",
       "715         2499 Longfellow   10002638.  29100.0  2014-06-12     Closed   \n",
       "633            5811 Grayton   21074175.  10500.0  2014-07-10     Closed   \n",
       "595  16905 Chandler Park Dr  21009371-2   8200.0  2014-07-23     Closed   \n",
       "181             6008 Auburn   22092071.   4600.0  2014-07-30     Closed   \n",
       "614         4690 Devonshire   21070427.   7000.0  2014-08-06     Closed   \n",
       "\n",
       "    buyerstatus purchasertype  program  councildistrict          neighborhood  \\\n",
       "715    Selected     Homebuyer  Auction                5         Boston Edison   \n",
       "633    Selected     Homebuyer  Auction                4  East English Village   \n",
       "595    Selected     Homebuyer  Auction                4  East English Village   \n",
       "181    Selected     Homebuyer  Auction                7            Warrendale   \n",
       "614    Selected      Investor  Auction                4           Morningside   \n",
       "\n",
       "      latitude  longitude                           location  \n",
       "715  42.375830 -83.108916   location\\n(42.37583, -83.108916)  \n",
       "633  42.411569 -82.936629  location\\n(42.411569, -82.936629)  \n",
       "595  42.410584 -82.935297  location\\n(42.410584, -82.935297)  \n",
       "181  42.332545 -83.232177  location\\n(42.332545, -83.232177)  \n",
       "614  42.399628 -82.940238  location\\n(42.399628, -82.940238)  "
      ]
     },
     "execution_count": 3,
     "metadata": {},
     "output_type": "execute_result"
    }
   ],
   "source": [
    "auctions.sort_values(by='closingdate').head()"
   ]
  },
  {
   "cell_type": "code",
   "execution_count": 4,
   "metadata": {
    "collapsed": true
   },
   "outputs": [],
   "source": [
    "cnx = mcnultymod.connect_to_sql('52.14.0.197')"
   ]
  },
  {
   "cell_type": "code",
   "execution_count": 5,
   "metadata": {
    "collapsed": true
   },
   "outputs": [],
   "source": [
    "permits = pd.read_sql_query('''\n",
    "    SELECT auctionsclosed.parcelid AS parcelid,\n",
    "       dateissued,\n",
    "       estimatedcost,\n",
    "       parcelsize,\n",
    "       bldpermittype,\n",
    "       bldtypeuse,\n",
    "       owner_city,\n",
    "       owner_state\n",
    "    FROM auctionsclosed\n",
    "    JOIN buildingpermits\n",
    "    ON auctionsclosed.parcelid = buildingpermits.parcelid\n",
    "    WHERE dateissued > '2014-06-01'\n",
    "    ; \n",
    "    ''', cnx)"
   ]
  },
  {
   "cell_type": "code",
   "execution_count": 6,
   "metadata": {},
   "outputs": [
    {
     "data": {
      "text/plain": [
       "(428, 8)"
      ]
     },
     "execution_count": 6,
     "metadata": {},
     "output_type": "execute_result"
    }
   ],
   "source": [
    "permits.shape"
   ]
  },
  {
   "cell_type": "code",
   "execution_count": 7,
   "metadata": {},
   "outputs": [
    {
     "name": "stdout",
     "output_type": "stream",
     "text": [
      "<class 'pandas.core.frame.DataFrame'>\n",
      "RangeIndex: 428 entries, 0 to 427\n",
      "Data columns (total 8 columns):\n",
      "parcelid         428 non-null object\n",
      "dateissued       428 non-null object\n",
      "estimatedcost    416 non-null object\n",
      "parcelsize       428 non-null float64\n",
      "bldpermittype    426 non-null object\n",
      "bldtypeuse       427 non-null object\n",
      "owner_city       428 non-null object\n",
      "owner_state      428 non-null object\n",
      "dtypes: float64(1), object(7)\n",
      "memory usage: 26.8+ KB\n"
     ]
    }
   ],
   "source": [
    "permits.info()"
   ]
  },
  {
   "cell_type": "code",
   "execution_count": 8,
   "metadata": {
    "collapsed": true
   },
   "outputs": [],
   "source": [
    "permits.estimatedcost = permits.loc[:, 'estimatedcost'].apply(lambda c: mcnultymod.convert_cash(c))"
   ]
  },
  {
   "cell_type": "code",
   "execution_count": 9,
   "metadata": {},
   "outputs": [
    {
     "data": {
      "text/plain": [
       "One Family Dwelling    376\n",
       "Two Family Dwelling     37\n",
       "Multiple Dwelling       11\n",
       "Private Garage           2\n",
       "Commercial Building      1\n",
       "Name: bldtypeuse, dtype: int64"
      ]
     },
     "execution_count": 9,
     "metadata": {},
     "output_type": "execute_result"
    }
   ],
   "source": [
    "permits.bldtypeuse.value_counts()"
   ]
  },
  {
   "cell_type": "code",
   "execution_count": 10,
   "metadata": {
    "scrolled": true
   },
   "outputs": [
    {
     "data": {
      "text/plain": [
       "DETROIT              341\n",
       "SOUTHFIELD            11\n",
       "DEARBORN               9\n",
       "WARREN                 4\n",
       "TAYLOR                 3\n",
       "WESTLAND               2\n",
       "LOS ANGELES            2\n",
       "SHELBY TWP             2\n",
       "SAN DIEGO              2\n",
       "YPSILANTI              2\n",
       "LIVONIA                2\n",
       "SAN FRANCISCO          2\n",
       "EASTPOINTE             2\n",
       "DEARBORN HEIGHTS       2\n",
       "ANN ARBOR              2\n",
       "MIAMI                  2\n",
       "LEWISVILLE             1\n",
       "MT. PLEASANT           1\n",
       "HAMTRAMCK              1\n",
       "ROCHESTER HILLS        1\n",
       "DEARBORN HGHS          1\n",
       "GILBERT                1\n",
       "PLYMOUTH               1\n",
       "TROY                   1\n",
       "W. BLOOMFIELD          1\n",
       "OAK PARK               1\n",
       "SANTA ANA              1\n",
       "STERLING HEIGHTS       1\n",
       "SAN FRANSICO           1\n",
       "CLAWSON                1\n",
       "CANTON                 1\n",
       "SAN JOSE               1\n",
       "DEARBORN HGTS          1\n",
       "SUMMERVILLE            1\n",
       "VAN BUREN TWP          1\n",
       "MIAMISBURG             1\n",
       "HIGHLAND PARK          1\n",
       "COMMERCE               1\n",
       "MADISON HEIGHTS        1\n",
       "BROWNSTOWN             1\n",
       "ERIE                   1\n",
       "ORION                  1\n",
       "HONEYDEW               1\n",
       "PLEASANT RIDGE         1\n",
       "ROYAL OAK              1\n",
       "ROSEVILLE              1\n",
       "FERNDALE               1\n",
       "BELLEVILLE             1\n",
       "N EASTON               1\n",
       "CASTALIAN SPRINGS      1\n",
       "GROSSE ILE             1\n",
       "LAKE ORION             1\n",
       "WYANDOTTE              1\n",
       "GRAND BLANC            1\n",
       "Name: owner_city, dtype: int64"
      ]
     },
     "execution_count": 10,
     "metadata": {},
     "output_type": "execute_result"
    }
   ],
   "source": [
    "permits.owner_city.value_counts()"
   ]
  },
  {
   "cell_type": "code",
   "execution_count": 11,
   "metadata": {
    "scrolled": true
   },
   "outputs": [
    {
     "data": {
      "text/plain": [
       "Alterations            300\n",
       "Repairs                 73\n",
       "Alterations Revised     20\n",
       "Dismantle               11\n",
       "Change of Use            6\n",
       "Repair Fire              5\n",
       "Change of Occupancy      4\n",
       "New                      3\n",
       "Additions                3\n",
       "Reduce Occupancy         1\n",
       "Name: bldpermittype, dtype: int64"
      ]
     },
     "execution_count": 11,
     "metadata": {},
     "output_type": "execute_result"
    }
   ],
   "source": [
    "permits.bldpermittype.value_counts()"
   ]
  },
  {
   "cell_type": "markdown",
   "metadata": {},
   "source": [
    "Bin **owner_city** into Detroit (1) / not-Detroit (0)"
   ]
  },
  {
   "cell_type": "code",
   "execution_count": 12,
   "metadata": {},
   "outputs": [
    {
     "name": "stderr",
     "output_type": "stream",
     "text": [
      "/Users/dluther/anaconda/lib/python3.6/site-packages/ipykernel/__main__.py:2: SettingWithCopyWarning: \n",
      "A value is trying to be set on a copy of a slice from a DataFrame\n",
      "\n",
      "See the caveats in the documentation: http://pandas.pydata.org/pandas-docs/stable/indexing.html#indexing-view-versus-copy\n",
      "  from ipykernel import kernelapp as app\n"
     ]
    }
   ],
   "source": [
    "permits['oc_bin'] = 0\n",
    "permits.oc_bin[permits.owner_city == 'DETROIT'] = 1"
   ]
  },
  {
   "cell_type": "markdown",
   "metadata": {},
   "source": [
    "Bin **owner_state** into MI (1) / not-MI (0)"
   ]
  },
  {
   "cell_type": "code",
   "execution_count": 13,
   "metadata": {},
   "outputs": [
    {
     "name": "stderr",
     "output_type": "stream",
     "text": [
      "/Users/dluther/anaconda/lib/python3.6/site-packages/ipykernel/__main__.py:2: SettingWithCopyWarning: \n",
      "A value is trying to be set on a copy of a slice from a DataFrame\n",
      "\n",
      "See the caveats in the documentation: http://pandas.pydata.org/pandas-docs/stable/indexing.html#indexing-view-versus-copy\n",
      "  from ipykernel import kernelapp as app\n"
     ]
    }
   ],
   "source": [
    "permits['os_bin'] = 0\n",
    "permits.os_bin[permits.owner_state == 'MI'] = 1"
   ]
  },
  {
   "cell_type": "code",
   "execution_count": 14,
   "metadata": {},
   "outputs": [
    {
     "data": {
      "text/html": [
       "<div>\n",
       "<style>\n",
       "    .dataframe thead tr:only-child th {\n",
       "        text-align: right;\n",
       "    }\n",
       "\n",
       "    .dataframe thead th {\n",
       "        text-align: left;\n",
       "    }\n",
       "\n",
       "    .dataframe tbody tr th {\n",
       "        vertical-align: top;\n",
       "    }\n",
       "</style>\n",
       "<table border=\"1\" class=\"dataframe\">\n",
       "  <thead>\n",
       "    <tr style=\"text-align: right;\">\n",
       "      <th></th>\n",
       "      <th>parcelid</th>\n",
       "      <th>dateissued</th>\n",
       "      <th>estimatedcost</th>\n",
       "      <th>parcelsize</th>\n",
       "      <th>bldpermittype</th>\n",
       "      <th>bldtypeuse</th>\n",
       "      <th>owner_city</th>\n",
       "      <th>owner_state</th>\n",
       "      <th>oc_bin</th>\n",
       "      <th>os_bin</th>\n",
       "    </tr>\n",
       "  </thead>\n",
       "  <tbody>\n",
       "    <tr>\n",
       "      <th>0</th>\n",
       "      <td>08003105.</td>\n",
       "      <td>2016-05-05</td>\n",
       "      <td>60000.0</td>\n",
       "      <td>8964.0</td>\n",
       "      <td>Alterations</td>\n",
       "      <td>One Family Dwelling</td>\n",
       "      <td>DETROIT</td>\n",
       "      <td>MI</td>\n",
       "      <td>1</td>\n",
       "      <td>1</td>\n",
       "    </tr>\n",
       "    <tr>\n",
       "      <th>1</th>\n",
       "      <td>10001768.</td>\n",
       "      <td>2017-02-01</td>\n",
       "      <td>6742.0</td>\n",
       "      <td>5140.0</td>\n",
       "      <td>Alterations</td>\n",
       "      <td>Multiple Dwelling</td>\n",
       "      <td>LEWISVILLE</td>\n",
       "      <td>TX</td>\n",
       "      <td>0</td>\n",
       "      <td>0</td>\n",
       "    </tr>\n",
       "    <tr>\n",
       "      <th>2</th>\n",
       "      <td>03002686.</td>\n",
       "      <td>2017-02-07</td>\n",
       "      <td>1000.0</td>\n",
       "      <td>10716.0</td>\n",
       "      <td>Alterations</td>\n",
       "      <td>One Family Dwelling</td>\n",
       "      <td>DETROIT</td>\n",
       "      <td>MI</td>\n",
       "      <td>1</td>\n",
       "      <td>1</td>\n",
       "    </tr>\n",
       "    <tr>\n",
       "      <th>3</th>\n",
       "      <td>21056239.</td>\n",
       "      <td>2016-05-18</td>\n",
       "      <td>40000.0</td>\n",
       "      <td>5619.0</td>\n",
       "      <td>Alterations Revised</td>\n",
       "      <td>One Family Dwelling</td>\n",
       "      <td>DEARBORN</td>\n",
       "      <td>MI</td>\n",
       "      <td>0</td>\n",
       "      <td>1</td>\n",
       "    </tr>\n",
       "    <tr>\n",
       "      <th>4</th>\n",
       "      <td>01002440.</td>\n",
       "      <td>2017-02-08</td>\n",
       "      <td>23000.0</td>\n",
       "      <td>4400.0</td>\n",
       "      <td>Alterations</td>\n",
       "      <td>One Family Dwelling</td>\n",
       "      <td>DETROIT</td>\n",
       "      <td>MI</td>\n",
       "      <td>1</td>\n",
       "      <td>1</td>\n",
       "    </tr>\n",
       "  </tbody>\n",
       "</table>\n",
       "</div>"
      ],
      "text/plain": [
       "    parcelid  dateissued  estimatedcost  parcelsize        bldpermittype  \\\n",
       "0  08003105.  2016-05-05        60000.0      8964.0          Alterations   \n",
       "1  10001768.  2017-02-01         6742.0      5140.0          Alterations   \n",
       "2  03002686.  2017-02-07         1000.0     10716.0          Alterations   \n",
       "3  21056239.  2016-05-18        40000.0      5619.0  Alterations Revised   \n",
       "4  01002440.  2017-02-08        23000.0      4400.0          Alterations   \n",
       "\n",
       "            bldtypeuse  owner_city owner_state  oc_bin  os_bin  \n",
       "0  One Family Dwelling     DETROIT          MI       1       1  \n",
       "1    Multiple Dwelling  LEWISVILLE          TX       0       0  \n",
       "2  One Family Dwelling     DETROIT          MI       1       1  \n",
       "3  One Family Dwelling    DEARBORN          MI       0       1  \n",
       "4  One Family Dwelling     DETROIT          MI       1       1  "
      ]
     },
     "execution_count": 14,
     "metadata": {},
     "output_type": "execute_result"
    }
   ],
   "source": [
    "permits.head()"
   ]
  },
  {
   "cell_type": "code",
   "execution_count": 15,
   "metadata": {},
   "outputs": [
    {
     "data": {
      "text/plain": [
       "''"
      ]
     },
     "execution_count": 15,
     "metadata": {},
     "output_type": "execute_result"
    },
    {
     "data": {
      "image/png": "[encoded data removed]",
      "text/plain": [
       "<matplotlib.figure.Figure at 0x11010a240>"
      ]
     },
     "metadata": {},
     "output_type": "display_data"
    }
   ],
   "source": [
    "x = permits.estimatedcost.dropna()\n",
    "\n",
    "x_line1 = [35000] * 7\n",
    "y_line1 = [i*25 for i in range(7)]\n",
    "x_line2 = [90000] * 7\n",
    "y_line2 = [i*25 for i in range(7)]\n",
    "\n",
    "plt.figure(figsize=(16,8))\n",
    "plt.hist(x, bins=50, range=[0,200000])\n",
    "plt.plot(x_line1, y_line1, 'r-')\n",
    "plt.plot(x_line2, y_line2, 'r-')\n",
    "# plt.xticks([n*5 for n in range(21)])\n",
    "# plt.xlabel(\"Neighborhood Counts\", fontsize=12)\n",
    "# plt.ylabel(\"Frequency\", fontsize=12)\n",
    "# plt.title(\"Histogram of Neighborhood Occurrences\", fontsize=18)\n",
    ";"
   ]
  },
  {
   "cell_type": "markdown",
   "metadata": {
    "collapsed": true
   },
   "source": [
    "Possible point for binning if this variable is used"
   ]
  },
  {
   "cell_type": "code",
   "execution_count": 16,
   "metadata": {},
   "outputs": [
    {
     "data": {
      "text/plain": [
       "''"
      ]
     },
     "execution_count": 16,
     "metadata": {},
     "output_type": "execute_result"
    },
    {
     "data": {
      "image/png": "[encoded data removed]",
      "text/plain": [
       "<matplotlib.figure.Figure at 0x11030beb8>"
      ]
     },
     "metadata": {},
     "output_type": "display_data"
    }
   ],
   "source": [
    "x = permits.parcelsize\n",
    "\n",
    "# x_line1 = [35000] * 7\n",
    "# y_line1 = [i*25 for i in range(7)]\n",
    "# x_line2 = [90000] * 7\n",
    "# y_line2 = [i*25 for i in range(7)]\n",
    "\n",
    "plt.figure(figsize=(16,8))\n",
    "plt.hist(x, bins=20)\n",
    "# plt.plot(x_line1, y_line1, 'r-')\n",
    "# plt.plot(x_line2, y_line2, 'r-')\n",
    "# plt.xticks([n*5 for n in range(21)])\n",
    "# plt.xlabel(\"Neighborhood Counts\", fontsize=12)\n",
    "# plt.ylabel(\"Frequency\", fontsize=12)\n",
    "# plt.title(\"Histogram of Neighborhood Occurrences\", fontsize=18)\n",
    ";"
   ]
  },
  {
   "cell_type": "code",
   "execution_count": 17,
   "metadata": {},
   "outputs": [
    {
     "data": {
      "text/plain": [
       "parcelid   dateissued\n",
       "06002469.  2015-08-05    2\n",
       "22091697.  2016-09-21    2\n",
       "22121208.  2017-07-26    1\n",
       "16033834.  2015-11-12    1\n",
       "16030339.  2014-10-01    1\n",
       "Name: parcelsize, dtype: int64"
      ]
     },
     "execution_count": 17,
     "metadata": {},
     "output_type": "execute_result"
    }
   ],
   "source": [
    "permits.groupby(['parcelid', 'dateissued']).parcelsize.count().sort_values(ascending=False).head()"
   ]
  },
  {
   "cell_type": "code",
   "execution_count": 18,
   "metadata": {
    "collapsed": true
   },
   "outputs": [],
   "source": [
    "permits.to_pickle('../data/permits_sub.pkl')"
   ]
  },
  {
   "cell_type": "markdown",
   "metadata": {},
   "source": [
    "### Merging Select Permit Info with Auctions"
   ]
  },
  {
   "cell_type": "code",
   "execution_count": 19,
   "metadata": {},
   "outputs": [
    {
     "data": {
      "text/html": [
       "<div>\n",
       "<style>\n",
       "    .dataframe thead tr:only-child th {\n",
       "        text-align: right;\n",
       "    }\n",
       "\n",
       "    .dataframe thead th {\n",
       "        text-align: left;\n",
       "    }\n",
       "\n",
       "    .dataframe tbody tr th {\n",
       "        vertical-align: top;\n",
       "    }\n",
       "</style>\n",
       "<table border=\"1\" class=\"dataframe\">\n",
       "  <thead>\n",
       "    <tr style=\"text-align: right;\">\n",
       "      <th></th>\n",
       "      <th>address</th>\n",
       "      <th>parcelid</th>\n",
       "      <th>price</th>\n",
       "      <th>closingdate</th>\n",
       "      <th>salestatus</th>\n",
       "      <th>buyerstatus</th>\n",
       "      <th>purchasertype</th>\n",
       "      <th>program</th>\n",
       "      <th>councildistrict</th>\n",
       "      <th>neighborhood</th>\n",
       "      <th>latitude</th>\n",
       "      <th>longitude</th>\n",
       "      <th>location</th>\n",
       "    </tr>\n",
       "  </thead>\n",
       "  <tbody>\n",
       "    <tr>\n",
       "      <th>243</th>\n",
       "      <td>6784 Asbury Park</td>\n",
       "      <td>22060958-9</td>\n",
       "      <td>7700.0</td>\n",
       "      <td>2014-12-19</td>\n",
       "      <td>Closed</td>\n",
       "      <td>Selected</td>\n",
       "      <td>Homebuyer</td>\n",
       "      <td>Auction</td>\n",
       "      <td>7</td>\n",
       "      <td>Warren Ave Community</td>\n",
       "      <td>42.341163</td>\n",
       "      <td>-83.205641</td>\n",
       "      <td>location\\n(42.341163, -83.205641)</td>\n",
       "    </tr>\n",
       "    <tr>\n",
       "      <th>819</th>\n",
       "      <td>14345 Grandville</td>\n",
       "      <td>22088763.</td>\n",
       "      <td>11400.0</td>\n",
       "      <td>2015-04-23</td>\n",
       "      <td>Closed</td>\n",
       "      <td>Selected</td>\n",
       "      <td>Investor</td>\n",
       "      <td>Auction</td>\n",
       "      <td>1</td>\n",
       "      <td>Westwood Park</td>\n",
       "      <td>42.391877</td>\n",
       "      <td>-83.231375</td>\n",
       "      <td>location\\n(42.391877, -83.231375)</td>\n",
       "    </tr>\n",
       "    <tr>\n",
       "      <th>1068</th>\n",
       "      <td>6754 Iowa</td>\n",
       "      <td>15004080-1</td>\n",
       "      <td>1000.0</td>\n",
       "      <td>2017-01-05</td>\n",
       "      <td>Closed</td>\n",
       "      <td>Selected</td>\n",
       "      <td>Homebuyer</td>\n",
       "      <td>Auction</td>\n",
       "      <td>3</td>\n",
       "      <td>Grant</td>\n",
       "      <td>42.424756</td>\n",
       "      <td>-83.032456</td>\n",
       "      <td>location\\n(42.424756, -83.032456)</td>\n",
       "    </tr>\n",
       "    <tr>\n",
       "      <th>674</th>\n",
       "      <td>2224 W Boston Blvd</td>\n",
       "      <td>10002831.</td>\n",
       "      <td>62800.0</td>\n",
       "      <td>2015-06-17</td>\n",
       "      <td>Closed</td>\n",
       "      <td>Selected</td>\n",
       "      <td>Investor</td>\n",
       "      <td>Auction</td>\n",
       "      <td>5</td>\n",
       "      <td>Boston Edison</td>\n",
       "      <td>42.380017</td>\n",
       "      <td>-83.106803</td>\n",
       "      <td>location\\n(42.380017, -83.106803)</td>\n",
       "    </tr>\n",
       "    <tr>\n",
       "      <th>1339</th>\n",
       "      <td>17650 Beland</td>\n",
       "      <td>17015265.</td>\n",
       "      <td>1100.0</td>\n",
       "      <td>2017-04-28</td>\n",
       "      <td>Closed</td>\n",
       "      <td>Selected</td>\n",
       "      <td>Homebuyer</td>\n",
       "      <td>Auction</td>\n",
       "      <td>3</td>\n",
       "      <td>Mount Olivet</td>\n",
       "      <td>42.424499</td>\n",
       "      <td>-83.008787</td>\n",
       "      <td>location\\n(42.424499, -83.008787)</td>\n",
       "    </tr>\n",
       "  </tbody>\n",
       "</table>\n",
       "</div>"
      ],
      "text/plain": [
       "                 address    parcelid    price closingdate salestatus  \\\n",
       "243     6784 Asbury Park  22060958-9   7700.0  2014-12-19     Closed   \n",
       "819     14345 Grandville   22088763.  11400.0  2015-04-23     Closed   \n",
       "1068           6754 Iowa  15004080-1   1000.0  2017-01-05     Closed   \n",
       "674   2224 W Boston Blvd   10002831.  62800.0  2015-06-17     Closed   \n",
       "1339        17650 Beland   17015265.   1100.0  2017-04-28     Closed   \n",
       "\n",
       "     buyerstatus purchasertype  program  councildistrict  \\\n",
       "243     Selected     Homebuyer  Auction                7   \n",
       "819     Selected      Investor  Auction                1   \n",
       "1068    Selected     Homebuyer  Auction                3   \n",
       "674     Selected      Investor  Auction                5   \n",
       "1339    Selected     Homebuyer  Auction                3   \n",
       "\n",
       "              neighborhood   latitude  longitude  \\\n",
       "243   Warren Ave Community  42.341163 -83.205641   \n",
       "819          Westwood Park  42.391877 -83.231375   \n",
       "1068                 Grant  42.424756 -83.032456   \n",
       "674          Boston Edison  42.380017 -83.106803   \n",
       "1339          Mount Olivet  42.424499 -83.008787   \n",
       "\n",
       "                               location  \n",
       "243   location\\n(42.341163, -83.205641)  \n",
       "819   location\\n(42.391877, -83.231375)  \n",
       "1068  location\\n(42.424756, -83.032456)  \n",
       "674   location\\n(42.380017, -83.106803)  \n",
       "1339  location\\n(42.424499, -83.008787)  "
      ]
     },
     "execution_count": 19,
     "metadata": {},
     "output_type": "execute_result"
    }
   ],
   "source": [
    "auctions.head()"
   ]
  },
  {
   "cell_type": "code",
   "execution_count": 20,
   "metadata": {},
   "outputs": [
    {
     "data": {
      "text/html": [
       "<div>\n",
       "<style>\n",
       "    .dataframe thead tr:only-child th {\n",
       "        text-align: right;\n",
       "    }\n",
       "\n",
       "    .dataframe thead th {\n",
       "        text-align: left;\n",
       "    }\n",
       "\n",
       "    .dataframe tbody tr th {\n",
       "        vertical-align: top;\n",
       "    }\n",
       "</style>\n",
       "<table border=\"1\" class=\"dataframe\">\n",
       "  <thead>\n",
       "    <tr style=\"text-align: right;\">\n",
       "      <th></th>\n",
       "      <th>parcelid</th>\n",
       "      <th>dateissued</th>\n",
       "      <th>estimatedcost</th>\n",
       "      <th>parcelsize</th>\n",
       "      <th>bldpermittype</th>\n",
       "      <th>bldtypeuse</th>\n",
       "      <th>owner_city</th>\n",
       "      <th>owner_state</th>\n",
       "      <th>oc_bin</th>\n",
       "      <th>os_bin</th>\n",
       "    </tr>\n",
       "  </thead>\n",
       "  <tbody>\n",
       "    <tr>\n",
       "      <th>0</th>\n",
       "      <td>08003105.</td>\n",
       "      <td>2016-05-05</td>\n",
       "      <td>60000.0</td>\n",
       "      <td>8964.0</td>\n",
       "      <td>Alterations</td>\n",
       "      <td>One Family Dwelling</td>\n",
       "      <td>DETROIT</td>\n",
       "      <td>MI</td>\n",
       "      <td>1</td>\n",
       "      <td>1</td>\n",
       "    </tr>\n",
       "    <tr>\n",
       "      <th>1</th>\n",
       "      <td>10001768.</td>\n",
       "      <td>2017-02-01</td>\n",
       "      <td>6742.0</td>\n",
       "      <td>5140.0</td>\n",
       "      <td>Alterations</td>\n",
       "      <td>Multiple Dwelling</td>\n",
       "      <td>LEWISVILLE</td>\n",
       "      <td>TX</td>\n",
       "      <td>0</td>\n",
       "      <td>0</td>\n",
       "    </tr>\n",
       "    <tr>\n",
       "      <th>2</th>\n",
       "      <td>03002686.</td>\n",
       "      <td>2017-02-07</td>\n",
       "      <td>1000.0</td>\n",
       "      <td>10716.0</td>\n",
       "      <td>Alterations</td>\n",
       "      <td>One Family Dwelling</td>\n",
       "      <td>DETROIT</td>\n",
       "      <td>MI</td>\n",
       "      <td>1</td>\n",
       "      <td>1</td>\n",
       "    </tr>\n",
       "    <tr>\n",
       "      <th>3</th>\n",
       "      <td>21056239.</td>\n",
       "      <td>2016-05-18</td>\n",
       "      <td>40000.0</td>\n",
       "      <td>5619.0</td>\n",
       "      <td>Alterations Revised</td>\n",
       "      <td>One Family Dwelling</td>\n",
       "      <td>DEARBORN</td>\n",
       "      <td>MI</td>\n",
       "      <td>0</td>\n",
       "      <td>1</td>\n",
       "    </tr>\n",
       "    <tr>\n",
       "      <th>4</th>\n",
       "      <td>01002440.</td>\n",
       "      <td>2017-02-08</td>\n",
       "      <td>23000.0</td>\n",
       "      <td>4400.0</td>\n",
       "      <td>Alterations</td>\n",
       "      <td>One Family Dwelling</td>\n",
       "      <td>DETROIT</td>\n",
       "      <td>MI</td>\n",
       "      <td>1</td>\n",
       "      <td>1</td>\n",
       "    </tr>\n",
       "  </tbody>\n",
       "</table>\n",
       "</div>"
      ],
      "text/plain": [
       "    parcelid  dateissued  estimatedcost  parcelsize        bldpermittype  \\\n",
       "0  08003105.  2016-05-05        60000.0      8964.0          Alterations   \n",
       "1  10001768.  2017-02-01         6742.0      5140.0          Alterations   \n",
       "2  03002686.  2017-02-07         1000.0     10716.0          Alterations   \n",
       "3  21056239.  2016-05-18        40000.0      5619.0  Alterations Revised   \n",
       "4  01002440.  2017-02-08        23000.0      4400.0          Alterations   \n",
       "\n",
       "            bldtypeuse  owner_city owner_state  oc_bin  os_bin  \n",
       "0  One Family Dwelling     DETROIT          MI       1       1  \n",
       "1    Multiple Dwelling  LEWISVILLE          TX       0       0  \n",
       "2  One Family Dwelling     DETROIT          MI       1       1  \n",
       "3  One Family Dwelling    DEARBORN          MI       0       1  \n",
       "4  One Family Dwelling     DETROIT          MI       1       1  "
      ]
     },
     "execution_count": 20,
     "metadata": {},
     "output_type": "execute_result"
    }
   ],
   "source": [
    "permits.head()"
   ]
  },
  {
   "cell_type": "code",
   "execution_count": 21,
   "metadata": {
    "collapsed": true,
    "scrolled": true
   },
   "outputs": [],
   "source": [
    "permits_temp = pd.merge(auctions.filter(['parcelid', 'closingdate']), permits, how='inner', on='parcelid')"
   ]
  },
  {
   "cell_type": "markdown",
   "metadata": {},
   "source": [
    "I will assume that if a permit was issued more than 30 days before the auction closing date, it was unrelated."
   ]
  },
  {
   "cell_type": "code",
   "execution_count": 22,
   "metadata": {},
   "outputs": [
    {
     "data": {
      "text/plain": [
       "(327, 11)"
      ]
     },
     "execution_count": 22,
     "metadata": {},
     "output_type": "execute_result"
    }
   ],
   "source": [
    "permits_temp.shape"
   ]
  },
  {
   "cell_type": "code",
   "execution_count": 23,
   "metadata": {
    "scrolled": true
   },
   "outputs": [
    {
     "data": {
      "text/html": [
       "<div>\n",
       "<style>\n",
       "    .dataframe thead tr:only-child th {\n",
       "        text-align: right;\n",
       "    }\n",
       "\n",
       "    .dataframe thead th {\n",
       "        text-align: left;\n",
       "    }\n",
       "\n",
       "    .dataframe tbody tr th {\n",
       "        vertical-align: top;\n",
       "    }\n",
       "</style>\n",
       "<table border=\"1\" class=\"dataframe\">\n",
       "  <thead>\n",
       "    <tr style=\"text-align: right;\">\n",
       "      <th></th>\n",
       "      <th>parcelid</th>\n",
       "      <th>closingdate</th>\n",
       "      <th>dateissued</th>\n",
       "      <th>estimatedcost</th>\n",
       "      <th>parcelsize</th>\n",
       "      <th>bldpermittype</th>\n",
       "      <th>bldtypeuse</th>\n",
       "      <th>owner_city</th>\n",
       "      <th>owner_state</th>\n",
       "      <th>oc_bin</th>\n",
       "      <th>os_bin</th>\n",
       "    </tr>\n",
       "  </thead>\n",
       "  <tbody>\n",
       "    <tr>\n",
       "      <th>11</th>\n",
       "      <td>10002780.</td>\n",
       "      <td>2015-07-16</td>\n",
       "      <td>2015-03-30</td>\n",
       "      <td>2500.0</td>\n",
       "      <td>8364.0</td>\n",
       "      <td>Alterations</td>\n",
       "      <td>One Family Dwelling</td>\n",
       "      <td>DETROIT</td>\n",
       "      <td>MI</td>\n",
       "      <td>1</td>\n",
       "      <td>1</td>\n",
       "    </tr>\n",
       "    <tr>\n",
       "      <th>22</th>\n",
       "      <td>22105421.</td>\n",
       "      <td>2017-04-14</td>\n",
       "      <td>2015-10-12</td>\n",
       "      <td>1299.0</td>\n",
       "      <td>4704.0</td>\n",
       "      <td>Alterations</td>\n",
       "      <td>One Family Dwelling</td>\n",
       "      <td>SOUTHFIELD</td>\n",
       "      <td>MI</td>\n",
       "      <td>0</td>\n",
       "      <td>1</td>\n",
       "    </tr>\n",
       "    <tr>\n",
       "      <th>34</th>\n",
       "      <td>08002810.</td>\n",
       "      <td>2017-02-27</td>\n",
       "      <td>2016-02-16</td>\n",
       "      <td>5000.0</td>\n",
       "      <td>5358.0</td>\n",
       "      <td>Alterations</td>\n",
       "      <td>One Family Dwelling</td>\n",
       "      <td>DETROIT</td>\n",
       "      <td>MI</td>\n",
       "      <td>1</td>\n",
       "      <td>1</td>\n",
       "    </tr>\n",
       "    <tr>\n",
       "      <th>41</th>\n",
       "      <td>16035637.</td>\n",
       "      <td>2015-06-25</td>\n",
       "      <td>2015-05-05</td>\n",
       "      <td>NaN</td>\n",
       "      <td>4008.0</td>\n",
       "      <td>Dismantle</td>\n",
       "      <td>One Family Dwelling</td>\n",
       "      <td>DETROIT</td>\n",
       "      <td>MI</td>\n",
       "      <td>1</td>\n",
       "      <td>1</td>\n",
       "    </tr>\n",
       "    <tr>\n",
       "      <th>54</th>\n",
       "      <td>16036039.</td>\n",
       "      <td>2015-07-17</td>\n",
       "      <td>2015-05-04</td>\n",
       "      <td>NaN</td>\n",
       "      <td>4008.0</td>\n",
       "      <td>Dismantle</td>\n",
       "      <td>Commercial Building</td>\n",
       "      <td>DETROIT</td>\n",
       "      <td>MI</td>\n",
       "      <td>1</td>\n",
       "      <td>1</td>\n",
       "    </tr>\n",
       "    <tr>\n",
       "      <th>55</th>\n",
       "      <td>16036039.</td>\n",
       "      <td>2015-07-17</td>\n",
       "      <td>2015-05-05</td>\n",
       "      <td>NaN</td>\n",
       "      <td>4008.0</td>\n",
       "      <td>Dismantle</td>\n",
       "      <td>One Family Dwelling</td>\n",
       "      <td>DETROIT</td>\n",
       "      <td>MI</td>\n",
       "      <td>1</td>\n",
       "      <td>1</td>\n",
       "    </tr>\n",
       "    <tr>\n",
       "      <th>73</th>\n",
       "      <td>21054492.</td>\n",
       "      <td>2017-03-31</td>\n",
       "      <td>2016-09-22</td>\n",
       "      <td>9500.0</td>\n",
       "      <td>5619.0</td>\n",
       "      <td>Alterations</td>\n",
       "      <td>Multiple Dwelling</td>\n",
       "      <td>DETROIT</td>\n",
       "      <td>MI</td>\n",
       "      <td>1</td>\n",
       "      <td>1</td>\n",
       "    </tr>\n",
       "    <tr>\n",
       "      <th>93</th>\n",
       "      <td>22055535.</td>\n",
       "      <td>2017-06-08</td>\n",
       "      <td>2016-02-08</td>\n",
       "      <td>4500.0</td>\n",
       "      <td>6273.0</td>\n",
       "      <td>Alterations</td>\n",
       "      <td>Two Family Dwelling</td>\n",
       "      <td>ROYAL OAK</td>\n",
       "      <td>MI</td>\n",
       "      <td>0</td>\n",
       "      <td>1</td>\n",
       "    </tr>\n",
       "    <tr>\n",
       "      <th>119</th>\n",
       "      <td>22050836.003L</td>\n",
       "      <td>2015-10-27</td>\n",
       "      <td>2015-02-16</td>\n",
       "      <td>1300.0</td>\n",
       "      <td>3659.0</td>\n",
       "      <td>Alterations</td>\n",
       "      <td>One Family Dwelling</td>\n",
       "      <td>DETROIT</td>\n",
       "      <td>MI</td>\n",
       "      <td>1</td>\n",
       "      <td>1</td>\n",
       "    </tr>\n",
       "    <tr>\n",
       "      <th>156</th>\n",
       "      <td>16036036.</td>\n",
       "      <td>2015-09-25</td>\n",
       "      <td>2015-05-13</td>\n",
       "      <td>NaN</td>\n",
       "      <td>4008.0</td>\n",
       "      <td>Dismantle</td>\n",
       "      <td>One Family Dwelling</td>\n",
       "      <td>DETROIT</td>\n",
       "      <td>MI</td>\n",
       "      <td>1</td>\n",
       "      <td>1</td>\n",
       "    </tr>\n",
       "    <tr>\n",
       "      <th>199</th>\n",
       "      <td>16023164.</td>\n",
       "      <td>2015-10-15</td>\n",
       "      <td>2015-07-22</td>\n",
       "      <td>22055.0</td>\n",
       "      <td>3659.0</td>\n",
       "      <td>Alterations</td>\n",
       "      <td>One Family Dwelling</td>\n",
       "      <td>DETROIT</td>\n",
       "      <td>MI</td>\n",
       "      <td>1</td>\n",
       "      <td>1</td>\n",
       "    </tr>\n",
       "    <tr>\n",
       "      <th>200</th>\n",
       "      <td>16023164.</td>\n",
       "      <td>2015-10-15</td>\n",
       "      <td>2015-08-03</td>\n",
       "      <td>28055.0</td>\n",
       "      <td>3659.0</td>\n",
       "      <td>Alterations Revised</td>\n",
       "      <td>One Family Dwelling</td>\n",
       "      <td>DETROIT</td>\n",
       "      <td>MI</td>\n",
       "      <td>1</td>\n",
       "      <td>1</td>\n",
       "    </tr>\n",
       "    <tr>\n",
       "      <th>311</th>\n",
       "      <td>08003035.</td>\n",
       "      <td>2016-02-29</td>\n",
       "      <td>2014-11-18</td>\n",
       "      <td>3995.0</td>\n",
       "      <td>9191.0</td>\n",
       "      <td>Alterations</td>\n",
       "      <td>One Family Dwelling</td>\n",
       "      <td>DETROIT</td>\n",
       "      <td>MI</td>\n",
       "      <td>1</td>\n",
       "      <td>1</td>\n",
       "    </tr>\n",
       "  </tbody>\n",
       "</table>\n",
       "</div>"
      ],
      "text/plain": [
       "          parcelid closingdate  dateissued  estimatedcost  parcelsize  \\\n",
       "11       10002780.  2015-07-16  2015-03-30         2500.0      8364.0   \n",
       "22       22105421.  2017-04-14  2015-10-12         1299.0      4704.0   \n",
       "34       08002810.  2017-02-27  2016-02-16         5000.0      5358.0   \n",
       "41       16035637.  2015-06-25  2015-05-05            NaN      4008.0   \n",
       "54       16036039.  2015-07-17  2015-05-04            NaN      4008.0   \n",
       "55       16036039.  2015-07-17  2015-05-05            NaN      4008.0   \n",
       "73       21054492.  2017-03-31  2016-09-22         9500.0      5619.0   \n",
       "93       22055535.  2017-06-08  2016-02-08         4500.0      6273.0   \n",
       "119  22050836.003L  2015-10-27  2015-02-16         1300.0      3659.0   \n",
       "156      16036036.  2015-09-25  2015-05-13            NaN      4008.0   \n",
       "199      16023164.  2015-10-15  2015-07-22        22055.0      3659.0   \n",
       "200      16023164.  2015-10-15  2015-08-03        28055.0      3659.0   \n",
       "311      08003035.  2016-02-29  2014-11-18         3995.0      9191.0   \n",
       "\n",
       "           bldpermittype           bldtypeuse  owner_city owner_state  oc_bin  \\\n",
       "11           Alterations  One Family Dwelling     DETROIT          MI       1   \n",
       "22           Alterations  One Family Dwelling  SOUTHFIELD          MI       0   \n",
       "34           Alterations  One Family Dwelling     DETROIT          MI       1   \n",
       "41             Dismantle  One Family Dwelling     DETROIT          MI       1   \n",
       "54             Dismantle  Commercial Building     DETROIT          MI       1   \n",
       "55             Dismantle  One Family Dwelling     DETROIT          MI       1   \n",
       "73           Alterations    Multiple Dwelling     DETROIT          MI       1   \n",
       "93           Alterations  Two Family Dwelling   ROYAL OAK          MI       0   \n",
       "119          Alterations  One Family Dwelling     DETROIT          MI       1   \n",
       "156            Dismantle  One Family Dwelling     DETROIT          MI       1   \n",
       "199          Alterations  One Family Dwelling     DETROIT          MI       1   \n",
       "200  Alterations Revised  One Family Dwelling     DETROIT          MI       1   \n",
       "311          Alterations  One Family Dwelling     DETROIT          MI       1   \n",
       "\n",
       "     os_bin  \n",
       "11        1  \n",
       "22        1  \n",
       "34        1  \n",
       "41        1  \n",
       "54        1  \n",
       "55        1  \n",
       "73        1  \n",
       "93        1  \n",
       "119       1  \n",
       "156       1  \n",
       "199       1  \n",
       "200       1  \n",
       "311       1  "
      ]
     },
     "execution_count": 23,
     "metadata": {},
     "output_type": "execute_result"
    }
   ],
   "source": [
    "permits_temp[\n",
    "    # (permits_temp.closingdate > permits_temp.dateissued) & \n",
    "    (permits_temp.closingdate - permits_temp.dateissued > timedelta(days=30))\n",
    "            ]"
   ]
  },
  {
   "cell_type": "code",
   "execution_count": 24,
   "metadata": {
    "collapsed": true
   },
   "outputs": [],
   "source": [
    "permits_temp = (permits_temp[\n",
    "    permits_temp.closingdate - permits_temp.dateissued < timedelta(days=30)\n",
    "]\n",
    ")"
   ]
  },
  {
   "cell_type": "code",
   "execution_count": 25,
   "metadata": {},
   "outputs": [
    {
     "data": {
      "text/plain": [
       "(314, 11)"
      ]
     },
     "execution_count": 25,
     "metadata": {},
     "output_type": "execute_result"
    }
   ],
   "source": [
    "permits_temp.shape"
   ]
  },
  {
   "cell_type": "code",
   "execution_count": 29,
   "metadata": {},
   "outputs": [
    {
     "data": {
      "text/html": [
       "<div>\n",
       "<style>\n",
       "    .dataframe thead tr:only-child th {\n",
       "        text-align: right;\n",
       "    }\n",
       "\n",
       "    .dataframe thead th {\n",
       "        text-align: left;\n",
       "    }\n",
       "\n",
       "    .dataframe tbody tr th {\n",
       "        vertical-align: top;\n",
       "    }\n",
       "</style>\n",
       "<table border=\"1\" class=\"dataframe\">\n",
       "  <thead>\n",
       "    <tr style=\"text-align: right;\">\n",
       "      <th></th>\n",
       "      <th>parcelid</th>\n",
       "      <th>num_permits</th>\n",
       "    </tr>\n",
       "  </thead>\n",
       "  <tbody>\n",
       "    <tr>\n",
       "      <th>0</th>\n",
       "      <td>06002469.</td>\n",
       "      <td>3</td>\n",
       "    </tr>\n",
       "    <tr>\n",
       "      <th>1</th>\n",
       "      <td>01002440.</td>\n",
       "      <td>3</td>\n",
       "    </tr>\n",
       "    <tr>\n",
       "      <th>2</th>\n",
       "      <td>22081834.</td>\n",
       "      <td>3</td>\n",
       "    </tr>\n",
       "    <tr>\n",
       "      <th>3</th>\n",
       "      <td>06002274.</td>\n",
       "      <td>3</td>\n",
       "    </tr>\n",
       "    <tr>\n",
       "      <th>4</th>\n",
       "      <td>16034236.</td>\n",
       "      <td>3</td>\n",
       "    </tr>\n",
       "  </tbody>\n",
       "</table>\n",
       "</div>"
      ],
      "text/plain": [
       "    parcelid  num_permits\n",
       "0  06002469.            3\n",
       "1  01002440.            3\n",
       "2  22081834.            3\n",
       "3  06002274.            3\n",
       "4  16034236.            3"
      ]
     },
     "execution_count": 29,
     "metadata": {},
     "output_type": "execute_result"
    }
   ],
   "source": [
    "permit_counts = permits_temp.parcelid.value_counts()\n",
    "\n",
    "permit_counts.name = 'num_permits'\n",
    "\n",
    "permit_counts = pd.DataFrame(permit_counts).reset_index()\n",
    "permit_counts.rename(columns={'index': 'parcelid'}, inplace=True)\n",
    "permit_counts.head()"
   ]
  },
  {
   "cell_type": "markdown",
   "metadata": {},
   "source": [
    "Before merging any more detailed permit information with the auctions dataframe, I'll just add a column of permit counts (0 for none filed)."
   ]
  },
  {
   "cell_type": "code",
   "execution_count": 30,
   "metadata": {},
   "outputs": [],
   "source": [
    "auctions = pd.merge(auctions, permit_counts, how='left', on='parcelid')\n",
    "\n",
    "auctions.fillna(0, inplace=True)"
   ]
  },
  {
   "cell_type": "code",
   "execution_count": 31,
   "metadata": {},
   "outputs": [
    {
     "data": {
      "text/plain": [
       "0.0    777\n",
       "1.0    226\n",
       "2.0     32\n",
       "3.0      8\n",
       "Name: num_permits, dtype: int64"
      ]
     },
     "execution_count": 31,
     "metadata": {},
     "output_type": "execute_result"
    }
   ],
   "source": [
    "auctions.num_permits.value_counts()"
   ]
  },
  {
   "cell_type": "code",
   "execution_count": 81,
   "metadata": {},
   "outputs": [
    {
     "data": {
      "text/plain": [
       "''"
      ]
     },
     "execution_count": 81,
     "metadata": {},
     "output_type": "execute_result"
    },
    {
     "data": {
      "image/png": "[encoded data removed]",
      "text/plain": [
       "<matplotlib.figure.Figure at 0x115132b38>"
      ]
     },
     "metadata": {},
     "output_type": "display_data"
    }
   ],
   "source": [
    "x = []\n",
    "\n",
    "for buyer in ['Homebuyer', 'Investor']:\n",
    "    x_sub = np.array(auctions.num_permits[auctions.purchasertype == buyer])\n",
    "    x.append(x_sub)\n",
    "\n",
    "plt.figure(figsize=(16,8))\n",
    "plt.hist(x, bins=4, color=['cyan', '#00A2FF'], label=['Homebuyer', 'Investor'], range=[-0.5,3.5])\n",
    "plt.xticks([n for n in range(4)])\n",
    "plt.xlabel(\"Number of Building Permits Issued for Each Parcel\", fontsize=14)\n",
    "plt.ylabel(\"Frequency\", fontsize=14)\n",
    "plt.legend(fontsize=12)\n",
    "plt.title(\"Histogram of Building Permits per Property\", fontsize=24)\n",
    "plt.savefig('../img/hist_permits.png', dpi=200, bbox_inches = 'tight')\n",
    ";"
   ]
  },
  {
   "cell_type": "markdown",
   "metadata": {},
   "source": [
    "### Adding a Year Column"
   ]
  },
  {
   "cell_type": "code",
   "execution_count": 33,
   "metadata": {
    "collapsed": true
   },
   "outputs": [],
   "source": [
    "auctions['year'] = auctions.closingdate.apply(lambda d: d.year)"
   ]
  },
  {
   "cell_type": "code",
   "execution_count": 34,
   "metadata": {},
   "outputs": [
    {
     "name": "stderr",
     "output_type": "stream",
     "text": [
      "/Users/dluther/anaconda/lib/python3.6/site-packages/ipykernel/__main__.py:2: SettingWithCopyWarning: \n",
      "A value is trying to be set on a copy of a slice from a DataFrame\n",
      "\n",
      "See the caveats in the documentation: http://pandas.pydata.org/pandas-docs/stable/indexing.html#indexing-view-versus-copy\n",
      "  from ipykernel import kernelapp as app\n"
     ]
    }
   ],
   "source": [
    "auctions['ptype_num'] = 0\n",
    "auctions.ptype_num[auctions.purchasertype == 'Investor'] = 1"
   ]
  },
  {
   "cell_type": "code",
   "execution_count": 35,
   "metadata": {
    "scrolled": false
   },
   "outputs": [
    {
     "data": {
      "text/html": [
       "<div>\n",
       "<style>\n",
       "    .dataframe thead tr:only-child th {\n",
       "        text-align: right;\n",
       "    }\n",
       "\n",
       "    .dataframe thead th {\n",
       "        text-align: left;\n",
       "    }\n",
       "\n",
       "    .dataframe tbody tr th {\n",
       "        vertical-align: top;\n",
       "    }\n",
       "</style>\n",
       "<table border=\"1\" class=\"dataframe\">\n",
       "  <thead>\n",
       "    <tr style=\"text-align: right;\">\n",
       "      <th></th>\n",
       "      <th>address</th>\n",
       "      <th>parcelid</th>\n",
       "      <th>price</th>\n",
       "      <th>closingdate</th>\n",
       "      <th>salestatus</th>\n",
       "      <th>buyerstatus</th>\n",
       "      <th>purchasertype</th>\n",
       "      <th>program</th>\n",
       "      <th>councildistrict</th>\n",
       "      <th>neighborhood</th>\n",
       "      <th>latitude</th>\n",
       "      <th>longitude</th>\n",
       "      <th>location</th>\n",
       "      <th>num_permits</th>\n",
       "      <th>year</th>\n",
       "      <th>ptype_num</th>\n",
       "    </tr>\n",
       "  </thead>\n",
       "  <tbody>\n",
       "    <tr>\n",
       "      <th>992</th>\n",
       "      <td>6224 Artesian</td>\n",
       "      <td>22084142.</td>\n",
       "      <td>1000.0</td>\n",
       "      <td>2016-02-24</td>\n",
       "      <td>Closed</td>\n",
       "      <td>Selected</td>\n",
       "      <td>Homebuyer</td>\n",
       "      <td>Auction</td>\n",
       "      <td>7</td>\n",
       "      <td>Warrendale</td>\n",
       "      <td>42.334971</td>\n",
       "      <td>-83.224930</td>\n",
       "      <td>location\\n(42.334971, -83.22493)</td>\n",
       "      <td>0.0</td>\n",
       "      <td>2016</td>\n",
       "      <td>0</td>\n",
       "    </tr>\n",
       "    <tr>\n",
       "      <th>494</th>\n",
       "      <td>11715 Stahelin</td>\n",
       "      <td>22083785.</td>\n",
       "      <td>3300.0</td>\n",
       "      <td>2015-12-15</td>\n",
       "      <td>Closed</td>\n",
       "      <td>Selected</td>\n",
       "      <td>Homebuyer</td>\n",
       "      <td>Auction</td>\n",
       "      <td>7</td>\n",
       "      <td>Southfield Plymouth</td>\n",
       "      <td>42.373812</td>\n",
       "      <td>-83.225757</td>\n",
       "      <td>location\\n(42.373812, -83.225757)</td>\n",
       "      <td>0.0</td>\n",
       "      <td>2015</td>\n",
       "      <td>0</td>\n",
       "    </tr>\n",
       "    <tr>\n",
       "      <th>539</th>\n",
       "      <td>4207 Grayton</td>\n",
       "      <td>21074280.</td>\n",
       "      <td>26050.0</td>\n",
       "      <td>2015-06-18</td>\n",
       "      <td>Closed</td>\n",
       "      <td>Selected</td>\n",
       "      <td>Homebuyer</td>\n",
       "      <td>Auction</td>\n",
       "      <td>4</td>\n",
       "      <td>East English Village</td>\n",
       "      <td>42.399497</td>\n",
       "      <td>-82.928668</td>\n",
       "      <td>location\\n(42.399497, -82.928668)</td>\n",
       "      <td>0.0</td>\n",
       "      <td>2015</td>\n",
       "      <td>0</td>\n",
       "    </tr>\n",
       "    <tr>\n",
       "      <th>208</th>\n",
       "      <td>18247 Lahser</td>\n",
       "      <td>22113676.</td>\n",
       "      <td>1000.0</td>\n",
       "      <td>2016-06-13</td>\n",
       "      <td>Closed</td>\n",
       "      <td>Selected</td>\n",
       "      <td>Homebuyer</td>\n",
       "      <td>Auction</td>\n",
       "      <td>1</td>\n",
       "      <td>Old Redford</td>\n",
       "      <td>42.422651</td>\n",
       "      <td>-83.258500</td>\n",
       "      <td>location\\n(42.422651, -83.2585)</td>\n",
       "      <td>0.0</td>\n",
       "      <td>2016</td>\n",
       "      <td>0</td>\n",
       "    </tr>\n",
       "    <tr>\n",
       "      <th>1020</th>\n",
       "      <td>2234 Edison</td>\n",
       "      <td>10002610.</td>\n",
       "      <td>3700.0</td>\n",
       "      <td>2015-06-12</td>\n",
       "      <td>Closed</td>\n",
       "      <td>Selected</td>\n",
       "      <td>Investor</td>\n",
       "      <td>Auction</td>\n",
       "      <td>5</td>\n",
       "      <td>Boston Edison</td>\n",
       "      <td>42.376846</td>\n",
       "      <td>-83.104909</td>\n",
       "      <td>location\\n(42.376846, -83.104909)</td>\n",
       "      <td>1.0</td>\n",
       "      <td>2015</td>\n",
       "      <td>1</td>\n",
       "    </tr>\n",
       "    <tr>\n",
       "      <th>771</th>\n",
       "      <td>8505 Prest</td>\n",
       "      <td>22049423.</td>\n",
       "      <td>8500.0</td>\n",
       "      <td>2016-05-03</td>\n",
       "      <td>Closed</td>\n",
       "      <td>Selected</td>\n",
       "      <td>Homebuyer</td>\n",
       "      <td>Auction</td>\n",
       "      <td>7</td>\n",
       "      <td>Fiskhorn</td>\n",
       "      <td>42.355911</td>\n",
       "      <td>-83.196062</td>\n",
       "      <td>location\\n(42.355911, -83.196062)</td>\n",
       "      <td>0.0</td>\n",
       "      <td>2016</td>\n",
       "      <td>0</td>\n",
       "    </tr>\n",
       "    <tr>\n",
       "      <th>1011</th>\n",
       "      <td>16111 Biltmore</td>\n",
       "      <td>22064475.</td>\n",
       "      <td>1000.0</td>\n",
       "      <td>2016-09-09</td>\n",
       "      <td>Closed</td>\n",
       "      <td>Selected</td>\n",
       "      <td>Homebuyer</td>\n",
       "      <td>Auction</td>\n",
       "      <td>1</td>\n",
       "      <td>Crary/St Marys</td>\n",
       "      <td>42.408745</td>\n",
       "      <td>-83.210989</td>\n",
       "      <td>location\\n(42.408745, -83.210989)</td>\n",
       "      <td>0.0</td>\n",
       "      <td>2016</td>\n",
       "      <td>0</td>\n",
       "    </tr>\n",
       "    <tr>\n",
       "      <th>649</th>\n",
       "      <td>6015 Cadieux</td>\n",
       "      <td>21075246.001</td>\n",
       "      <td>4900.0</td>\n",
       "      <td>2014-08-15</td>\n",
       "      <td>Closed</td>\n",
       "      <td>Selected</td>\n",
       "      <td>Homebuyer</td>\n",
       "      <td>Auction</td>\n",
       "      <td>4</td>\n",
       "      <td>Cornerstone Village</td>\n",
       "      <td>42.414307</td>\n",
       "      <td>-82.934862</td>\n",
       "      <td>location\\n(42.414307, -82.934862)</td>\n",
       "      <td>0.0</td>\n",
       "      <td>2014</td>\n",
       "      <td>0</td>\n",
       "    </tr>\n",
       "    <tr>\n",
       "      <th>1</th>\n",
       "      <td>14345 Grandville</td>\n",
       "      <td>22088763.</td>\n",
       "      <td>11400.0</td>\n",
       "      <td>2015-04-23</td>\n",
       "      <td>Closed</td>\n",
       "      <td>Selected</td>\n",
       "      <td>Investor</td>\n",
       "      <td>Auction</td>\n",
       "      <td>1</td>\n",
       "      <td>Westwood Park</td>\n",
       "      <td>42.391877</td>\n",
       "      <td>-83.231375</td>\n",
       "      <td>location\\n(42.391877, -83.231375)</td>\n",
       "      <td>0.0</td>\n",
       "      <td>2015</td>\n",
       "      <td>1</td>\n",
       "    </tr>\n",
       "    <tr>\n",
       "      <th>663</th>\n",
       "      <td>5177 Harold</td>\n",
       "      <td>13005690.</td>\n",
       "      <td>17600.0</td>\n",
       "      <td>2015-01-14</td>\n",
       "      <td>Closed</td>\n",
       "      <td>Selected</td>\n",
       "      <td>Homebuyer</td>\n",
       "      <td>Auction</td>\n",
       "      <td>3</td>\n",
       "      <td>Buffalo Charles</td>\n",
       "      <td>42.406615</td>\n",
       "      <td>-83.047521</td>\n",
       "      <td>location\\n(42.406615, -83.047521)</td>\n",
       "      <td>0.0</td>\n",
       "      <td>2015</td>\n",
       "      <td>0</td>\n",
       "    </tr>\n",
       "  </tbody>\n",
       "</table>\n",
       "</div>"
      ],
      "text/plain": [
       "               address      parcelid    price closingdate salestatus  \\\n",
       "992      6224 Artesian     22084142.   1000.0  2016-02-24     Closed   \n",
       "494     11715 Stahelin     22083785.   3300.0  2015-12-15     Closed   \n",
       "539       4207 Grayton     21074280.  26050.0  2015-06-18     Closed   \n",
       "208       18247 Lahser     22113676.   1000.0  2016-06-13     Closed   \n",
       "1020       2234 Edison     10002610.   3700.0  2015-06-12     Closed   \n",
       "771         8505 Prest     22049423.   8500.0  2016-05-03     Closed   \n",
       "1011    16111 Biltmore     22064475.   1000.0  2016-09-09     Closed   \n",
       "649       6015 Cadieux  21075246.001   4900.0  2014-08-15     Closed   \n",
       "1     14345 Grandville     22088763.  11400.0  2015-04-23     Closed   \n",
       "663        5177 Harold     13005690.  17600.0  2015-01-14     Closed   \n",
       "\n",
       "     buyerstatus purchasertype  program  councildistrict  \\\n",
       "992     Selected     Homebuyer  Auction                7   \n",
       "494     Selected     Homebuyer  Auction                7   \n",
       "539     Selected     Homebuyer  Auction                4   \n",
       "208     Selected     Homebuyer  Auction                1   \n",
       "1020    Selected      Investor  Auction                5   \n",
       "771     Selected     Homebuyer  Auction                7   \n",
       "1011    Selected     Homebuyer  Auction                1   \n",
       "649     Selected     Homebuyer  Auction                4   \n",
       "1       Selected      Investor  Auction                1   \n",
       "663     Selected     Homebuyer  Auction                3   \n",
       "\n",
       "              neighborhood   latitude  longitude  \\\n",
       "992             Warrendale  42.334971 -83.224930   \n",
       "494    Southfield Plymouth  42.373812 -83.225757   \n",
       "539   East English Village  42.399497 -82.928668   \n",
       "208            Old Redford  42.422651 -83.258500   \n",
       "1020         Boston Edison  42.376846 -83.104909   \n",
       "771               Fiskhorn  42.355911 -83.196062   \n",
       "1011        Crary/St Marys  42.408745 -83.210989   \n",
       "649    Cornerstone Village  42.414307 -82.934862   \n",
       "1            Westwood Park  42.391877 -83.231375   \n",
       "663        Buffalo Charles  42.406615 -83.047521   \n",
       "\n",
       "                               location  num_permits  year  ptype_num  \n",
       "992    location\\n(42.334971, -83.22493)          0.0  2016          0  \n",
       "494   location\\n(42.373812, -83.225757)          0.0  2015          0  \n",
       "539   location\\n(42.399497, -82.928668)          0.0  2015          0  \n",
       "208     location\\n(42.422651, -83.2585)          0.0  2016          0  \n",
       "1020  location\\n(42.376846, -83.104909)          1.0  2015          1  \n",
       "771   location\\n(42.355911, -83.196062)          0.0  2016          0  \n",
       "1011  location\\n(42.408745, -83.210989)          0.0  2016          0  \n",
       "649   location\\n(42.414307, -82.934862)          0.0  2014          0  \n",
       "1     location\\n(42.391877, -83.231375)          0.0  2015          1  \n",
       "663   location\\n(42.406615, -83.047521)          0.0  2015          0  "
      ]
     },
     "execution_count": 35,
     "metadata": {},
     "output_type": "execute_result"
    }
   ],
   "source": [
    "auctions.sample(10)"
   ]
  },
  {
   "cell_type": "markdown",
   "metadata": {},
   "source": [
    "### Binning Neighborhoods by Investor Ratio"
   ]
  },
  {
   "cell_type": "code",
   "execution_count": 36,
   "metadata": {
    "collapsed": true
   },
   "outputs": [],
   "source": [
    "n_counts = (auctions\n",
    "            .neighborhood\n",
    "            .value_counts()\n",
    "            .reset_index()\n",
    "            .rename(columns={'index': 'neighborhood', 'neighborhood': 'n_count'})\n",
    "           )\n",
    "\n",
    "n_counts = mcnultymod.nhood_investor_ratios(auctions, n_counts)"
   ]
  },
  {
   "cell_type": "code",
   "execution_count": 37,
   "metadata": {},
   "outputs": [
    {
     "data": {
      "text/html": [
       "<div>\n",
       "<style>\n",
       "    .dataframe thead tr:only-child th {\n",
       "        text-align: right;\n",
       "    }\n",
       "\n",
       "    .dataframe thead th {\n",
       "        text-align: left;\n",
       "    }\n",
       "\n",
       "    .dataframe tbody tr th {\n",
       "        vertical-align: top;\n",
       "    }\n",
       "</style>\n",
       "<table border=\"1\" class=\"dataframe\">\n",
       "  <thead>\n",
       "    <tr style=\"text-align: right;\">\n",
       "      <th></th>\n",
       "      <th>n_count</th>\n",
       "      <th>inv_ratio</th>\n",
       "    </tr>\n",
       "  </thead>\n",
       "  <tbody>\n",
       "    <tr>\n",
       "      <th>count</th>\n",
       "      <td>110.000000</td>\n",
       "      <td>110.000000</td>\n",
       "    </tr>\n",
       "    <tr>\n",
       "      <th>mean</th>\n",
       "      <td>9.481818</td>\n",
       "      <td>0.322143</td>\n",
       "    </tr>\n",
       "    <tr>\n",
       "      <th>std</th>\n",
       "      <td>14.063899</td>\n",
       "      <td>0.303515</td>\n",
       "    </tr>\n",
       "    <tr>\n",
       "      <th>min</th>\n",
       "      <td>1.000000</td>\n",
       "      <td>0.000000</td>\n",
       "    </tr>\n",
       "    <tr>\n",
       "      <th>25%</th>\n",
       "      <td>2.000000</td>\n",
       "      <td>0.000000</td>\n",
       "    </tr>\n",
       "    <tr>\n",
       "      <th>50%</th>\n",
       "      <td>4.000000</td>\n",
       "      <td>0.297059</td>\n",
       "    </tr>\n",
       "    <tr>\n",
       "      <th>75%</th>\n",
       "      <td>12.000000</td>\n",
       "      <td>0.454861</td>\n",
       "    </tr>\n",
       "    <tr>\n",
       "      <th>max</th>\n",
       "      <td>99.000000</td>\n",
       "      <td>1.000000</td>\n",
       "    </tr>\n",
       "  </tbody>\n",
       "</table>\n",
       "</div>"
      ],
      "text/plain": [
       "          n_count   inv_ratio\n",
       "count  110.000000  110.000000\n",
       "mean     9.481818    0.322143\n",
       "std     14.063899    0.303515\n",
       "min      1.000000    0.000000\n",
       "25%      2.000000    0.000000\n",
       "50%      4.000000    0.297059\n",
       "75%     12.000000    0.454861\n",
       "max     99.000000    1.000000"
      ]
     },
     "execution_count": 37,
     "metadata": {},
     "output_type": "execute_result"
    }
   ],
   "source": [
    "n_counts.describe()"
   ]
  },
  {
   "cell_type": "code",
   "execution_count": 49,
   "metadata": {},
   "outputs": [
    {
     "data": {
      "image/png": "[encoded data removed]",
      "text/plain": [
       "<matplotlib.figure.Figure at 0x115155358>"
      ]
     },
     "metadata": {},
     "output_type": "display_data"
    }
   ],
   "source": [
    "plt.figure(figsize=(16,8))\n",
    "plt.hist(n_counts.inv_ratio, \n",
    "         # bins=[0, 0.1, 0.2, 0.3, 0.4, 0.6, 1.0],\n",
    "         # bins=[0, 0.15, 0.45, 0.75, 1.0]\n",
    "         bins=[0, 0.1, 0.25, 0.33, 0.45, 0.75, 1.0]\n",
    "        );"
   ]
  },
  {
   "cell_type": "code",
   "execution_count": 53,
   "metadata": {
    "collapsed": true
   },
   "outputs": [],
   "source": [
    "def bin_neighborhoods(df, binlist=[0, 0.1, 0.25, 0.33, 0.45, 0.75, 1.0]):\n",
    "    \"\"\"\n",
    "    Assigns each neighborhood a bin number based on ratio of investors.\n",
    "    ---\n",
    "    IN\n",
    "    df: neighborhoods dataframe with investor ratios (df)\n",
    "    binlist: lower bounds for each bin\n",
    "    OUT\n",
    "    df: neighborhoods dataframe with investor ratio bins column\n",
    "    \"\"\"\n",
    "    \n",
    "    df['n_bin'] = 0\n",
    "    \n",
    "    for n, val in enumerate(binlist):\n",
    "        df.n_bin[df.inv_ratio > val] = n\n",
    "        \n",
    "    return df"
   ]
  },
  {
   "cell_type": "code",
   "execution_count": 54,
   "metadata": {},
   "outputs": [
    {
     "name": "stderr",
     "output_type": "stream",
     "text": [
      "/Users/dluther/anaconda/lib/python3.6/site-packages/ipykernel/__main__.py:15: SettingWithCopyWarning: \n",
      "A value is trying to be set on a copy of a slice from a DataFrame\n",
      "\n",
      "See the caveats in the documentation: http://pandas.pydata.org/pandas-docs/stable/indexing.html#indexing-view-versus-copy\n"
     ]
    }
   ],
   "source": [
    "n_counts = bin_neighborhoods(n_counts)"
   ]
  },
  {
   "cell_type": "code",
   "execution_count": 67,
   "metadata": {},
   "outputs": [
    {
     "data": {
      "text/html": [
       "<div>\n",
       "<style>\n",
       "    .dataframe thead tr:only-child th {\n",
       "        text-align: right;\n",
       "    }\n",
       "\n",
       "    .dataframe thead th {\n",
       "        text-align: left;\n",
       "    }\n",
       "\n",
       "    .dataframe tbody tr th {\n",
       "        vertical-align: top;\n",
       "    }\n",
       "</style>\n",
       "<table border=\"1\" class=\"dataframe\">\n",
       "  <thead>\n",
       "    <tr style=\"text-align: right;\">\n",
       "      <th></th>\n",
       "      <th>neighborhood</th>\n",
       "      <th>n_count</th>\n",
       "      <th>inv_ratio</th>\n",
       "      <th>n_bin</th>\n",
       "    </tr>\n",
       "  </thead>\n",
       "  <tbody>\n",
       "    <tr>\n",
       "      <th>74</th>\n",
       "      <td>Joy-Schaefer</td>\n",
       "      <td>2</td>\n",
       "      <td>1.0</td>\n",
       "      <td>5</td>\n",
       "    </tr>\n",
       "    <tr>\n",
       "      <th>88</th>\n",
       "      <td>Hubbard Farms</td>\n",
       "      <td>1</td>\n",
       "      <td>1.0</td>\n",
       "      <td>5</td>\n",
       "    </tr>\n",
       "    <tr>\n",
       "      <th>89</th>\n",
       "      <td>South of Six</td>\n",
       "      <td>1</td>\n",
       "      <td>1.0</td>\n",
       "      <td>5</td>\n",
       "    </tr>\n",
       "    <tr>\n",
       "      <th>94</th>\n",
       "      <td>Grandmont #1</td>\n",
       "      <td>1</td>\n",
       "      <td>1.0</td>\n",
       "      <td>5</td>\n",
       "    </tr>\n",
       "    <tr>\n",
       "      <th>99</th>\n",
       "      <td>Blackstone Park</td>\n",
       "      <td>1</td>\n",
       "      <td>1.0</td>\n",
       "      <td>5</td>\n",
       "    </tr>\n",
       "    <tr>\n",
       "      <th>100</th>\n",
       "      <td>Eden Gardens</td>\n",
       "      <td>1</td>\n",
       "      <td>1.0</td>\n",
       "      <td>5</td>\n",
       "    </tr>\n",
       "    <tr>\n",
       "      <th>101</th>\n",
       "      <td>Brightmoor</td>\n",
       "      <td>1</td>\n",
       "      <td>1.0</td>\n",
       "      <td>5</td>\n",
       "    </tr>\n",
       "    <tr>\n",
       "      <th>103</th>\n",
       "      <td>Riverdale</td>\n",
       "      <td>1</td>\n",
       "      <td>1.0</td>\n",
       "      <td>5</td>\n",
       "    </tr>\n",
       "    <tr>\n",
       "      <th>104</th>\n",
       "      <td>North Corktown</td>\n",
       "      <td>1</td>\n",
       "      <td>1.0</td>\n",
       "      <td>5</td>\n",
       "    </tr>\n",
       "    <tr>\n",
       "      <th>106</th>\n",
       "      <td>Sherwood</td>\n",
       "      <td>1</td>\n",
       "      <td>1.0</td>\n",
       "      <td>5</td>\n",
       "    </tr>\n",
       "    <tr>\n",
       "      <th>107</th>\n",
       "      <td>Arden Park</td>\n",
       "      <td>1</td>\n",
       "      <td>1.0</td>\n",
       "      <td>5</td>\n",
       "    </tr>\n",
       "  </tbody>\n",
       "</table>\n",
       "</div>"
      ],
      "text/plain": [
       "        neighborhood  n_count  inv_ratio  n_bin\n",
       "74      Joy-Schaefer        2        1.0      5\n",
       "88     Hubbard Farms        1        1.0      5\n",
       "89      South of Six        1        1.0      5\n",
       "94      Grandmont #1        1        1.0      5\n",
       "99   Blackstone Park        1        1.0      5\n",
       "100     Eden Gardens        1        1.0      5\n",
       "101       Brightmoor        1        1.0      5\n",
       "103        Riverdale        1        1.0      5\n",
       "104   North Corktown        1        1.0      5\n",
       "106         Sherwood        1        1.0      5\n",
       "107       Arden Park        1        1.0      5"
      ]
     },
     "execution_count": 67,
     "metadata": {},
     "output_type": "execute_result"
    }
   ],
   "source": [
    "n_counts[n_counts.inv_ratio > 0.75]"
   ]
  },
  {
   "cell_type": "code",
   "execution_count": 57,
   "metadata": {},
   "outputs": [
    {
     "data": {
      "text/plain": [
       "(array([ 33.,  17.,  11.,  21.,  17.,  11.]),\n",
       " array([ 0.,  1.,  2.,  3.,  4.,  5.,  6.]),\n",
       " <a list of 6 Patch objects>)"
      ]
     },
     "execution_count": 57,
     "metadata": {},
     "output_type": "execute_result"
    },
    {
     "data": {
      "image/png": "[encoded data removed]",
      "text/plain": [
       "<matplotlib.figure.Figure at 0x114cc0940>"
      ]
     },
     "metadata": {},
     "output_type": "display_data"
    }
   ],
   "source": [
    "plt.figure(figsize=(16,8))\n",
    "plt.hist(n_counts.n_bin, bins=6, range=[0,6])"
   ]
  },
  {
   "cell_type": "code",
   "execution_count": 69,
   "metadata": {
    "collapsed": true
   },
   "outputs": [],
   "source": [
    "auctions = pd.merge(auctions, n_counts.filter(['neighborhood', 'n_bin']), how='left', on='neighborhood')"
   ]
  },
  {
   "cell_type": "markdown",
   "metadata": {},
   "source": [
    "### Counting Other Auction Properties Within Radius"
   ]
  },
  {
   "cell_type": "code",
   "execution_count": 71,
   "metadata": {
    "collapsed": true
   },
   "outputs": [
    {
     "ename": "KeyboardInterrupt",
     "evalue": "",
     "output_type": "error",
     "traceback": [
      "\u001b[0;31m---------------------------------------------------------------------------\u001b[0m",
      "\u001b[0;31mKeyboardInterrupt\u001b[0m                         Traceback (most recent call last)",
      "\u001b[0;32m<ipython-input-71-f6e9fe276c6e>\u001b[0m in \u001b[0;36m<module>\u001b[0;34m()\u001b[0m\n\u001b[1;32m      3\u001b[0m                                                                                    \u001b[0mauctions\u001b[0m\u001b[0;34m,\u001b[0m\u001b[0;34m\u001b[0m\u001b[0m\n\u001b[1;32m      4\u001b[0m                                                                                    \u001b[0mthresh\u001b[0m\u001b[0;34m\u001b[0m\u001b[0m\n\u001b[0;32m----> 5\u001b[0;31m                                                                                   ), axis=1)\n\u001b[0m",
      "\u001b[0;32m~/anaconda/lib/python3.6/site-packages/pandas/core/frame.py\u001b[0m in \u001b[0;36mapply\u001b[0;34m(self, func, axis, broadcast, raw, reduce, args, **kwds)\u001b[0m\n\u001b[1;32m   4260\u001b[0m                         \u001b[0mf\u001b[0m\u001b[0;34m,\u001b[0m \u001b[0maxis\u001b[0m\u001b[0;34m,\u001b[0m\u001b[0;34m\u001b[0m\u001b[0m\n\u001b[1;32m   4261\u001b[0m                         \u001b[0mreduce\u001b[0m\u001b[0;34m=\u001b[0m\u001b[0mreduce\u001b[0m\u001b[0;34m,\u001b[0m\u001b[0;34m\u001b[0m\u001b[0m\n\u001b[0;32m-> 4262\u001b[0;31m                         ignore_failures=ignore_failures)\n\u001b[0m\u001b[1;32m   4263\u001b[0m             \u001b[0;32melse\u001b[0m\u001b[0;34m:\u001b[0m\u001b[0;34m\u001b[0m\u001b[0m\n\u001b[1;32m   4264\u001b[0m                 \u001b[0;32mreturn\u001b[0m \u001b[0mself\u001b[0m\u001b[0;34m.\u001b[0m\u001b[0m_apply_broadcast\u001b[0m\u001b[0;34m(\u001b[0m\u001b[0mf\u001b[0m\u001b[0;34m,\u001b[0m \u001b[0maxis\u001b[0m\u001b[0;34m)\u001b[0m\u001b[0;34m\u001b[0m\u001b[0m\n",
      "\u001b[0;32m~/anaconda/lib/python3.6/site-packages/pandas/core/frame.py\u001b[0m in \u001b[0;36m_apply_standard\u001b[0;34m(self, func, axis, ignore_failures, reduce)\u001b[0m\n\u001b[1;32m   4316\u001b[0m                     \u001b[0mlabels\u001b[0m \u001b[0;34m=\u001b[0m \u001b[0mself\u001b[0m\u001b[0;34m.\u001b[0m\u001b[0m_get_agg_axis\u001b[0m\u001b[0;34m(\u001b[0m\u001b[0maxis\u001b[0m\u001b[0;34m)\u001b[0m\u001b[0;34m\u001b[0m\u001b[0m\n\u001b[1;32m   4317\u001b[0m                     result = lib.reduce(values, func, axis=axis, dummy=dummy,\n\u001b[0;32m-> 4318\u001b[0;31m                                         labels=labels)\n\u001b[0m\u001b[1;32m   4319\u001b[0m                     \u001b[0;32mreturn\u001b[0m \u001b[0mSeries\u001b[0m\u001b[0;34m(\u001b[0m\u001b[0mresult\u001b[0m\u001b[0;34m,\u001b[0m \u001b[0mindex\u001b[0m\u001b[0;34m=\u001b[0m\u001b[0mlabels\u001b[0m\u001b[0;34m)\u001b[0m\u001b[0;34m\u001b[0m\u001b[0m\n\u001b[1;32m   4320\u001b[0m                 \u001b[0;32mexcept\u001b[0m \u001b[0mException\u001b[0m\u001b[0;34m:\u001b[0m\u001b[0;34m\u001b[0m\u001b[0m\n",
      "\u001b[0;32mpandas/_libs/src/reduce.pyx\u001b[0m in \u001b[0;36mpandas._libs.lib.reduce (pandas/_libs/lib.c:44036)\u001b[0;34m()\u001b[0m\n",
      "\u001b[0;32mpandas/_libs/src/reduce.pyx\u001b[0m in \u001b[0;36mpandas._libs.lib.Reducer.get_result (pandas/_libs/lib.c:33629)\u001b[0;34m()\u001b[0m\n",
      "\u001b[0;32m<ipython-input-71-f6e9fe276c6e>\u001b[0m in \u001b[0;36m<lambda>\u001b[0;34m(row)\u001b[0m\n\u001b[1;32m      2\u001b[0m     auctions['ip_' + str(n)] = auctions.apply(lambda row: mcnultymod.proximity_val(row, \n\u001b[1;32m      3\u001b[0m                                                                                    \u001b[0mauctions\u001b[0m\u001b[0;34m,\u001b[0m\u001b[0;34m\u001b[0m\u001b[0m\n\u001b[0;32m----> 4\u001b[0;31m                                                                                    \u001b[0mthresh\u001b[0m\u001b[0;34m\u001b[0m\u001b[0m\n\u001b[0m\u001b[1;32m      5\u001b[0m                                                                                   ), axis=1)\n",
      "\u001b[0;32m~/ds/metis/metisgh/projects/Proj-03-McNulty/code/mcnultymod.py\u001b[0m in \u001b[0;36mproximity_val\u001b[0;34m(current, match_df, threshold, mode, lat_col, lon_col)\u001b[0m\n\u001b[1;32m    341\u001b[0m                   \u001b[0mmode\u001b[0m\u001b[0;34m=\u001b[0m\u001b[0;34m'binary'\u001b[0m\u001b[0;34m,\u001b[0m\u001b[0;34m\u001b[0m\u001b[0m\n\u001b[1;32m    342\u001b[0m                   \u001b[0mcoarse_filter\u001b[0m\u001b[0;34m=\u001b[0m\u001b[0;32mFalse\u001b[0m\u001b[0;34m,\u001b[0m\u001b[0;34m\u001b[0m\u001b[0m\n\u001b[0;32m--> 343\u001b[0;31m                   \u001b[0mlat_col\u001b[0m\u001b[0;34m=\u001b[0m\u001b[0;34m'latitude'\u001b[0m\u001b[0;34m,\u001b[0m\u001b[0;34m\u001b[0m\u001b[0m\n\u001b[0m\u001b[1;32m    344\u001b[0m                   \u001b[0mlon_col\u001b[0m\u001b[0;34m=\u001b[0m\u001b[0;34m'longitude'\u001b[0m\u001b[0;34m\u001b[0m\u001b[0m\n\u001b[1;32m    345\u001b[0m                  ):\n",
      "\u001b[0;32m~/anaconda/lib/python3.6/site-packages/pandas/core/frame.py\u001b[0m in \u001b[0;36miterrows\u001b[0;34m(self)\u001b[0m\n\u001b[1;32m    696\u001b[0m         \u001b[0mklass\u001b[0m \u001b[0;34m=\u001b[0m \u001b[0mself\u001b[0m\u001b[0;34m.\u001b[0m\u001b[0m_constructor_sliced\u001b[0m\u001b[0;34m\u001b[0m\u001b[0m\n\u001b[1;32m    697\u001b[0m         \u001b[0;32mfor\u001b[0m \u001b[0mk\u001b[0m\u001b[0;34m,\u001b[0m \u001b[0mv\u001b[0m \u001b[0;32min\u001b[0m \u001b[0mzip\u001b[0m\u001b[0;34m(\u001b[0m\u001b[0mself\u001b[0m\u001b[0;34m.\u001b[0m\u001b[0mindex\u001b[0m\u001b[0;34m,\u001b[0m \u001b[0mself\u001b[0m\u001b[0;34m.\u001b[0m\u001b[0mvalues\u001b[0m\u001b[0;34m)\u001b[0m\u001b[0;34m:\u001b[0m\u001b[0;34m\u001b[0m\u001b[0m\n\u001b[0;32m--> 698\u001b[0;31m             \u001b[0ms\u001b[0m \u001b[0;34m=\u001b[0m \u001b[0mklass\u001b[0m\u001b[0;34m(\u001b[0m\u001b[0mv\u001b[0m\u001b[0;34m,\u001b[0m \u001b[0mindex\u001b[0m\u001b[0;34m=\u001b[0m\u001b[0mcolumns\u001b[0m\u001b[0;34m,\u001b[0m \u001b[0mname\u001b[0m\u001b[0;34m=\u001b[0m\u001b[0mk\u001b[0m\u001b[0;34m)\u001b[0m\u001b[0;34m\u001b[0m\u001b[0m\n\u001b[0m\u001b[1;32m    699\u001b[0m             \u001b[0;32myield\u001b[0m \u001b[0mk\u001b[0m\u001b[0;34m,\u001b[0m \u001b[0ms\u001b[0m\u001b[0;34m\u001b[0m\u001b[0m\n\u001b[1;32m    700\u001b[0m \u001b[0;34m\u001b[0m\u001b[0m\n",
      "\u001b[0;32m~/anaconda/lib/python3.6/site-packages/pandas/core/series.py\u001b[0m in \u001b[0;36m__init__\u001b[0;34m(self, data, index, dtype, name, copy, fastpath)\u001b[0m\n\u001b[1;32m    252\u001b[0m         \u001b[0mgeneric\u001b[0m\u001b[0;34m.\u001b[0m\u001b[0mNDFrame\u001b[0m\u001b[0;34m.\u001b[0m\u001b[0m__init__\u001b[0m\u001b[0;34m(\u001b[0m\u001b[0mself\u001b[0m\u001b[0;34m,\u001b[0m \u001b[0mdata\u001b[0m\u001b[0;34m,\u001b[0m \u001b[0mfastpath\u001b[0m\u001b[0;34m=\u001b[0m\u001b[0;32mTrue\u001b[0m\u001b[0;34m)\u001b[0m\u001b[0;34m\u001b[0m\u001b[0m\n\u001b[1;32m    253\u001b[0m \u001b[0;34m\u001b[0m\u001b[0m\n\u001b[0;32m--> 254\u001b[0;31m         \u001b[0mself\u001b[0m\u001b[0;34m.\u001b[0m\u001b[0mname\u001b[0m \u001b[0;34m=\u001b[0m \u001b[0mname\u001b[0m\u001b[0;34m\u001b[0m\u001b[0m\n\u001b[0m\u001b[1;32m    255\u001b[0m         \u001b[0mself\u001b[0m\u001b[0;34m.\u001b[0m\u001b[0m_set_axis\u001b[0m\u001b[0;34m(\u001b[0m\u001b[0;36m0\u001b[0m\u001b[0;34m,\u001b[0m \u001b[0mindex\u001b[0m\u001b[0;34m,\u001b[0m \u001b[0mfastpath\u001b[0m\u001b[0;34m=\u001b[0m\u001b[0;32mTrue\u001b[0m\u001b[0;34m)\u001b[0m\u001b[0;34m\u001b[0m\u001b[0m\n\u001b[1;32m    256\u001b[0m \u001b[0;34m\u001b[0m\u001b[0m\n",
      "\u001b[0;32m~/anaconda/lib/python3.6/site-packages/pandas/core/generic.py\u001b[0m in \u001b[0;36m__setattr__\u001b[0;34m(self, name, value)\u001b[0m\n\u001b[1;32m   3094\u001b[0m             \u001b[0;32mreturn\u001b[0m \u001b[0mobject\u001b[0m\u001b[0;34m.\u001b[0m\u001b[0m__setattr__\u001b[0m\u001b[0;34m(\u001b[0m\u001b[0mself\u001b[0m\u001b[0;34m,\u001b[0m \u001b[0mname\u001b[0m\u001b[0;34m,\u001b[0m \u001b[0mvalue\u001b[0m\u001b[0;34m)\u001b[0m\u001b[0;34m\u001b[0m\u001b[0m\n\u001b[1;32m   3095\u001b[0m         \u001b[0;32mexcept\u001b[0m \u001b[0mAttributeError\u001b[0m\u001b[0;34m:\u001b[0m\u001b[0;34m\u001b[0m\u001b[0m\n\u001b[0;32m-> 3096\u001b[0;31m             \u001b[0;32mpass\u001b[0m\u001b[0;34m\u001b[0m\u001b[0m\n\u001b[0m\u001b[1;32m   3097\u001b[0m \u001b[0;34m\u001b[0m\u001b[0m\n\u001b[1;32m   3098\u001b[0m         \u001b[0;31m# if this fails, go on to more involved attribute setting\u001b[0m\u001b[0;34m\u001b[0m\u001b[0;34m\u001b[0m\u001b[0m\n",
      "\u001b[0;31mKeyboardInterrupt\u001b[0m: "
     ]
    }
   ],
   "source": [
    "for n, thresh in enumerate([0.1,0.2,0.5]):\n",
    "    auctions['thr_' + str(n)] = auctions.apply(lambda row: mcnultymod.proximity_val(row, \n",
    "                                                                                   auctions, \n",
    "                                                                                   thresh\n",
    "                                                                                  ), axis=1)"
   ]
  },
  {
   "cell_type": "code",
   "execution_count": null,
   "metadata": {},
   "outputs": [],
   "source": [
    "auctions.thr_0.value_counts()"
   ]
  },
  {
   "cell_type": "code",
   "execution_count": null,
   "metadata": {},
   "outputs": [],
   "source": [
    "auctions.thr_1.value_counts()"
   ]
  },
  {
   "cell_type": "code",
   "execution_count": null,
   "metadata": {},
   "outputs": [],
   "source": [
    "auctions.thr_2.value_counts()"
   ]
  },
  {
   "cell_type": "code",
   "execution_count": null,
   "metadata": {
    "collapsed": true
   },
   "outputs": [],
   "source": [
    "for n, thresh in enumerate([0.1,0.2,0.5]):\n",
    "    auctions['tcount_' + str(n)] = (auctions\n",
    "     .apply(lambda row: mcnultymod.proximity_val(row, auctions, thresh, mode='cumulative'), axis=1)\n",
    "                                   )"
   ]
  },
  {
   "cell_type": "code",
   "execution_count": 73,
   "metadata": {
    "collapsed": true
   },
   "outputs": [],
   "source": [
    "for n, thresh in enumerate([0.1,0.2,0.5]):\n",
    "    auctions['ip_' + str(n)] = auctions.apply(lambda row: mcnultymod.proximity_val(row, \n",
    "                                                                                   auctions[auctions.purchasertype == 'Investor'], \n",
    "                                                                                   thresh,\n",
    "                                                                                   mode='cumulative'\n",
    "                                                                                  ), axis=1)"
   ]
  },
  {
   "cell_type": "code",
   "execution_count": 74,
   "metadata": {},
   "outputs": [
    {
     "data": {
      "text/html": [
       "<div>\n",
       "<style>\n",
       "    .dataframe thead tr:only-child th {\n",
       "        text-align: right;\n",
       "    }\n",
       "\n",
       "    .dataframe thead th {\n",
       "        text-align: left;\n",
       "    }\n",
       "\n",
       "    .dataframe tbody tr th {\n",
       "        vertical-align: top;\n",
       "    }\n",
       "</style>\n",
       "<table border=\"1\" class=\"dataframe\">\n",
       "  <thead>\n",
       "    <tr style=\"text-align: right;\">\n",
       "      <th></th>\n",
       "      <th>address</th>\n",
       "      <th>parcelid</th>\n",
       "      <th>price</th>\n",
       "      <th>closingdate</th>\n",
       "      <th>salestatus</th>\n",
       "      <th>buyerstatus</th>\n",
       "      <th>purchasertype</th>\n",
       "      <th>program</th>\n",
       "      <th>councildistrict</th>\n",
       "      <th>neighborhood</th>\n",
       "      <th>latitude</th>\n",
       "      <th>longitude</th>\n",
       "      <th>location</th>\n",
       "      <th>num_permits</th>\n",
       "      <th>year</th>\n",
       "      <th>ptype_num</th>\n",
       "      <th>n_bin</th>\n",
       "      <th>ip_0</th>\n",
       "      <th>ip_1</th>\n",
       "      <th>ip_2</th>\n",
       "    </tr>\n",
       "  </thead>\n",
       "  <tbody>\n",
       "    <tr>\n",
       "      <th>1</th>\n",
       "      <td>14345 Grandville</td>\n",
       "      <td>22088763.</td>\n",
       "      <td>11400.0</td>\n",
       "      <td>2015-04-23</td>\n",
       "      <td>Closed</td>\n",
       "      <td>Selected</td>\n",
       "      <td>Investor</td>\n",
       "      <td>Auction</td>\n",
       "      <td>1</td>\n",
       "      <td>Westwood Park</td>\n",
       "      <td>42.391877</td>\n",
       "      <td>-83.231375</td>\n",
       "      <td>location\\n(42.391877, -83.231375)</td>\n",
       "      <td>0.0</td>\n",
       "      <td>2015</td>\n",
       "      <td>1</td>\n",
       "      <td>4</td>\n",
       "      <td>1</td>\n",
       "      <td>1</td>\n",
       "      <td>4</td>\n",
       "    </tr>\n",
       "    <tr>\n",
       "      <th>3</th>\n",
       "      <td>2224 W Boston Blvd</td>\n",
       "      <td>10002831.</td>\n",
       "      <td>62800.0</td>\n",
       "      <td>2015-06-17</td>\n",
       "      <td>Closed</td>\n",
       "      <td>Selected</td>\n",
       "      <td>Investor</td>\n",
       "      <td>Auction</td>\n",
       "      <td>5</td>\n",
       "      <td>Boston Edison</td>\n",
       "      <td>42.380017</td>\n",
       "      <td>-83.106803</td>\n",
       "      <td>location\\n(42.380017, -83.106803)</td>\n",
       "      <td>0.0</td>\n",
       "      <td>2015</td>\n",
       "      <td>1</td>\n",
       "      <td>4</td>\n",
       "      <td>0</td>\n",
       "      <td>0</td>\n",
       "      <td>11</td>\n",
       "    </tr>\n",
       "    <tr>\n",
       "      <th>6</th>\n",
       "      <td>6859 Auburn</td>\n",
       "      <td>22092985.</td>\n",
       "      <td>1000.0</td>\n",
       "      <td>2017-03-08</td>\n",
       "      <td>Closed</td>\n",
       "      <td>Selected</td>\n",
       "      <td>Investor</td>\n",
       "      <td>Auction</td>\n",
       "      <td>7</td>\n",
       "      <td>Warrendale</td>\n",
       "      <td>42.341779</td>\n",
       "      <td>-83.233166</td>\n",
       "      <td>location\\n(42.341779, -83.233166)</td>\n",
       "      <td>0.0</td>\n",
       "      <td>2017</td>\n",
       "      <td>1</td>\n",
       "      <td>2</td>\n",
       "      <td>3</td>\n",
       "      <td>5</td>\n",
       "      <td>12</td>\n",
       "    </tr>\n",
       "    <tr>\n",
       "      <th>11</th>\n",
       "      <td>8614 Northlawn</td>\n",
       "      <td>18014620.</td>\n",
       "      <td>1000.0</td>\n",
       "      <td>2017-02-09</td>\n",
       "      <td>Closed</td>\n",
       "      <td>Selected</td>\n",
       "      <td>Investor</td>\n",
       "      <td>Auction</td>\n",
       "      <td>7</td>\n",
       "      <td>Barton-McFarland</td>\n",
       "      <td>42.358337</td>\n",
       "      <td>-83.151738</td>\n",
       "      <td>location\\n(42.358337, -83.151738)</td>\n",
       "      <td>0.0</td>\n",
       "      <td>2017</td>\n",
       "      <td>1</td>\n",
       "      <td>3</td>\n",
       "      <td>0</td>\n",
       "      <td>0</td>\n",
       "      <td>5</td>\n",
       "    </tr>\n",
       "    <tr>\n",
       "      <th>12</th>\n",
       "      <td>7347 Heyden</td>\n",
       "      <td>22099990.</td>\n",
       "      <td>9600.0</td>\n",
       "      <td>2017-09-28</td>\n",
       "      <td>Closed</td>\n",
       "      <td>Selected</td>\n",
       "      <td>Investor</td>\n",
       "      <td>Auction</td>\n",
       "      <td>7</td>\n",
       "      <td>Warrendale</td>\n",
       "      <td>42.345250</td>\n",
       "      <td>-83.238269</td>\n",
       "      <td>location\\n(42.34525, -83.238269)</td>\n",
       "      <td>0.0</td>\n",
       "      <td>2017</td>\n",
       "      <td>1</td>\n",
       "      <td>2</td>\n",
       "      <td>2</td>\n",
       "      <td>2</td>\n",
       "      <td>10</td>\n",
       "    </tr>\n",
       "  </tbody>\n",
       "</table>\n",
       "</div>"
      ],
      "text/plain": [
       "               address   parcelid    price closingdate salestatus buyerstatus  \\\n",
       "1     14345 Grandville  22088763.  11400.0  2015-04-23     Closed    Selected   \n",
       "3   2224 W Boston Blvd  10002831.  62800.0  2015-06-17     Closed    Selected   \n",
       "6          6859 Auburn  22092985.   1000.0  2017-03-08     Closed    Selected   \n",
       "11      8614 Northlawn  18014620.   1000.0  2017-02-09     Closed    Selected   \n",
       "12         7347 Heyden  22099990.   9600.0  2017-09-28     Closed    Selected   \n",
       "\n",
       "   purchasertype  program  councildistrict      neighborhood   latitude  \\\n",
       "1       Investor  Auction                1     Westwood Park  42.391877   \n",
       "3       Investor  Auction                5     Boston Edison  42.380017   \n",
       "6       Investor  Auction                7        Warrendale  42.341779   \n",
       "11      Investor  Auction                7  Barton-McFarland  42.358337   \n",
       "12      Investor  Auction                7        Warrendale  42.345250   \n",
       "\n",
       "    longitude                           location  num_permits  year  \\\n",
       "1  -83.231375  location\\n(42.391877, -83.231375)          0.0  2015   \n",
       "3  -83.106803  location\\n(42.380017, -83.106803)          0.0  2015   \n",
       "6  -83.233166  location\\n(42.341779, -83.233166)          0.0  2017   \n",
       "11 -83.151738  location\\n(42.358337, -83.151738)          0.0  2017   \n",
       "12 -83.238269   location\\n(42.34525, -83.238269)          0.0  2017   \n",
       "\n",
       "    ptype_num  n_bin  ip_0  ip_1  ip_2  \n",
       "1           1      4     1     1     4  \n",
       "3           1      4     0     0    11  \n",
       "6           1      2     3     5    12  \n",
       "11          1      3     0     0     5  \n",
       "12          1      2     2     2    10  "
      ]
     },
     "execution_count": 74,
     "metadata": {},
     "output_type": "execute_result"
    }
   ],
   "source": [
    "auctions[auctions.purchasertype == 'Investor'].head()"
   ]
  },
  {
   "cell_type": "markdown",
   "metadata": {},
   "source": [
    "### Binning Price"
   ]
  },
  {
   "cell_type": "code",
   "execution_count": 75,
   "metadata": {},
   "outputs": [
    {
     "name": "stderr",
     "output_type": "stream",
     "text": [
      "/Users/dluther/anaconda/lib/python3.6/site-packages/ipykernel/__main__.py:2: SettingWithCopyWarning: \n",
      "A value is trying to be set on a copy of a slice from a DataFrame\n",
      "\n",
      "See the caveats in the documentation: http://pandas.pydata.org/pandas-docs/stable/indexing.html#indexing-view-versus-copy\n",
      "  from ipykernel import kernelapp as app\n",
      "/Users/dluther/anaconda/lib/python3.6/site-packages/ipykernel/__main__.py:3: SettingWithCopyWarning: \n",
      "A value is trying to be set on a copy of a slice from a DataFrame\n",
      "\n",
      "See the caveats in the documentation: http://pandas.pydata.org/pandas-docs/stable/indexing.html#indexing-view-versus-copy\n",
      "  app.launch_new_instance()\n"
     ]
    }
   ],
   "source": [
    "auctions['p_bin'] = 0\n",
    "auctions.p_bin[auctions.price > 5000] = 1\n",
    "auctions.p_bin[auctions.price > 20000] = 2"
   ]
  },
  {
   "cell_type": "markdown",
   "metadata": {},
   "source": [
    "### Examining Correlations"
   ]
  },
  {
   "cell_type": "code",
   "execution_count": 76,
   "metadata": {},
   "outputs": [
    {
     "data": {
      "text/html": [
       "<div>\n",
       "<style>\n",
       "    .dataframe thead tr:only-child th {\n",
       "        text-align: right;\n",
       "    }\n",
       "\n",
       "    .dataframe thead th {\n",
       "        text-align: left;\n",
       "    }\n",
       "\n",
       "    .dataframe tbody tr th {\n",
       "        vertical-align: top;\n",
       "    }\n",
       "</style>\n",
       "<table border=\"1\" class=\"dataframe\">\n",
       "  <thead>\n",
       "    <tr style=\"text-align: right;\">\n",
       "      <th></th>\n",
       "      <th>ptype_num</th>\n",
       "      <th>price</th>\n",
       "      <th>p_bin</th>\n",
       "      <th>councildistrict</th>\n",
       "      <th>n_bin</th>\n",
       "      <th>ip_0</th>\n",
       "      <th>ip_1</th>\n",
       "      <th>ip_2</th>\n",
       "    </tr>\n",
       "  </thead>\n",
       "  <tbody>\n",
       "    <tr>\n",
       "      <th>ptype_num</th>\n",
       "      <td>1.000000</td>\n",
       "      <td>0.029036</td>\n",
       "      <td>0.053263</td>\n",
       "      <td>0.013897</td>\n",
       "      <td>0.326055</td>\n",
       "      <td>0.052812</td>\n",
       "      <td>-0.010864</td>\n",
       "      <td>-0.006687</td>\n",
       "    </tr>\n",
       "    <tr>\n",
       "      <th>price</th>\n",
       "      <td>0.029036</td>\n",
       "      <td>1.000000</td>\n",
       "      <td>0.774980</td>\n",
       "      <td>0.018727</td>\n",
       "      <td>0.162510</td>\n",
       "      <td>0.062960</td>\n",
       "      <td>0.123583</td>\n",
       "      <td>0.166499</td>\n",
       "    </tr>\n",
       "    <tr>\n",
       "      <th>p_bin</th>\n",
       "      <td>0.053263</td>\n",
       "      <td>0.774980</td>\n",
       "      <td>1.000000</td>\n",
       "      <td>-0.017947</td>\n",
       "      <td>0.127289</td>\n",
       "      <td>0.039214</td>\n",
       "      <td>0.117351</td>\n",
       "      <td>0.136699</td>\n",
       "    </tr>\n",
       "    <tr>\n",
       "      <th>councildistrict</th>\n",
       "      <td>0.013897</td>\n",
       "      <td>0.018727</td>\n",
       "      <td>-0.017947</td>\n",
       "      <td>1.000000</td>\n",
       "      <td>0.061427</td>\n",
       "      <td>0.144480</td>\n",
       "      <td>0.230479</td>\n",
       "      <td>0.321733</td>\n",
       "    </tr>\n",
       "    <tr>\n",
       "      <th>n_bin</th>\n",
       "      <td>0.326055</td>\n",
       "      <td>0.162510</td>\n",
       "      <td>0.127289</td>\n",
       "      <td>0.061427</td>\n",
       "      <td>1.000000</td>\n",
       "      <td>0.178748</td>\n",
       "      <td>0.226238</td>\n",
       "      <td>0.222340</td>\n",
       "    </tr>\n",
       "    <tr>\n",
       "      <th>ip_0</th>\n",
       "      <td>0.052812</td>\n",
       "      <td>0.062960</td>\n",
       "      <td>0.039214</td>\n",
       "      <td>0.144480</td>\n",
       "      <td>0.178748</td>\n",
       "      <td>1.000000</td>\n",
       "      <td>0.681933</td>\n",
       "      <td>0.437329</td>\n",
       "    </tr>\n",
       "    <tr>\n",
       "      <th>ip_1</th>\n",
       "      <td>-0.010864</td>\n",
       "      <td>0.123583</td>\n",
       "      <td>0.117351</td>\n",
       "      <td>0.230479</td>\n",
       "      <td>0.226238</td>\n",
       "      <td>0.681933</td>\n",
       "      <td>1.000000</td>\n",
       "      <td>0.662742</td>\n",
       "    </tr>\n",
       "    <tr>\n",
       "      <th>ip_2</th>\n",
       "      <td>-0.006687</td>\n",
       "      <td>0.166499</td>\n",
       "      <td>0.136699</td>\n",
       "      <td>0.321733</td>\n",
       "      <td>0.222340</td>\n",
       "      <td>0.437329</td>\n",
       "      <td>0.662742</td>\n",
       "      <td>1.000000</td>\n",
       "    </tr>\n",
       "  </tbody>\n",
       "</table>\n",
       "</div>"
      ],
      "text/plain": [
       "                 ptype_num     price     p_bin  councildistrict     n_bin  \\\n",
       "ptype_num         1.000000  0.029036  0.053263         0.013897  0.326055   \n",
       "price             0.029036  1.000000  0.774980         0.018727  0.162510   \n",
       "p_bin             0.053263  0.774980  1.000000        -0.017947  0.127289   \n",
       "councildistrict   0.013897  0.018727 -0.017947         1.000000  0.061427   \n",
       "n_bin             0.326055  0.162510  0.127289         0.061427  1.000000   \n",
       "ip_0              0.052812  0.062960  0.039214         0.144480  0.178748   \n",
       "ip_1             -0.010864  0.123583  0.117351         0.230479  0.226238   \n",
       "ip_2             -0.006687  0.166499  0.136699         0.321733  0.222340   \n",
       "\n",
       "                     ip_0      ip_1      ip_2  \n",
       "ptype_num        0.052812 -0.010864 -0.006687  \n",
       "price            0.062960  0.123583  0.166499  \n",
       "p_bin            0.039214  0.117351  0.136699  \n",
       "councildistrict  0.144480  0.230479  0.321733  \n",
       "n_bin            0.178748  0.226238  0.222340  \n",
       "ip_0             1.000000  0.681933  0.437329  \n",
       "ip_1             0.681933  1.000000  0.662742  \n",
       "ip_2             0.437329  0.662742  1.000000  "
      ]
     },
     "execution_count": 76,
     "metadata": {},
     "output_type": "execute_result"
    }
   ],
   "source": [
    "auctions.filter(['ptype_num', \n",
    "                 'price',\n",
    "                 'p_bin',\n",
    "#                 'num_permits', \n",
    "#                 'year', \n",
    "                 'councildistrict', \n",
    "                 'n_bin',\n",
    "                 'thr_0',\n",
    "                 'thr_1',\n",
    "                 'thr_2',\n",
    "                 'tcount_0',\n",
    "                 'tcount_1',\n",
    "                 'tcount_2',\n",
    "                 'ip_0',\n",
    "                 'ip_1',\n",
    "                 'ip_2'\n",
    "                ]).corr()"
   ]
  },
  {
   "cell_type": "markdown",
   "metadata": {},
   "source": [
    "Finally, some noticeable correlation between neighborhood bin and purchaser type, though it is disappointing that any other correlations are virtually nonexistent..."
   ]
  },
  {
   "cell_type": "code",
   "execution_count": null,
   "metadata": {
    "collapsed": true
   },
   "outputs": [],
   "source": [
    "auctions.to_pickle('../data/auctionsclosed_v2.pkl')"
   ]
  }
 ],
 "metadata": {
  "kernelspec": {
   "display_name": "Python [conda root]",
   "language": "python",
   "name": "conda-root-py"
  },
  "language_info": {
   "codemirror_mode": {
    "name": "ipython",
    "version": 3
   },
   "file_extension": ".py",
   "mimetype": "text/x-python",
   "name": "python",
   "nbconvert_exporter": "python",
   "pygments_lexer": "ipython3",
   "version": "3.6.2"
  }
 },
 "nbformat": 4,
 "nbformat_minor": 2
}
