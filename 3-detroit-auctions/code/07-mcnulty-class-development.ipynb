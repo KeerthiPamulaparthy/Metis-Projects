{
 "cells": [
  {
   "cell_type": "code",
   "execution_count": 1,
   "metadata": {
    "collapsed": true
   },
   "outputs": [],
   "source": [
    "import mcnultymod\n",
    "import pandas as pd\n",
    "import numpy as np\n",
    "\n",
    "from geopy.distance import vincenty"
   ]
  },
  {
   "cell_type": "code",
   "execution_count": 2,
   "metadata": {
    "collapsed": true
   },
   "outputs": [],
   "source": [
    "auctions = pd.read_pickle('../data/auctionsclosed.pkl')"
   ]
  },
  {
   "cell_type": "markdown",
   "metadata": {},
   "source": [
    "Two of the devices used in feature transformation essentially require a \"fitting\" before transformation -- finding weights by proximity, and binning neighborhoods. Both of these things are based on relationships to the training set, so can be fitted off of that before transforming the training and test sets."
   ]
  },
  {
   "cell_type": "markdown",
   "metadata": {},
   "source": [
    "## Neighborhood Weights"
   ]
  },
  {
   "cell_type": "code",
   "execution_count": null,
   "metadata": {
    "collapsed": true
   },
   "outputs": [],
   "source": [
    "class BinNeighborhoods(object):\n",
    "    \"\"\"\n",
    "    Bins neighborhoods according to density of investors, with bin bounds provided\n",
    "    during fit.\n",
    "    \"\"\"\n",
    "    \n",
    "    def __init__(self, nh_col='neighborhood'):\n",
    "        self.nh_col_ = nh_col\n",
    "        self.bin_bounds_ = None\n",
    "        self.fit_ = False\n",
    "\n",
    "\n",
    "    def _nhood_investor_ratios(self, fit_df):\n",
    "        \"\"\"\n",
    "        Calculates the ratio of investors to all buyers per neighborhood, appends as    \n",
    "        a new column to neighborhoods dataframe.\n",
    "        ---\n",
    "        IN\n",
    "        fit_df: main auction dataframe\n",
    "        OUT\n",
    "        nhood_df: updated with investor ratio column\n",
    "        \"\"\"\n",
    "\n",
    "        if self.fit_ == False:\n",
    "            print(\"ERROR: You haven't fit the object, do that first!\")\n",
    "            return None\n",
    "        \n",
    "        inv_ratios = []\n",
    "        \n",
    "        for _, row in self.nhoods_.iterrows():\n",
    "            nhood = row[self.nh_col_]\n",
    "            temp = fit_df[fit_df[self.nh_col_] == nhood]\n",
    "            inv_ratio = (temp[temp.purchasertype == 'Investor'].shape[0] / \n",
    "                         temp.shape[0])\n",
    "            inv_ratios.append(inv_ratio)\n",
    "            \n",
    "        self.nhoods_['inv_ratio'] = inv_ratios\n",
    "\n",
    "        \n",
    "    def _bin_neighborhoods(self):\n",
    "        \"\"\"\n",
    "        Assigns each neighborhood a bin number based on ratio of investors.\n",
    "        ---\n",
    "        IN\n",
    "        df: neighborhoods dataframe with investor ratios (df)\n",
    "        binlist: lower bounds for each bin\n",
    "        OUT\n",
    "        df: neighborhoods dataframe with investor ratio bins column\n",
    "        \"\"\"\n",
    "        \n",
    "        if self.fit_ == False:\n",
    "            print(\"ERROR: You haven't fit the object, do that first!\")\n",
    "            return None\n",
    "        \n",
    "        self.nhoods_['n_bin'] = 0\n",
    "\n",
    "        for n, val in enumerate(self.bin_bounds_):\n",
    "            # self.nhoods_.n_bin[self.nhoods_.inv_ratio > val] = n\n",
    "            self.nhoods_.loc[self.nhoods_.inv_ratio > val, 'n_bin'] = n\n",
    "        \n",
    "        \n",
    "    def fit(self, fit_df, lower_bin_bounds=[0,0.1,0.25,0.33,0.45,0.75]):\n",
    "        \"\"\"\n",
    "        Docstring coming soon!\n",
    "        \"\"\"\n",
    "        \n",
    "        if self.fit_ == True:\n",
    "            print(\"ERROR: Object already fit!\")\n",
    "            return None\n",
    "        \n",
    "        self.fit_ = True\n",
    "        self.bin_bounds_ = lower_bin_bounds \n",
    "        \n",
    "        self.nhoods_ = (fit_df[self.nh_col_]\n",
    "         .value_counts()\n",
    "         .reset_index()\n",
    "         .rename(columns={'index': self.nh_col_, self.nh_col_: 'n_count'})\n",
    "                   )\n",
    "        \n",
    "        self._nhood_investor_ratios(fit_df)\n",
    "        self._bin_neighborhoods()\n",
    "\n",
    "        \n",
    "    def merge_bins(self, df, how_merge='left'):\n",
    "        \"\"\"\n",
    "        Docstring coming soon!\n",
    "        \"\"\"\n",
    "        \n",
    "        if self.fit_ == False:\n",
    "            print(\"You haven't fit the object, do that first!\")\n",
    "            return None            \n",
    "        \n",
    "        df = pd.merge(df, \n",
    "                      self.nhoods_.filter([self.nh_col_, 'n_bin']), \n",
    "                      how=how_merge, \n",
    "                      on=self.nh_col_\n",
    "                     )\n",
    "        return df"
   ]
  },
  {
   "cell_type": "code",
   "execution_count": null,
   "metadata": {
    "collapsed": true
   },
   "outputs": [],
   "source": [
    "try_the_bin = BinNeighborhoods()"
   ]
  },
  {
   "cell_type": "code",
   "execution_count": null,
   "metadata": {
    "collapsed": true
   },
   "outputs": [],
   "source": [
    "try_the_bin.fit(auctions)"
   ]
  },
  {
   "cell_type": "code",
   "execution_count": null,
   "metadata": {},
   "outputs": [],
   "source": [
    "try_the_bin.bin_bounds_"
   ]
  },
  {
   "cell_type": "code",
   "execution_count": null,
   "metadata": {
    "collapsed": true
   },
   "outputs": [],
   "source": [
    "auctions_new = try_the_bin.merge_bins(auctions)"
   ]
  },
  {
   "cell_type": "code",
   "execution_count": null,
   "metadata": {},
   "outputs": [],
   "source": [
    "try_the_bin.fit(auctions)"
   ]
  },
  {
   "cell_type": "markdown",
   "metadata": {},
   "source": [
    "## Proximity Weights/Counts"
   ]
  },
  {
   "cell_type": "code",
   "execution_count": null,
   "metadata": {
    "collapsed": true
   },
   "outputs": [],
   "source": [
    "class WeightByProximity(object):\n",
    "    \"\"\"\n",
    "    Includes functions to assign a weight to a particular location based on its\n",
    "    proximity to a list of other locations based on latitude/longitude. Can be \n",
    "    set to return a binary weight if any other locations fall within a certain\n",
    "    threshold, or the count of other locations that fall within a certain\n",
    "    threshold. The fit() method must be run before using the prox_weight()\n",
    "    method.\n",
    "    \"\"\"\n",
    "    \n",
    "    def __init__(self, lat_col='latitude', lng_col='longitude'):\n",
    "        self.lat_col_ = lat_col\n",
    "        self.lng_col_ = lng_col\n",
    "        self.fit_ = False\n",
    "\n",
    "        \n",
    "    def fit(self, fit_df, match_column, lat_filter=0.015, lng_filter=0.02):\n",
    "        \"\"\"\n",
    "        Loads table containing latitude/longitude information to be used to\n",
    "        provide proximity weights for other table(s).  \n",
    "        ---\n",
    "        IN\n",
    "        fit_df: dataframe containing latitude and longitude columns to be used \n",
    "            in calculation of weights (df)\n",
    "        match_column: set to the name of a column appearing in both dfs to \n",
    "            filter based on matching value. COMING SOON: leave as None if no \n",
    "            filter needed, ignore matching lat/lng pairs option. (str)\n",
    "        lat_filter: latitude delta that should be close to 1 mi, or slightly \n",
    "            larger -- used to create a sub-table for precise calculations.\n",
    "            Preset works for a latitude of ~43. (float)\n",
    "        lng_filter: longitude delta close to 1 mi, or slightly larger (float)\n",
    "        \"\"\"\n",
    "\n",
    "        if self.fit_ == True:\n",
    "            print(\"ERROR: Object already fit!\")\n",
    "            return None\n",
    "        \n",
    "        self.fit_ = True\n",
    "        self.match_col_ = match_column\n",
    "        self.lat_filter_ = lat_filter\n",
    "        self.lng_filter_ = lng_filter\n",
    "        self.match_df_ = (fit_df\n",
    "         .filter([self.match_col_, 'latitude', 'longitude']))\n",
    "        \n",
    "        \n",
    "    def prox_weight(self, current, threshold, mode='binary', coarse_filter=True):\n",
    "        \"\"\"\n",
    "        Calculates proximity weight of a location.\n",
    "        ---\n",
    "        IN\n",
    "        current: row of dataframe for which to calculate proximity weight\n",
    "        threshold: length of radius (in miles) for comparison (float)\n",
    "        mode: 'binary' or 'cumulative' -- if 'binary', will return 0 if no location\n",
    "            matches found within threshold, and 1 if at least one. If 'cumulative', \n",
    "            will return the number of matches found within threshold. (str)\n",
    "        coarse_filter: cuts down on computation time by filtering lat/lng values\n",
    "            outside of a certain perimeter from the current lat/lng. STILL UNSTABLE.\n",
    "            (bool)\n",
    "        OUT\n",
    "        weight: proximity weight for location (df)\n",
    "        \"\"\"\n",
    "        \n",
    "        if self.fit_ == False:\n",
    "            print(\"ERROR: You haven't fit the object, do that first.\")\n",
    "            return None\n",
    "        \n",
    "        weight = 0\n",
    "        lat_in = current[self.lat_col_]\n",
    "        lng_in = current[self.lng_col_]\n",
    "        \n",
    "        if coarse_filter == True:\n",
    "            lat_lim = threshold * self.lat_filter_\n",
    "            lng_lim = threshold * self.lng_filter_\n",
    "            match_df = (self.match_df_[\n",
    "                (self.match_df_[self.lat_col_] > (lat_in - lat_lim)) &\n",
    "                (self.match_df_[self.lat_col_] < (lat_in + lat_lim)) &\n",
    "                (self.match_df_[self.lng_col_] > (lng_in - lng_lim)) &\n",
    "                (self.match_df_[self.lng_col_] < (lng_in + lng_lim))\n",
    "                ])\n",
    "        else:\n",
    "            match_df = self.match_df_\n",
    "\n",
    "        for _, row in match_df.iterrows():\n",
    "            lat = row[self.lat_col_]\n",
    "            lng = row[self.lng_col_]\n",
    "\n",
    "            if current[self.match_col_] == row[self.match_col_]:\n",
    "                continue\n",
    "            else:\n",
    "                dist = vincenty((lat, lng), (lat_in, lng_in)).miles\n",
    "\n",
    "            if dist < threshold and mode == 'binary':\n",
    "                weight = 1\n",
    "                break\n",
    "            elif dist < threshold and mode == 'cumulative':\n",
    "                weight += 1\n",
    "            else:\n",
    "                continue\n",
    "\n",
    "        return weight"
   ]
  },
  {
   "cell_type": "code",
   "execution_count": null,
   "metadata": {
    "collapsed": true
   },
   "outputs": [],
   "source": [
    "prox_test = WeightByProximity()"
   ]
  },
  {
   "cell_type": "code",
   "execution_count": 3,
   "metadata": {
    "collapsed": true
   },
   "outputs": [],
   "source": [
    "auc_sub = auctions.filter(['address', 'parcelid', 'neighborhood', 'latitude', 'longitude']).sample(100)"
   ]
  },
  {
   "cell_type": "code",
   "execution_count": null,
   "metadata": {
    "collapsed": true
   },
   "outputs": [],
   "source": [
    "prox_test.fit(auc_sub, match_column='parcelid')"
   ]
  },
  {
   "cell_type": "code",
   "execution_count": null,
   "metadata": {},
   "outputs": [],
   "source": [
    "# %%timeit\n",
    "t = 0.5\n",
    "auc_sub['bin_weight_t'] = (auc_sub\n",
    "    .apply(lambda row: prox_test.prox_weight(row, t, coarse_filter=True), axis=1))"
   ]
  },
  {
   "cell_type": "code",
   "execution_count": null,
   "metadata": {
    "scrolled": true
   },
   "outputs": [],
   "source": [
    "# %%timeit\n",
    "auc_sub['bin_weight_f'] = (auc_sub\n",
    "    .apply(lambda row: prox_test.prox_weight(row, t, coarse_filter=False), axis=1))"
   ]
  },
  {
   "cell_type": "code",
   "execution_count": null,
   "metadata": {},
   "outputs": [],
   "source": [
    "auc_sub.bin_weight_t.value_counts()"
   ]
  },
  {
   "cell_type": "code",
   "execution_count": null,
   "metadata": {},
   "outputs": [],
   "source": [
    "auc_sub.bin_weight_f.value_counts()"
   ]
  },
  {
   "cell_type": "markdown",
   "metadata": {},
   "source": [
    "## Testing the Module"
   ]
  },
  {
   "cell_type": "code",
   "execution_count": 4,
   "metadata": {},
   "outputs": [
    {
     "data": {
      "text/html": [
       "<div>\n",
       "<style>\n",
       "    .dataframe thead tr:only-child th {\n",
       "        text-align: right;\n",
       "    }\n",
       "\n",
       "    .dataframe thead th {\n",
       "        text-align: left;\n",
       "    }\n",
       "\n",
       "    .dataframe tbody tr th {\n",
       "        vertical-align: top;\n",
       "    }\n",
       "</style>\n",
       "<table border=\"1\" class=\"dataframe\">\n",
       "  <thead>\n",
       "    <tr style=\"text-align: right;\">\n",
       "      <th></th>\n",
       "      <th>address</th>\n",
       "      <th>parcelid</th>\n",
       "      <th>neighborhood</th>\n",
       "      <th>latitude</th>\n",
       "      <th>longitude</th>\n",
       "    </tr>\n",
       "  </thead>\n",
       "  <tbody>\n",
       "    <tr>\n",
       "      <th>1081</th>\n",
       "      <td>2451 Parker</td>\n",
       "      <td>17009082.</td>\n",
       "      <td>Islandview</td>\n",
       "      <td>42.361455</td>\n",
       "      <td>-83.001227</td>\n",
       "    </tr>\n",
       "    <tr>\n",
       "      <th>241</th>\n",
       "      <td>18304 Grayfield</td>\n",
       "      <td>22120385.</td>\n",
       "      <td>Seven Mile-Rouge</td>\n",
       "      <td>42.423264</td>\n",
       "      <td>-83.269373</td>\n",
       "    </tr>\n",
       "    <tr>\n",
       "      <th>5</th>\n",
       "      <td>17242 Beland</td>\n",
       "      <td>17015242.</td>\n",
       "      <td>Mount Olivet</td>\n",
       "      <td>42.421920</td>\n",
       "      <td>-83.008682</td>\n",
       "    </tr>\n",
       "    <tr>\n",
       "      <th>434</th>\n",
       "      <td>17125 Murray Hill</td>\n",
       "      <td>22060379.</td>\n",
       "      <td>College Park</td>\n",
       "      <td>42.416325</td>\n",
       "      <td>-83.208277</td>\n",
       "    </tr>\n",
       "    <tr>\n",
       "      <th>859</th>\n",
       "      <td>6902 Winthrop</td>\n",
       "      <td>22051514.</td>\n",
       "      <td>Warren Ave Community</td>\n",
       "      <td>42.342924</td>\n",
       "      <td>-83.197090</td>\n",
       "    </tr>\n",
       "  </tbody>\n",
       "</table>\n",
       "</div>"
      ],
      "text/plain": [
       "                address   parcelid          neighborhood   latitude  longitude\n",
       "1081        2451 Parker  17009082.            Islandview  42.361455 -83.001227\n",
       "241     18304 Grayfield  22120385.      Seven Mile-Rouge  42.423264 -83.269373\n",
       "5          17242 Beland  17015242.          Mount Olivet  42.421920 -83.008682\n",
       "434   17125 Murray Hill  22060379.          College Park  42.416325 -83.208277\n",
       "859       6902 Winthrop  22051514.  Warren Ave Community  42.342924 -83.197090"
      ]
     },
     "execution_count": 4,
     "metadata": {},
     "output_type": "execute_result"
    }
   ],
   "source": [
    "auc_sub.head()"
   ]
  },
  {
   "cell_type": "code",
   "execution_count": 5,
   "metadata": {
    "collapsed": true
   },
   "outputs": [],
   "source": [
    "pweighter = mcnultymod.WeightByProximity()"
   ]
  },
  {
   "cell_type": "code",
   "execution_count": 6,
   "metadata": {},
   "outputs": [],
   "source": [
    "pweighter.fit(auc_sub, match_column='parcelid')"
   ]
  },
  {
   "cell_type": "code",
   "execution_count": 7,
   "metadata": {},
   "outputs": [],
   "source": [
    "auc_sub['bin_weight'] = (auc_sub\n",
    "    .apply(lambda row: pweighter.prox_weight(row, 0.2), axis=1))"
   ]
  },
  {
   "cell_type": "code",
   "execution_count": 8,
   "metadata": {},
   "outputs": [
    {
     "data": {
      "text/html": [
       "<div>\n",
       "<style>\n",
       "    .dataframe thead tr:only-child th {\n",
       "        text-align: right;\n",
       "    }\n",
       "\n",
       "    .dataframe thead th {\n",
       "        text-align: left;\n",
       "    }\n",
       "\n",
       "    .dataframe tbody tr th {\n",
       "        vertical-align: top;\n",
       "    }\n",
       "</style>\n",
       "<table border=\"1\" class=\"dataframe\">\n",
       "  <thead>\n",
       "    <tr style=\"text-align: right;\">\n",
       "      <th></th>\n",
       "      <th>address</th>\n",
       "      <th>parcelid</th>\n",
       "      <th>neighborhood</th>\n",
       "      <th>latitude</th>\n",
       "      <th>longitude</th>\n",
       "      <th>bin_weight</th>\n",
       "    </tr>\n",
       "  </thead>\n",
       "  <tbody>\n",
       "    <tr>\n",
       "      <th>1081</th>\n",
       "      <td>2451 Parker</td>\n",
       "      <td>17009082.</td>\n",
       "      <td>Islandview</td>\n",
       "      <td>42.361455</td>\n",
       "      <td>-83.001227</td>\n",
       "      <td>0</td>\n",
       "    </tr>\n",
       "    <tr>\n",
       "      <th>241</th>\n",
       "      <td>18304 Grayfield</td>\n",
       "      <td>22120385.</td>\n",
       "      <td>Seven Mile-Rouge</td>\n",
       "      <td>42.423264</td>\n",
       "      <td>-83.269373</td>\n",
       "      <td>0</td>\n",
       "    </tr>\n",
       "    <tr>\n",
       "      <th>5</th>\n",
       "      <td>17242 Beland</td>\n",
       "      <td>17015242.</td>\n",
       "      <td>Mount Olivet</td>\n",
       "      <td>42.421920</td>\n",
       "      <td>-83.008682</td>\n",
       "      <td>0</td>\n",
       "    </tr>\n",
       "    <tr>\n",
       "      <th>434</th>\n",
       "      <td>17125 Murray Hill</td>\n",
       "      <td>22060379.</td>\n",
       "      <td>College Park</td>\n",
       "      <td>42.416325</td>\n",
       "      <td>-83.208277</td>\n",
       "      <td>0</td>\n",
       "    </tr>\n",
       "    <tr>\n",
       "      <th>859</th>\n",
       "      <td>6902 Winthrop</td>\n",
       "      <td>22051514.</td>\n",
       "      <td>Warren Ave Community</td>\n",
       "      <td>42.342924</td>\n",
       "      <td>-83.197090</td>\n",
       "      <td>1</td>\n",
       "    </tr>\n",
       "  </tbody>\n",
       "</table>\n",
       "</div>"
      ],
      "text/plain": [
       "                address   parcelid          neighborhood   latitude  \\\n",
       "1081        2451 Parker  17009082.            Islandview  42.361455   \n",
       "241     18304 Grayfield  22120385.      Seven Mile-Rouge  42.423264   \n",
       "5          17242 Beland  17015242.          Mount Olivet  42.421920   \n",
       "434   17125 Murray Hill  22060379.          College Park  42.416325   \n",
       "859       6902 Winthrop  22051514.  Warren Ave Community  42.342924   \n",
       "\n",
       "      longitude  bin_weight  \n",
       "1081 -83.001227           0  \n",
       "241  -83.269373           0  \n",
       "5    -83.008682           0  \n",
       "434  -83.208277           0  \n",
       "859  -83.197090           1  "
      ]
     },
     "execution_count": 8,
     "metadata": {},
     "output_type": "execute_result"
    }
   ],
   "source": [
    "auc_sub.head()"
   ]
  }
 ],
 "metadata": {
  "kernelspec": {
   "display_name": "Python [conda root]",
   "language": "python",
   "name": "conda-root-py"
  },
  "language_info": {
   "codemirror_mode": {
    "name": "ipython",
    "version": 3
   },
   "file_extension": ".py",
   "mimetype": "text/x-python",
   "name": "python",
   "nbconvert_exporter": "python",
   "pygments_lexer": "ipython3",
   "version": "3.6.2"
  }
 },
 "nbformat": 4,
 "nbformat_minor": 2
}
