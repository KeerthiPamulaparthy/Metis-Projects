{
 "cells": [
  {
   "cell_type": "code",
   "execution_count": 1,
   "metadata": {
    "collapsed": true
   },
   "outputs": [],
   "source": [
    "import mcnultymod\n",
    "import pandas as pd\n",
    "import numpy as np\n",
    "# import matplotlib.pyplot as plt\n",
    "# from mpl_toolkits.basemap import Basemap\n",
    "# import seaborn as sns\n",
    "# plt.style.use('seaborn')\n",
    "# %matplotlib inline\n",
    "# from geopy.distance import vincenty\n",
    "\n",
    "import pickle"
   ]
  },
  {
   "cell_type": "code",
   "execution_count": 2,
   "metadata": {
    "collapsed": true
   },
   "outputs": [],
   "source": [
    "auctions = pd.read_pickle('../data/auctionsclosed.pkl')\n",
    "auctions_test = pd.read_pickle('../data/auctionsclosed_test.pkl')"
   ]
  },
  {
   "cell_type": "markdown",
   "metadata": {},
   "source": [
    "Performs feature engineering on both the train and test set. **All transforms are fit on the training set, exactly like with Standard Scaler — the test features never \"see\" their corresponding targets.** "
   ]
  },
  {
   "cell_type": "code",
   "execution_count": 3,
   "metadata": {},
   "outputs": [
    {
     "name": "stdout",
     "output_type": "stream",
     "text": [
      "Inv/HB column binary\n",
      "Neighborhoods binned\n",
      "Inv/HB column binary\n",
      "Neighborhoods binned\n",
      "First proximity columns added\n",
      "Second proximity columns added\n",
      "First proximity columns added\n",
      "Second proximity columns added\n",
      "Binned by price\n",
      "Binned by price\n",
      "Done!\n"
     ]
    }
   ],
   "source": [
    "auctions_v2, auctions_test_v2 = mcnultymod.feature_eng([auctions, auctions_test])"
   ]
  },
  {
   "cell_type": "code",
   "execution_count": null,
   "metadata": {
    "collapsed": true
   },
   "outputs": [],
   "source": [
    "auctions_v2.to_pickle(\"../data/auctionsclosed_v2.pkl\")"
   ]
  },
  {
   "cell_type": "code",
   "execution_count": null,
   "metadata": {
    "collapsed": true
   },
   "outputs": [],
   "source": [
    "auctions_test_v2.to_pickle(\"../data/auctionsclosed_test_v2.pkl\")"
   ]
  }
 ],
 "metadata": {
  "kernelspec": {
   "display_name": "Python [conda root]",
   "language": "python",
   "name": "conda-root-py"
  },
  "language_info": {
   "codemirror_mode": {
    "name": "ipython",
    "version": 3
   },
   "file_extension": ".py",
   "mimetype": "text/x-python",
   "name": "python",
   "nbconvert_exporter": "python",
   "pygments_lexer": "ipython3",
   "version": "3.5.4"
  }
 },
 "nbformat": 4,
 "nbformat_minor": 2
}
