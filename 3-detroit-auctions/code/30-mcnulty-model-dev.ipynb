{
 "cells": [
  {
   "cell_type": "markdown",
   "metadata": {},
   "source": [
    "# 3.0 McNulty Model Development"
   ]
  },
  {
   "cell_type": "code",
   "execution_count": 1,
   "metadata": {
    "collapsed": true
   },
   "outputs": [],
   "source": [
    "import mcnultymod\n",
    "import pandas as pd\n",
    "import numpy as np\n",
    "import warnings\n",
    "\n",
    "from sklearn.preprocessing import StandardScaler\n",
    "from sklearn.neighbors import KNeighborsClassifier\n",
    "from sklearn.linear_model import LogisticRegression\n",
    "from sklearn.svm import SVC, LinearSVC\n",
    "from sklearn.naive_bayes import GaussianNB\n",
    "# from sklearn.tree import DecisionTreeClassifier\n",
    "from sklearn.ensemble import RandomForestClassifier\n",
    "from sklearn import metrics\n",
    "from sklearn.model_selection import (train_test_split,\n",
    "                                     cross_validate,\n",
    "                                     cross_val_score,\n",
    "                                     # cross_val_predict,\n",
    "                                     learning_curve,\n",
    "                                     StratifiedKFold,\n",
    "                                     GridSearchCV,\n",
    "                                     RandomizedSearchCV\n",
    "                                     # KFold\n",
    "                                    )\n",
    "\n",
    "from datetime import datetime, timedelta, date\n",
    "# import os\n",
    "import pickle\n",
    "\n",
    "import matplotlib.pyplot as plt\n",
    "from mpl_toolkits.basemap import Basemap\n",
    "import seaborn as sns\n",
    "plt.style.use('seaborn')\n",
    "%matplotlib inline"
   ]
  },
  {
   "cell_type": "markdown",
   "metadata": {},
   "source": [
    "## 1. First Round of Features"
   ]
  },
  {
   "cell_type": "code",
   "execution_count": 176,
   "metadata": {
    "collapsed": true
   },
   "outputs": [],
   "source": [
    "auctions = pd.read_pickle('../data/auctionsclosed.pkl')\n",
    "auctions_test = pd.read_pickle('../data/auctionsclosed_test.pkl')"
   ]
  },
  {
   "cell_type": "code",
   "execution_count": 193,
   "metadata": {},
   "outputs": [],
   "source": [
    "# What's the right way to do this...?\n",
    "auctions['ptype_num'] = 0\n",
    "# Evidently not this:\n",
    "# auctions.ptype_num[auctions.purchasertype == 'Investor'] = 1\n",
    "# Supposedly this is, but it still throws an error message:\n",
    "# auctions.loc[:, 'ptype_num'][auctions.purchasertype == 'Investor'] = 1\n",
    "# THIS IS IT! NEVER FORGET:\n",
    "auctions.loc[auctions.purchasertype == 'Investor', 'ptype_num'] = 1"
   ]
  },
  {
   "cell_type": "code",
   "execution_count": 195,
   "metadata": {},
   "outputs": [
    {
     "data": {
      "text/html": [
       "<div>\n",
       "<style>\n",
       "    .dataframe thead tr:only-child th {\n",
       "        text-align: right;\n",
       "    }\n",
       "\n",
       "    .dataframe thead th {\n",
       "        text-align: left;\n",
       "    }\n",
       "\n",
       "    .dataframe tbody tr th {\n",
       "        vertical-align: top;\n",
       "    }\n",
       "</style>\n",
       "<table border=\"1\" class=\"dataframe\">\n",
       "  <thead>\n",
       "    <tr style=\"text-align: right;\">\n",
       "      <th></th>\n",
       "      <th>address</th>\n",
       "      <th>parcelid</th>\n",
       "      <th>price</th>\n",
       "      <th>closingdate</th>\n",
       "      <th>salestatus</th>\n",
       "      <th>buyerstatus</th>\n",
       "      <th>purchasertype</th>\n",
       "      <th>program</th>\n",
       "      <th>councildistrict</th>\n",
       "      <th>neighborhood</th>\n",
       "      <th>latitude</th>\n",
       "      <th>longitude</th>\n",
       "      <th>location</th>\n",
       "      <th>ptype_num</th>\n",
       "    </tr>\n",
       "  </thead>\n",
       "  <tbody>\n",
       "    <tr>\n",
       "      <th>243</th>\n",
       "      <td>6784 Asbury Park</td>\n",
       "      <td>22060958-9</td>\n",
       "      <td>7700.0</td>\n",
       "      <td>2014-12-19</td>\n",
       "      <td>Closed</td>\n",
       "      <td>Selected</td>\n",
       "      <td>Homebuyer</td>\n",
       "      <td>Auction</td>\n",
       "      <td>7</td>\n",
       "      <td>Warren Ave Community</td>\n",
       "      <td>42.341163</td>\n",
       "      <td>-83.205641</td>\n",
       "      <td>location\\n(42.341163, -83.205641)</td>\n",
       "      <td>0</td>\n",
       "    </tr>\n",
       "    <tr>\n",
       "      <th>819</th>\n",
       "      <td>14345 Grandville</td>\n",
       "      <td>22088763.</td>\n",
       "      <td>11400.0</td>\n",
       "      <td>2015-04-23</td>\n",
       "      <td>Closed</td>\n",
       "      <td>Selected</td>\n",
       "      <td>Investor</td>\n",
       "      <td>Auction</td>\n",
       "      <td>1</td>\n",
       "      <td>Westwood Park</td>\n",
       "      <td>42.391877</td>\n",
       "      <td>-83.231375</td>\n",
       "      <td>location\\n(42.391877, -83.231375)</td>\n",
       "      <td>1</td>\n",
       "    </tr>\n",
       "    <tr>\n",
       "      <th>1068</th>\n",
       "      <td>6754 Iowa</td>\n",
       "      <td>15004080-1</td>\n",
       "      <td>1000.0</td>\n",
       "      <td>2017-01-05</td>\n",
       "      <td>Closed</td>\n",
       "      <td>Selected</td>\n",
       "      <td>Homebuyer</td>\n",
       "      <td>Auction</td>\n",
       "      <td>3</td>\n",
       "      <td>Grant</td>\n",
       "      <td>42.424756</td>\n",
       "      <td>-83.032456</td>\n",
       "      <td>location\\n(42.424756, -83.032456)</td>\n",
       "      <td>0</td>\n",
       "    </tr>\n",
       "    <tr>\n",
       "      <th>674</th>\n",
       "      <td>2224 W Boston Blvd</td>\n",
       "      <td>10002831.</td>\n",
       "      <td>62800.0</td>\n",
       "      <td>2015-06-17</td>\n",
       "      <td>Closed</td>\n",
       "      <td>Selected</td>\n",
       "      <td>Investor</td>\n",
       "      <td>Auction</td>\n",
       "      <td>5</td>\n",
       "      <td>Boston Edison</td>\n",
       "      <td>42.380017</td>\n",
       "      <td>-83.106803</td>\n",
       "      <td>location\\n(42.380017, -83.106803)</td>\n",
       "      <td>1</td>\n",
       "    </tr>\n",
       "    <tr>\n",
       "      <th>1339</th>\n",
       "      <td>17650 Beland</td>\n",
       "      <td>17015265.</td>\n",
       "      <td>1100.0</td>\n",
       "      <td>2017-04-28</td>\n",
       "      <td>Closed</td>\n",
       "      <td>Selected</td>\n",
       "      <td>Homebuyer</td>\n",
       "      <td>Auction</td>\n",
       "      <td>3</td>\n",
       "      <td>Mount Olivet</td>\n",
       "      <td>42.424499</td>\n",
       "      <td>-83.008787</td>\n",
       "      <td>location\\n(42.424499, -83.008787)</td>\n",
       "      <td>0</td>\n",
       "    </tr>\n",
       "  </tbody>\n",
       "</table>\n",
       "</div>"
      ],
      "text/plain": [
       "                 address    parcelid    price closingdate salestatus  \\\n",
       "243     6784 Asbury Park  22060958-9   7700.0  2014-12-19     Closed   \n",
       "819     14345 Grandville   22088763.  11400.0  2015-04-23     Closed   \n",
       "1068           6754 Iowa  15004080-1   1000.0  2017-01-05     Closed   \n",
       "674   2224 W Boston Blvd   10002831.  62800.0  2015-06-17     Closed   \n",
       "1339        17650 Beland   17015265.   1100.0  2017-04-28     Closed   \n",
       "\n",
       "     buyerstatus purchasertype  program  councildistrict  \\\n",
       "243     Selected     Homebuyer  Auction                7   \n",
       "819     Selected      Investor  Auction                1   \n",
       "1068    Selected     Homebuyer  Auction                3   \n",
       "674     Selected      Investor  Auction                5   \n",
       "1339    Selected     Homebuyer  Auction                3   \n",
       "\n",
       "              neighborhood   latitude  longitude  \\\n",
       "243   Warren Ave Community  42.341163 -83.205641   \n",
       "819          Westwood Park  42.391877 -83.231375   \n",
       "1068                 Grant  42.424756 -83.032456   \n",
       "674          Boston Edison  42.380017 -83.106803   \n",
       "1339          Mount Olivet  42.424499 -83.008787   \n",
       "\n",
       "                               location  ptype_num  \n",
       "243   location\\n(42.341163, -83.205641)          0  \n",
       "819   location\\n(42.391877, -83.231375)          1  \n",
       "1068  location\\n(42.424756, -83.032456)          0  \n",
       "674   location\\n(42.380017, -83.106803)          1  \n",
       "1339  location\\n(42.424499, -83.008787)          0  "
      ]
     },
     "execution_count": 195,
     "metadata": {},
     "output_type": "execute_result"
    }
   ],
   "source": [
    "auctions.head()"
   ]
  },
  {
   "cell_type": "code",
   "execution_count": 4,
   "metadata": {},
   "outputs": [
    {
     "data": {
      "text/html": [
       "<div>\n",
       "<style>\n",
       "    .dataframe thead tr:only-child th {\n",
       "        text-align: right;\n",
       "    }\n",
       "\n",
       "    .dataframe thead th {\n",
       "        text-align: left;\n",
       "    }\n",
       "\n",
       "    .dataframe tbody tr th {\n",
       "        vertical-align: top;\n",
       "    }\n",
       "</style>\n",
       "<table border=\"1\" class=\"dataframe\">\n",
       "  <thead>\n",
       "    <tr style=\"text-align: right;\">\n",
       "      <th></th>\n",
       "      <th>address</th>\n",
       "      <th>parcelid</th>\n",
       "      <th>price</th>\n",
       "      <th>closingdate</th>\n",
       "      <th>salestatus</th>\n",
       "      <th>buyerstatus</th>\n",
       "      <th>purchasertype</th>\n",
       "      <th>program</th>\n",
       "      <th>councildistrict</th>\n",
       "      <th>neighborhood</th>\n",
       "      <th>latitude</th>\n",
       "      <th>longitude</th>\n",
       "      <th>location</th>\n",
       "      <th>ptype_num</th>\n",
       "    </tr>\n",
       "  </thead>\n",
       "  <tbody>\n",
       "    <tr>\n",
       "      <th>674</th>\n",
       "      <td>2224 W Boston Blvd</td>\n",
       "      <td>10002831.</td>\n",
       "      <td>62800.0</td>\n",
       "      <td>2015-06-17</td>\n",
       "      <td>Closed</td>\n",
       "      <td>Selected</td>\n",
       "      <td>Investor</td>\n",
       "      <td>Auction</td>\n",
       "      <td>5</td>\n",
       "      <td>Boston Edison</td>\n",
       "      <td>42.380017</td>\n",
       "      <td>-83.106803</td>\n",
       "      <td>location\\n(42.380017, -83.106803)</td>\n",
       "      <td>1</td>\n",
       "    </tr>\n",
       "    <tr>\n",
       "      <th>234</th>\n",
       "      <td>5249 Cadieux</td>\n",
       "      <td>21075285.</td>\n",
       "      <td>4000.0</td>\n",
       "      <td>2014-10-29</td>\n",
       "      <td>Closed</td>\n",
       "      <td>Selected</td>\n",
       "      <td>Investor</td>\n",
       "      <td>Auction</td>\n",
       "      <td>4</td>\n",
       "      <td>East English Village</td>\n",
       "      <td>42.408295</td>\n",
       "      <td>-82.931747</td>\n",
       "      <td>location\\n(42.408295, -82.931747)</td>\n",
       "      <td>1</td>\n",
       "    </tr>\n",
       "    <tr>\n",
       "      <th>282</th>\n",
       "      <td>19801 Prairie</td>\n",
       "      <td>16023096.</td>\n",
       "      <td>5500.0</td>\n",
       "      <td>2016-07-29</td>\n",
       "      <td>Closed</td>\n",
       "      <td>Selected</td>\n",
       "      <td>Homebuyer</td>\n",
       "      <td>Auction</td>\n",
       "      <td>2</td>\n",
       "      <td>Oak Grove</td>\n",
       "      <td>42.438371</td>\n",
       "      <td>-83.146317</td>\n",
       "      <td>location\\n(42.438371, -83.146317)</td>\n",
       "      <td>0</td>\n",
       "    </tr>\n",
       "    <tr>\n",
       "      <th>375</th>\n",
       "      <td>3530 Kensington</td>\n",
       "      <td>21072727.</td>\n",
       "      <td>38450.0</td>\n",
       "      <td>2016-02-09</td>\n",
       "      <td>Closed</td>\n",
       "      <td>Selected</td>\n",
       "      <td>Homebuyer</td>\n",
       "      <td>Auction</td>\n",
       "      <td>4</td>\n",
       "      <td>East English Village</td>\n",
       "      <td>42.394606</td>\n",
       "      <td>-82.928536</td>\n",
       "      <td>location\\n(42.394606, -82.928536)</td>\n",
       "      <td>0</td>\n",
       "    </tr>\n",
       "    <tr>\n",
       "      <th>897</th>\n",
       "      <td>6458 Brace</td>\n",
       "      <td>22080871.</td>\n",
       "      <td>4900.0</td>\n",
       "      <td>2015-09-04</td>\n",
       "      <td>Closed</td>\n",
       "      <td>Selected</td>\n",
       "      <td>Homebuyer</td>\n",
       "      <td>Auction</td>\n",
       "      <td>7</td>\n",
       "      <td>Warrendale</td>\n",
       "      <td>42.338320</td>\n",
       "      <td>-83.222668</td>\n",
       "      <td>location\\n(42.33832, -83.222668)</td>\n",
       "      <td>0</td>\n",
       "    </tr>\n",
       "    <tr>\n",
       "      <th>131</th>\n",
       "      <td>4884 Yorkshire</td>\n",
       "      <td>21073180.</td>\n",
       "      <td>1400.0</td>\n",
       "      <td>2015-01-22</td>\n",
       "      <td>Closed</td>\n",
       "      <td>Selected</td>\n",
       "      <td>Homebuyer</td>\n",
       "      <td>Auction</td>\n",
       "      <td>4</td>\n",
       "      <td>East English Village</td>\n",
       "      <td>42.404036</td>\n",
       "      <td>-82.933418</td>\n",
       "      <td>location\\n(42.404036, -82.933418)</td>\n",
       "      <td>0</td>\n",
       "    </tr>\n",
       "    <tr>\n",
       "      <th>118</th>\n",
       "      <td>6245 Stahelin</td>\n",
       "      <td>22084069.</td>\n",
       "      <td>7700.0</td>\n",
       "      <td>2017-04-28</td>\n",
       "      <td>Closed</td>\n",
       "      <td>Selected</td>\n",
       "      <td>Homebuyer</td>\n",
       "      <td>Auction</td>\n",
       "      <td>7</td>\n",
       "      <td>Warrendale</td>\n",
       "      <td>42.335424</td>\n",
       "      <td>-83.224351</td>\n",
       "      <td>location\\n(42.335424, -83.224351)</td>\n",
       "      <td>0</td>\n",
       "    </tr>\n",
       "    <tr>\n",
       "      <th>12</th>\n",
       "      <td>5291 Courville</td>\n",
       "      <td>21071681.</td>\n",
       "      <td>1100.0</td>\n",
       "      <td>2017-09-15</td>\n",
       "      <td>Closed</td>\n",
       "      <td>Selected</td>\n",
       "      <td>Homebuyer</td>\n",
       "      <td>Auction</td>\n",
       "      <td>4</td>\n",
       "      <td>Morningside</td>\n",
       "      <td>42.405489</td>\n",
       "      <td>-82.941161</td>\n",
       "      <td>location\\n(42.405489, -82.941161)</td>\n",
       "      <td>0</td>\n",
       "    </tr>\n",
       "    <tr>\n",
       "      <th>1341</th>\n",
       "      <td>3878 Burns</td>\n",
       "      <td>17006227.</td>\n",
       "      <td>1000.0</td>\n",
       "      <td>2017-06-21</td>\n",
       "      <td>Closed</td>\n",
       "      <td>Selected</td>\n",
       "      <td>Homebuyer</td>\n",
       "      <td>Auction</td>\n",
       "      <td>5</td>\n",
       "      <td>Pingree Park</td>\n",
       "      <td>42.371679</td>\n",
       "      <td>-83.001590</td>\n",
       "      <td>location\\n(42.371679, -83.00159)</td>\n",
       "      <td>0</td>\n",
       "    </tr>\n",
       "    <tr>\n",
       "      <th>928</th>\n",
       "      <td>9192 Ward</td>\n",
       "      <td>22024554-5</td>\n",
       "      <td>4400.0</td>\n",
       "      <td>2017-04-18</td>\n",
       "      <td>Closed</td>\n",
       "      <td>Selected</td>\n",
       "      <td>Homebuyer</td>\n",
       "      <td>Auction</td>\n",
       "      <td>7</td>\n",
       "      <td>Barton-McFarland</td>\n",
       "      <td>42.362309</td>\n",
       "      <td>-83.172380</td>\n",
       "      <td>location\\n(42.362309, -83.17238)</td>\n",
       "      <td>0</td>\n",
       "    </tr>\n",
       "  </tbody>\n",
       "</table>\n",
       "</div>"
      ],
      "text/plain": [
       "                 address    parcelid    price closingdate salestatus  \\\n",
       "674   2224 W Boston Blvd   10002831.  62800.0  2015-06-17     Closed   \n",
       "234         5249 Cadieux   21075285.   4000.0  2014-10-29     Closed   \n",
       "282        19801 Prairie   16023096.   5500.0  2016-07-29     Closed   \n",
       "375      3530 Kensington   21072727.  38450.0  2016-02-09     Closed   \n",
       "897           6458 Brace   22080871.   4900.0  2015-09-04     Closed   \n",
       "131       4884 Yorkshire   21073180.   1400.0  2015-01-22     Closed   \n",
       "118        6245 Stahelin   22084069.   7700.0  2017-04-28     Closed   \n",
       "12        5291 Courville   21071681.   1100.0  2017-09-15     Closed   \n",
       "1341          3878 Burns   17006227.   1000.0  2017-06-21     Closed   \n",
       "928            9192 Ward  22024554-5   4400.0  2017-04-18     Closed   \n",
       "\n",
       "     buyerstatus purchasertype  program  councildistrict  \\\n",
       "674     Selected      Investor  Auction                5   \n",
       "234     Selected      Investor  Auction                4   \n",
       "282     Selected     Homebuyer  Auction                2   \n",
       "375     Selected     Homebuyer  Auction                4   \n",
       "897     Selected     Homebuyer  Auction                7   \n",
       "131     Selected     Homebuyer  Auction                4   \n",
       "118     Selected     Homebuyer  Auction                7   \n",
       "12      Selected     Homebuyer  Auction                4   \n",
       "1341    Selected     Homebuyer  Auction                5   \n",
       "928     Selected     Homebuyer  Auction                7   \n",
       "\n",
       "              neighborhood   latitude  longitude  \\\n",
       "674          Boston Edison  42.380017 -83.106803   \n",
       "234   East English Village  42.408295 -82.931747   \n",
       "282              Oak Grove  42.438371 -83.146317   \n",
       "375   East English Village  42.394606 -82.928536   \n",
       "897             Warrendale  42.338320 -83.222668   \n",
       "131   East English Village  42.404036 -82.933418   \n",
       "118             Warrendale  42.335424 -83.224351   \n",
       "12             Morningside  42.405489 -82.941161   \n",
       "1341          Pingree Park  42.371679 -83.001590   \n",
       "928       Barton-McFarland  42.362309 -83.172380   \n",
       "\n",
       "                               location  ptype_num  \n",
       "674   location\\n(42.380017, -83.106803)          1  \n",
       "234   location\\n(42.408295, -82.931747)          1  \n",
       "282   location\\n(42.438371, -83.146317)          0  \n",
       "375   location\\n(42.394606, -82.928536)          0  \n",
       "897    location\\n(42.33832, -83.222668)          0  \n",
       "131   location\\n(42.404036, -82.933418)          0  \n",
       "118   location\\n(42.335424, -83.224351)          0  \n",
       "12    location\\n(42.405489, -82.941161)          0  \n",
       "1341   location\\n(42.371679, -83.00159)          0  \n",
       "928    location\\n(42.362309, -83.17238)          0  "
      ]
     },
     "execution_count": 4,
     "metadata": {},
     "output_type": "execute_result"
    }
   ],
   "source": [
    "auctions.sample(10)"
   ]
  },
  {
   "cell_type": "markdown",
   "metadata": {},
   "source": [
    "For the inital run, I'll use price (continuous), lat/lon (continuous) and council district (categorical). If I have time before MVP, I'll bin neighborhood in some way, though that would inject colinearity with council district, and I don't think it would be that useful anyway."
   ]
  },
  {
   "cell_type": "code",
   "execution_count": 5,
   "metadata": {},
   "outputs": [
    {
     "data": {
      "text/html": [
       "<div>\n",
       "<style>\n",
       "    .dataframe thead tr:only-child th {\n",
       "        text-align: right;\n",
       "    }\n",
       "\n",
       "    .dataframe thead th {\n",
       "        text-align: left;\n",
       "    }\n",
       "\n",
       "    .dataframe tbody tr th {\n",
       "        vertical-align: top;\n",
       "    }\n",
       "</style>\n",
       "<table border=\"1\" class=\"dataframe\">\n",
       "  <thead>\n",
       "    <tr style=\"text-align: right;\">\n",
       "      <th></th>\n",
       "      <th>ptype_num</th>\n",
       "      <th>price</th>\n",
       "      <th>latitude</th>\n",
       "      <th>longitude</th>\n",
       "      <th>councildistrict</th>\n",
       "    </tr>\n",
       "  </thead>\n",
       "  <tbody>\n",
       "    <tr>\n",
       "      <th>420</th>\n",
       "      <td>0</td>\n",
       "      <td>7400.0</td>\n",
       "      <td>42.408571</td>\n",
       "      <td>-82.937187</td>\n",
       "      <td>4</td>\n",
       "    </tr>\n",
       "    <tr>\n",
       "      <th>1015</th>\n",
       "      <td>0</td>\n",
       "      <td>12100.0</td>\n",
       "      <td>42.414861</td>\n",
       "      <td>-82.937985</td>\n",
       "      <td>4</td>\n",
       "    </tr>\n",
       "    <tr>\n",
       "      <th>239</th>\n",
       "      <td>0</td>\n",
       "      <td>7250.0</td>\n",
       "      <td>42.368342</td>\n",
       "      <td>-83.264727</td>\n",
       "      <td>7</td>\n",
       "    </tr>\n",
       "    <tr>\n",
       "      <th>326</th>\n",
       "      <td>0</td>\n",
       "      <td>4200.0</td>\n",
       "      <td>42.410837</td>\n",
       "      <td>-83.151302</td>\n",
       "      <td>2</td>\n",
       "    </tr>\n",
       "    <tr>\n",
       "      <th>1171</th>\n",
       "      <td>0</td>\n",
       "      <td>10450.0</td>\n",
       "      <td>42.410899</td>\n",
       "      <td>-83.202905</td>\n",
       "      <td>1</td>\n",
       "    </tr>\n",
       "  </tbody>\n",
       "</table>\n",
       "</div>"
      ],
      "text/plain": [
       "      ptype_num    price   latitude  longitude  councildistrict\n",
       "420           0   7400.0  42.408571 -82.937187                4\n",
       "1015          0  12100.0  42.414861 -82.937985                4\n",
       "239           0   7250.0  42.368342 -83.264727                7\n",
       "326           0   4200.0  42.410837 -83.151302                2\n",
       "1171          0  10450.0  42.410899 -83.202905                1"
      ]
     },
     "execution_count": 5,
     "metadata": {},
     "output_type": "execute_result"
    }
   ],
   "source": [
    "auctions_short = auctions.filter(['ptype_num', 'price', 'latitude', 'longitude', 'councildistrict'])\n",
    "auctions_short.sample(5)"
   ]
  },
  {
   "cell_type": "code",
   "execution_count": 6,
   "metadata": {},
   "outputs": [
    {
     "data": {
      "text/html": [
       "<div>\n",
       "<style>\n",
       "    .dataframe thead tr:only-child th {\n",
       "        text-align: right;\n",
       "    }\n",
       "\n",
       "    .dataframe thead th {\n",
       "        text-align: left;\n",
       "    }\n",
       "\n",
       "    .dataframe tbody tr th {\n",
       "        vertical-align: top;\n",
       "    }\n",
       "</style>\n",
       "<table border=\"1\" class=\"dataframe\">\n",
       "  <thead>\n",
       "    <tr style=\"text-align: right;\">\n",
       "      <th></th>\n",
       "      <th>ptype_num</th>\n",
       "      <th>price</th>\n",
       "      <th>latitude</th>\n",
       "      <th>longitude</th>\n",
       "      <th>councildistrict</th>\n",
       "    </tr>\n",
       "  </thead>\n",
       "  <tbody>\n",
       "    <tr>\n",
       "      <th>ptype_num</th>\n",
       "      <td>1.000000</td>\n",
       "      <td>0.029036</td>\n",
       "      <td>-0.016540</td>\n",
       "      <td>-0.041226</td>\n",
       "      <td>0.013897</td>\n",
       "    </tr>\n",
       "    <tr>\n",
       "      <th>price</th>\n",
       "      <td>0.029036</td>\n",
       "      <td>1.000000</td>\n",
       "      <td>0.000813</td>\n",
       "      <td>0.046877</td>\n",
       "      <td>0.018727</td>\n",
       "    </tr>\n",
       "    <tr>\n",
       "      <th>latitude</th>\n",
       "      <td>-0.016540</td>\n",
       "      <td>0.000813</td>\n",
       "      <td>1.000000</td>\n",
       "      <td>0.362209</td>\n",
       "      <td>-0.768277</td>\n",
       "    </tr>\n",
       "    <tr>\n",
       "      <th>longitude</th>\n",
       "      <td>-0.041226</td>\n",
       "      <td>0.046877</td>\n",
       "      <td>0.362209</td>\n",
       "      <td>1.000000</td>\n",
       "      <td>-0.045580</td>\n",
       "    </tr>\n",
       "    <tr>\n",
       "      <th>councildistrict</th>\n",
       "      <td>0.013897</td>\n",
       "      <td>0.018727</td>\n",
       "      <td>-0.768277</td>\n",
       "      <td>-0.045580</td>\n",
       "      <td>1.000000</td>\n",
       "    </tr>\n",
       "  </tbody>\n",
       "</table>\n",
       "</div>"
      ],
      "text/plain": [
       "                 ptype_num     price  latitude  longitude  councildistrict\n",
       "ptype_num         1.000000  0.029036 -0.016540  -0.041226         0.013897\n",
       "price             0.029036  1.000000  0.000813   0.046877         0.018727\n",
       "latitude         -0.016540  0.000813  1.000000   0.362209        -0.768277\n",
       "longitude        -0.041226  0.046877  0.362209   1.000000        -0.045580\n",
       "councildistrict   0.013897  0.018727 -0.768277  -0.045580         1.000000"
      ]
     },
     "execution_count": 6,
     "metadata": {},
     "output_type": "execute_result"
    }
   ],
   "source": [
    "auctions_short.corr()"
   ]
  },
  {
   "cell_type": "code",
   "execution_count": 7,
   "metadata": {
    "collapsed": true
   },
   "outputs": [],
   "source": [
    "y = auctions_short.iloc[:, 0]\n",
    "X = auctions_short.iloc[:, 1:]"
   ]
  },
  {
   "cell_type": "markdown",
   "metadata": {},
   "source": [
    "Sets certain columns to categories, creates dummies, standardizes data:"
   ]
  },
  {
   "cell_type": "code",
   "execution_count": 8,
   "metadata": {
    "collapsed": true
   },
   "outputs": [],
   "source": [
    "X_std = mcnultymod.prep_X(['councildistrict'], X)"
   ]
  },
  {
   "cell_type": "markdown",
   "metadata": {},
   "source": [
    "### The Baseline: Guessing Investor for Everything"
   ]
  },
  {
   "cell_type": "code",
   "execution_count": 9,
   "metadata": {},
   "outputs": [
    {
     "name": "stdout",
     "output_type": "stream",
     "text": [
      "\n",
      "Dummy (guessing Investor)\n",
      "*    Accuracy:   0.3078\n",
      "*    Precision:  0.3078\n",
      "*    Recall:     1.0\n",
      "*    F1:         0.4707\n"
     ]
    }
   ],
   "source": [
    "mcnultymod.print_scores('Dummy (guessing Investor)', mcnultymod.the_dummy(y))"
   ]
  },
  {
   "cell_type": "markdown",
   "metadata": {},
   "source": [
    "### KNN"
   ]
  },
  {
   "cell_type": "code",
   "execution_count": 10,
   "metadata": {},
   "outputs": [
    {
     "name": "stdout",
     "output_type": "stream",
     "text": [
      "K-value\tAcc.\tPre.\tRec.\tF1\n",
      "1\t0.6012\t0.3544\t0.3676\t0.3605\n",
      "2\t0.6596\t0.3731\t0.1558\t0.2197\n",
      "3\t0.6069\t0.3346\t0.2835\t0.3067\n",
      "4\t0.6597\t0.3612\t0.1277\t0.1868\n",
      "5\t0.6357\t0.3694\t0.2523\t0.2983\n",
      "6\t0.6568\t0.36\t0.134\t0.1939\n",
      "7\t0.6491\t0.3868\t0.215\t0.2756\n",
      "8\t0.6596\t0.3389\t0.1028\t0.1573\n",
      "9\t0.6501\t0.3657\t0.1713\t0.2327\n",
      "10\t0.6606\t0.3582\t0.0997\t0.1545\n",
      "11\t0.6549\t0.3694\t0.1464\t0.2089\n",
      "12\t0.6645\t0.3658\t0.0903\t0.1426\n",
      "13\t0.6597\t0.3651\t0.1184\t0.177\n",
      "14\t0.674\t0.3619\t0.0685\t0.1143\n",
      "15\t0.6673\t0.3614\t0.0872\t0.1385\n"
     ]
    }
   ],
   "source": [
    "knn_scores = mcnultymod.try_some_ks(X_std, y, max_k=15)\n",
    "\n",
    "mcnultymod.print_knn_scores(knn_scores)"
   ]
  },
  {
   "cell_type": "markdown",
   "metadata": {},
   "source": [
    "### Logistic Regresion, SVM"
   ]
  },
  {
   "cell_type": "code",
   "execution_count": 40,
   "metadata": {},
   "outputs": [
    {
     "name": "stdout",
     "output_type": "stream",
     "text": [
      "\n",
      "Logistic Regression\n",
      "\t\tTRAIN\tTEST\n",
      "*   Accuracy:\t0.5458\t0.5216\n",
      "*   Precision:\t0.3392\t0.3157\n",
      "*   Recall:\t0.5016\t0.4764\n",
      "*   F1:\t\t0.4037\t0.3794\n",
      "\n",
      "Linear Support Vector Classifier\n",
      "\t\tTRAIN\tTEST\n",
      "*   Accuracy:\t0.5453\t0.5235\n",
      "*   Precision:\t0.338\t0.3184\n",
      "*   Recall:\t0.4985\t0.4825\n",
      "*   F1:\t\t0.4017\t0.383\n",
      "\n",
      "Support Vector Classifier with RBF Kernel\n",
      "\t\tTRAIN\tTEST\n",
      "*   Accuracy:\t0.5786\t0.5293\n",
      "*   Precision:\t0.3792\t0.3259\n",
      "*   Recall:\t0.56\t0.501\n",
      "*   F1:\t\t0.45\t0.3914\n",
      "\n",
      "Naive Bayes (Gaussian)\n",
      "\t\tTRAIN\tTEST\n",
      "*   Accuracy:\t0.6647\t0.6453\n",
      "*   Precision:\t0.2802\t0.2004\n",
      "*   Recall:\t0.1005\t0.0745\n",
      "*   F1:\t\t0.1476\t0.1067\n"
     ]
    }
   ],
   "source": [
    "model_list = [\n",
    "    LogisticRegression(class_weight='balanced', random_state=23),\n",
    "    LinearSVC(class_weight='balanced', random_state=23),\n",
    "    SVC(class_weight='balanced', random_state=23),\n",
    "    GaussianNB()\n",
    "]\n",
    "\n",
    "name_list = [\n",
    "    'Logistic Regression',\n",
    "    'Linear Support Vector Classifier',\n",
    "    'Support Vector Classifier with RBF Kernel',\n",
    "    'Naive Bayes (Gaussian)'\n",
    "]\n",
    "\n",
    "model_scores = mcnultymod.crossval(X_std, y, model_list, name_list)"
   ]
  },
  {
   "cell_type": "markdown",
   "metadata": {},
   "source": [
    "Our dummy had an F1 score of 0.4569. We're not even close... need more data."
   ]
  },
  {
   "cell_type": "markdown",
   "metadata": {
    "collapsed": true
   },
   "source": [
    "## 2. With A Few More Features"
   ]
  },
  {
   "cell_type": "code",
   "execution_count": 129,
   "metadata": {
    "collapsed": true
   },
   "outputs": [],
   "source": [
    "auctions_v2 = pd.read_pickle('../data/auctionsclosed_v2.pkl')"
   ]
  },
  {
   "cell_type": "code",
   "execution_count": 130,
   "metadata": {},
   "outputs": [
    {
     "data": {
      "text/html": [
       "<div>\n",
       "<style>\n",
       "    .dataframe thead tr:only-child th {\n",
       "        text-align: right;\n",
       "    }\n",
       "\n",
       "    .dataframe thead th {\n",
       "        text-align: left;\n",
       "    }\n",
       "\n",
       "    .dataframe tbody tr th {\n",
       "        vertical-align: top;\n",
       "    }\n",
       "</style>\n",
       "<table border=\"1\" class=\"dataframe\">\n",
       "  <thead>\n",
       "    <tr style=\"text-align: right;\">\n",
       "      <th></th>\n",
       "      <th>address</th>\n",
       "      <th>parcelid</th>\n",
       "      <th>price</th>\n",
       "      <th>closingdate</th>\n",
       "      <th>salestatus</th>\n",
       "      <th>buyerstatus</th>\n",
       "      <th>purchasertype</th>\n",
       "      <th>program</th>\n",
       "      <th>councildistrict</th>\n",
       "      <th>neighborhood</th>\n",
       "      <th>latitude</th>\n",
       "      <th>longitude</th>\n",
       "      <th>location</th>\n",
       "      <th>ptype_num</th>\n",
       "      <th>n_bin</th>\n",
       "      <th>thr_0</th>\n",
       "      <th>tcount_0</th>\n",
       "      <th>p_bin</th>\n",
       "    </tr>\n",
       "  </thead>\n",
       "  <tbody>\n",
       "    <tr>\n",
       "      <th>0</th>\n",
       "      <td>6784 Asbury Park</td>\n",
       "      <td>22060958-9</td>\n",
       "      <td>7700.0</td>\n",
       "      <td>2014-12-19</td>\n",
       "      <td>Closed</td>\n",
       "      <td>Selected</td>\n",
       "      <td>Homebuyer</td>\n",
       "      <td>Auction</td>\n",
       "      <td>7</td>\n",
       "      <td>Warren Ave Community</td>\n",
       "      <td>42.341163</td>\n",
       "      <td>-83.205641</td>\n",
       "      <td>location\\n(42.341163, -83.205641)</td>\n",
       "      <td>0</td>\n",
       "      <td>2</td>\n",
       "      <td>1</td>\n",
       "      <td>58</td>\n",
       "      <td>1</td>\n",
       "    </tr>\n",
       "    <tr>\n",
       "      <th>1</th>\n",
       "      <td>14345 Grandville</td>\n",
       "      <td>22088763.</td>\n",
       "      <td>11400.0</td>\n",
       "      <td>2015-04-23</td>\n",
       "      <td>Closed</td>\n",
       "      <td>Selected</td>\n",
       "      <td>Investor</td>\n",
       "      <td>Auction</td>\n",
       "      <td>1</td>\n",
       "      <td>Westwood Park</td>\n",
       "      <td>42.391877</td>\n",
       "      <td>-83.231375</td>\n",
       "      <td>location\\n(42.391877, -83.231375)</td>\n",
       "      <td>1</td>\n",
       "      <td>4</td>\n",
       "      <td>1</td>\n",
       "      <td>6</td>\n",
       "      <td>1</td>\n",
       "    </tr>\n",
       "    <tr>\n",
       "      <th>2</th>\n",
       "      <td>6754 Iowa</td>\n",
       "      <td>15004080-1</td>\n",
       "      <td>1000.0</td>\n",
       "      <td>2017-01-05</td>\n",
       "      <td>Closed</td>\n",
       "      <td>Selected</td>\n",
       "      <td>Homebuyer</td>\n",
       "      <td>Auction</td>\n",
       "      <td>3</td>\n",
       "      <td>Grant</td>\n",
       "      <td>42.424756</td>\n",
       "      <td>-83.032456</td>\n",
       "      <td>location\\n(42.424756, -83.032456)</td>\n",
       "      <td>0</td>\n",
       "      <td>0</td>\n",
       "      <td>1</td>\n",
       "      <td>1</td>\n",
       "      <td>0</td>\n",
       "    </tr>\n",
       "    <tr>\n",
       "      <th>3</th>\n",
       "      <td>2224 W Boston Blvd</td>\n",
       "      <td>10002831.</td>\n",
       "      <td>62800.0</td>\n",
       "      <td>2015-06-17</td>\n",
       "      <td>Closed</td>\n",
       "      <td>Selected</td>\n",
       "      <td>Investor</td>\n",
       "      <td>Auction</td>\n",
       "      <td>5</td>\n",
       "      <td>Boston Edison</td>\n",
       "      <td>42.380017</td>\n",
       "      <td>-83.106803</td>\n",
       "      <td>location\\n(42.380017, -83.106803)</td>\n",
       "      <td>1</td>\n",
       "      <td>4</td>\n",
       "      <td>0</td>\n",
       "      <td>28</td>\n",
       "      <td>2</td>\n",
       "    </tr>\n",
       "    <tr>\n",
       "      <th>4</th>\n",
       "      <td>17650 Beland</td>\n",
       "      <td>17015265.</td>\n",
       "      <td>1100.0</td>\n",
       "      <td>2017-04-28</td>\n",
       "      <td>Closed</td>\n",
       "      <td>Selected</td>\n",
       "      <td>Homebuyer</td>\n",
       "      <td>Auction</td>\n",
       "      <td>3</td>\n",
       "      <td>Mount Olivet</td>\n",
       "      <td>42.424499</td>\n",
       "      <td>-83.008787</td>\n",
       "      <td>location\\n(42.424499, -83.008787)</td>\n",
       "      <td>0</td>\n",
       "      <td>1</td>\n",
       "      <td>1</td>\n",
       "      <td>8</td>\n",
       "      <td>0</td>\n",
       "    </tr>\n",
       "  </tbody>\n",
       "</table>\n",
       "</div>"
      ],
      "text/plain": [
       "              address    parcelid    price closingdate salestatus buyerstatus  \\\n",
       "0    6784 Asbury Park  22060958-9   7700.0  2014-12-19     Closed    Selected   \n",
       "1    14345 Grandville   22088763.  11400.0  2015-04-23     Closed    Selected   \n",
       "2           6754 Iowa  15004080-1   1000.0  2017-01-05     Closed    Selected   \n",
       "3  2224 W Boston Blvd   10002831.  62800.0  2015-06-17     Closed    Selected   \n",
       "4        17650 Beland   17015265.   1100.0  2017-04-28     Closed    Selected   \n",
       "\n",
       "  purchasertype  program  councildistrict          neighborhood   latitude  \\\n",
       "0     Homebuyer  Auction                7  Warren Ave Community  42.341163   \n",
       "1      Investor  Auction                1         Westwood Park  42.391877   \n",
       "2     Homebuyer  Auction                3                 Grant  42.424756   \n",
       "3      Investor  Auction                5         Boston Edison  42.380017   \n",
       "4     Homebuyer  Auction                3          Mount Olivet  42.424499   \n",
       "\n",
       "   longitude                           location  ptype_num  n_bin  thr_0  \\\n",
       "0 -83.205641  location\\n(42.341163, -83.205641)          0      2      1   \n",
       "1 -83.231375  location\\n(42.391877, -83.231375)          1      4      1   \n",
       "2 -83.032456  location\\n(42.424756, -83.032456)          0      0      1   \n",
       "3 -83.106803  location\\n(42.380017, -83.106803)          1      4      0   \n",
       "4 -83.008787  location\\n(42.424499, -83.008787)          0      1      1   \n",
       "\n",
       "   tcount_0  p_bin  \n",
       "0        58      1  \n",
       "1         6      1  \n",
       "2         1      0  \n",
       "3        28      2  \n",
       "4         8      0  "
      ]
     },
     "execution_count": 130,
     "metadata": {},
     "output_type": "execute_result"
    }
   ],
   "source": [
    "auctions_v2.head()"
   ]
  },
  {
   "cell_type": "code",
   "execution_count": 131,
   "metadata": {
    "collapsed": true
   },
   "outputs": [],
   "source": [
    "auctions_v2_short = (auctions_v2\n",
    "                     .filter(['ptype_num',\n",
    "                              'p_bin',\n",
    "                              'n_bin',\n",
    "                              'thr_0',\n",
    "                              'tcount_0'\n",
    "                             ]))"
   ]
  },
  {
   "cell_type": "code",
   "execution_count": 132,
   "metadata": {},
   "outputs": [
    {
     "data": {
      "text/html": [
       "<div>\n",
       "<style>\n",
       "    .dataframe thead tr:only-child th {\n",
       "        text-align: right;\n",
       "    }\n",
       "\n",
       "    .dataframe thead th {\n",
       "        text-align: left;\n",
       "    }\n",
       "\n",
       "    .dataframe tbody tr th {\n",
       "        vertical-align: top;\n",
       "    }\n",
       "</style>\n",
       "<table border=\"1\" class=\"dataframe\">\n",
       "  <thead>\n",
       "    <tr style=\"text-align: right;\">\n",
       "      <th></th>\n",
       "      <th>ptype_num</th>\n",
       "      <th>p_bin</th>\n",
       "      <th>n_bin</th>\n",
       "      <th>thr_0</th>\n",
       "      <th>tcount_0</th>\n",
       "    </tr>\n",
       "  </thead>\n",
       "  <tbody>\n",
       "    <tr>\n",
       "      <th>ptype_num</th>\n",
       "      <td>1.000000</td>\n",
       "      <td>0.053263</td>\n",
       "      <td>0.326055</td>\n",
       "      <td>0.036197</td>\n",
       "      <td>-0.041813</td>\n",
       "    </tr>\n",
       "    <tr>\n",
       "      <th>p_bin</th>\n",
       "      <td>0.053263</td>\n",
       "      <td>1.000000</td>\n",
       "      <td>0.127289</td>\n",
       "      <td>0.027718</td>\n",
       "      <td>0.066608</td>\n",
       "    </tr>\n",
       "    <tr>\n",
       "      <th>n_bin</th>\n",
       "      <td>0.326055</td>\n",
       "      <td>0.127289</td>\n",
       "      <td>1.000000</td>\n",
       "      <td>0.055193</td>\n",
       "      <td>-0.007160</td>\n",
       "    </tr>\n",
       "    <tr>\n",
       "      <th>thr_0</th>\n",
       "      <td>0.036197</td>\n",
       "      <td>0.027718</td>\n",
       "      <td>0.055193</td>\n",
       "      <td>1.000000</td>\n",
       "      <td>0.416548</td>\n",
       "    </tr>\n",
       "    <tr>\n",
       "      <th>tcount_0</th>\n",
       "      <td>-0.041813</td>\n",
       "      <td>0.066608</td>\n",
       "      <td>-0.007160</td>\n",
       "      <td>0.416548</td>\n",
       "      <td>1.000000</td>\n",
       "    </tr>\n",
       "  </tbody>\n",
       "</table>\n",
       "</div>"
      ],
      "text/plain": [
       "           ptype_num     p_bin     n_bin     thr_0  tcount_0\n",
       "ptype_num   1.000000  0.053263  0.326055  0.036197 -0.041813\n",
       "p_bin       0.053263  1.000000  0.127289  0.027718  0.066608\n",
       "n_bin       0.326055  0.127289  1.000000  0.055193 -0.007160\n",
       "thr_0       0.036197  0.027718  0.055193  1.000000  0.416548\n",
       "tcount_0   -0.041813  0.066608 -0.007160  0.416548  1.000000"
      ]
     },
     "execution_count": 132,
     "metadata": {},
     "output_type": "execute_result"
    }
   ],
   "source": [
    "auctions_v2_short.corr()"
   ]
  },
  {
   "cell_type": "code",
   "execution_count": 133,
   "metadata": {
    "collapsed": true
   },
   "outputs": [],
   "source": [
    "yv2 = auctions_v2_short.iloc[:, 0]\n",
    "Xv2 = auctions_v2_short.iloc[:, 1:]"
   ]
  },
  {
   "cell_type": "code",
   "execution_count": 134,
   "metadata": {},
   "outputs": [
    {
     "name": "stderr",
     "output_type": "stream",
     "text": [
      "/Users/dluther/ds/metis/metisgh/projects/Proj-03-McNulty/code/mcnultymod.py:486: SettingWithCopyWarning: \n",
      "A value is trying to be set on a copy of a slice from a DataFrame.\n",
      "Try using .loc[row_indexer,col_indexer] = value instead\n",
      "\n",
      "See the caveats in the documentation: http://pandas.pydata.org/pandas-docs/stable/indexing.html#indexing-view-versus-copy\n",
      "  X[col] = X[col].astype('category')\n"
     ]
    }
   ],
   "source": [
    "Xv2_std = mcnultymod.prep_X(Xv2.columns[:-1], Xv2)"
   ]
  },
  {
   "cell_type": "markdown",
   "metadata": {},
   "source": [
    "### LR, SVM, NB"
   ]
  },
  {
   "cell_type": "code",
   "execution_count": 135,
   "metadata": {},
   "outputs": [
    {
     "name": "stdout",
     "output_type": "stream",
     "text": [
      "\n",
      "Logistic Regression\n",
      "\t\tTRAIN\tTEST\n",
      "*   Accuracy:\t0.6342\t0.625\n",
      "*   Precision:\t0.4388\t0.4293\n",
      "*   Recall:\t0.6752\t0.6572\n",
      "*   F1:\t\t0.5319\t0.5188\n",
      "\n",
      "Linear Support Vector Classifier\n",
      "\t\tTRAIN\tTEST\n",
      "*   Accuracy:\t0.6342\t0.6222\n",
      "*   Precision:\t0.4391\t0.4268\n",
      "*   Recall:\t0.6791\t0.6602\n",
      "*   F1:\t\t0.5333\t0.5181\n",
      "\n",
      "Support Vector Classifier with RBF Kernel\n",
      "\t\tTRAIN\tTEST\n",
      "*   Accuracy:\t0.6239\t0.6049\n",
      "*   Precision:\t0.4338\t0.4141\n",
      "*   Recall:\t0.7196\t0.6882\n",
      "*   F1:\t\t0.5409\t0.5169\n",
      "\n",
      "Naive Bayes (Gaussian)\n",
      "\t\tTRAIN\tTEST\n",
      "*   Accuracy:\t0.7037\t0.7037\n",
      "*   Precision:\t1.0\t1.0\n",
      "*   Recall:\t0.0374\t0.0374\n",
      "*   F1:\t\t0.0721\t0.072\n"
     ]
    }
   ],
   "source": [
    "model_scores = mcnultymod.crossval(Xv2_std, yv2, model_list, name_list)"
   ]
  },
  {
   "cell_type": "markdown",
   "metadata": {},
   "source": [
    "With 10 folds instead of 5:"
   ]
  },
  {
   "cell_type": "code",
   "execution_count": 136,
   "metadata": {
    "scrolled": false
   },
   "outputs": [
    {
     "name": "stdout",
     "output_type": "stream",
     "text": [
      "\n",
      "Logistic Regression\n",
      "\t\tTRAIN\tTEST\n",
      "*   Accuracy:\t0.6333\t0.6259\n",
      "*   Precision:\t0.4381\t0.4315\n",
      "*   Recall:\t0.6764\t0.6632\n",
      "*   F1:\t\t0.5317\t0.5218\n",
      "\n",
      "Linear Support Vector Classifier\n",
      "\t\tTRAIN\tTEST\n",
      "*   Accuracy:\t0.6327\t0.6221\n",
      "*   Precision:\t0.438\t0.4283\n",
      "*   Recall:\t0.6822\t0.6694\n",
      "*   F1:\t\t0.5334\t0.5213\n",
      "\n",
      "Support Vector Classifier with RBF Kernel\n",
      "\t\tTRAIN\tTEST\n",
      "*   Accuracy:\t0.6214\t0.5962\n",
      "*   Precision:\t0.4316\t0.4078\n",
      "*   Recall:\t0.7189\t0.6819\n",
      "*   F1:\t\t0.539\t0.5088\n",
      "\n",
      "Naive Bayes (Gaussian)\n",
      "\t\tTRAIN\tTEST\n",
      "*   Accuracy:\t0.7037\t0.7037\n",
      "*   Precision:\t1.0\t0.9\n",
      "*   Recall:\t0.0374\t0.0374\n",
      "*   F1:\t\t0.0721\t0.0715\n"
     ]
    }
   ],
   "source": [
    "model_scores = mcnultymod.crossval(Xv2_std, yv2, model_list, name_list, folds=10)"
   ]
  },
  {
   "cell_type": "markdown",
   "metadata": {},
   "source": [
    "And the dummy, for baseline comparison:"
   ]
  },
  {
   "cell_type": "code",
   "execution_count": 137,
   "metadata": {},
   "outputs": [
    {
     "name": "stdout",
     "output_type": "stream",
     "text": [
      "\n",
      "Dummy (guessing Investor)\n",
      "*    Accuracy:   0.3078\n",
      "*    Precision:  0.3078\n",
      "*    Recall:     1.0\n",
      "*    F1:         0.4707\n"
     ]
    }
   ],
   "source": [
    "mcnultymod.print_scores('Dummy (guessing Investor)', mcnultymod.the_dummy(yv2))"
   ]
  },
  {
   "cell_type": "markdown",
   "metadata": {},
   "source": [
    "### RF"
   ]
  },
  {
   "cell_type": "markdown",
   "metadata": {},
   "source": [
    "Since one can't do CV with Random Forest, here's a DIY tuning parameters based on training and OOB accuracy scores."
   ]
  },
  {
   "cell_type": "code",
   "execution_count": 138,
   "metadata": {
    "scrolled": false
   },
   "outputs": [
    {
     "name": "stdout",
     "output_type": "stream",
     "text": [
      "Number of Trees: [15, 20, 50, 100, 500, 1000, 2000, 5000]\n",
      "Max Depths: [3, 2]\n",
      "\n",
      "Random Forest Scores\n",
      "TREES\tMAX D\tTRAIN\tOOB\tDIFF\n",
      "15\t3\t0.6299\t0.5762\t0.0537\n",
      "20\t3\t0.652\t0.6136\t0.0384\n",
      "50\t3\t0.6635\t0.6299\t0.0336\n",
      "100\t3\t0.6711\t0.6424\t0.0288\n",
      "500\t3\t0.6711\t0.6424\t0.0288\n",
      "1000\t3\t0.6817\t0.6453\t0.0364\n",
      "2000\t3\t0.6865\t0.6405\t0.046\n",
      "5000\t3\t0.6779\t0.6433\t0.0345\n",
      "15\t2\t0.6376\t0.5944\t0.0431\n",
      "20\t2\t0.6731\t0.6405\t0.0326\n",
      "50\t2\t0.65\t0.6127\t0.0374\n",
      "100\t2\t0.651\t0.6376\t0.0134\n",
      "500\t2\t0.6568\t0.6424\t0.0144\n",
      "1000\t2\t0.6721\t0.6539\t0.0182\n",
      "2000\t2\t0.6721\t0.6529\t0.0192\n",
      "5000\t2\t0.6721\t0.6587\t0.0134\n",
      "\n",
      "Maximum OOB: 1.0\n",
      "Minimum difference between TRAIN and OOB of 0.0134 found with:\n",
      "*   maxd_2 and trees_100\n",
      "TRAIN SCORE LESS THAN MAX OOB SCORE, MODEL LIKELY UNDERFIT\n"
     ]
    }
   ],
   "source": [
    "rf_scores = mcnultymod.rf_grid(Xv2_std, \n",
    "                               yv2, \n",
    "                               num_estimators=[15, 20, 50, 100, 500, 1000, 2000, 5000], \n",
    "                               max_depths=[3, 2]\n",
    "                              )"
   ]
  },
  {
   "cell_type": "markdown",
   "metadata": {},
   "source": [
    "#### Final round will include RF models with 5000 trees/max depth 2."
   ]
  },
  {
   "cell_type": "markdown",
   "metadata": {},
   "source": [
    "If time — make dictionary keys just the number of trees and number for max depth."
   ]
  },
  {
   "cell_type": "markdown",
   "metadata": {},
   "source": [
    "## 3. Grid Search on LR and SVC (RBF)"
   ]
  },
  {
   "cell_type": "markdown",
   "metadata": {},
   "source": [
    "If time (or after presentation) — wrap this into a function."
   ]
  },
  {
   "cell_type": "code",
   "execution_count": 139,
   "metadata": {
    "collapsed": true
   },
   "outputs": [],
   "source": [
    "# rand = RandomizedSearchCV(knn, param_dist, cv=10, scoring='accuracy', n_iter=10, random_state=42)"
   ]
  },
  {
   "cell_type": "code",
   "execution_count": 140,
   "metadata": {
    "collapsed": true
   },
   "outputs": [],
   "source": [
    "# LogisticRegression(class_weight='balanced')\n",
    "# LinearSVC(class_weight='balanced')"
   ]
  },
  {
   "cell_type": "markdown",
   "metadata": {},
   "source": [
    "### LR"
   ]
  },
  {
   "cell_type": "code",
   "execution_count": 141,
   "metadata": {
    "collapsed": true
   },
   "outputs": [],
   "source": [
    "lr_pgrid = {\n",
    "    'penalty': ['l1', 'l2'],\n",
    "    'C': [i / 10 for i in range(1,11)]\n",
    "}"
   ]
  },
  {
   "cell_type": "code",
   "execution_count": 142,
   "metadata": {
    "collapsed": true
   },
   "outputs": [],
   "source": [
    "# lr_grid = RandomizedSearchCV(\n",
    "#     LogisticRegression(class_weight='balanced'),\n",
    "#     lr_pgrid,\n",
    "#     cv=10,\n",
    "#     scoring='f1'\n",
    "#     n_iter=10,\n",
    "#     random_state=23\n",
    "# )"
   ]
  },
  {
   "cell_type": "markdown",
   "metadata": {},
   "source": [
    "Because there are only 20 combinations to investigate, normal GridSearchCV will suffice."
   ]
  },
  {
   "cell_type": "code",
   "execution_count": 143,
   "metadata": {
    "collapsed": true
   },
   "outputs": [],
   "source": [
    "lr_grid = GridSearchCV(\n",
    "    LogisticRegression(class_weight='balanced', random_state=23),\n",
    "    lr_pgrid,\n",
    "    cv=10,\n",
    "    scoring='f1'\n",
    ")"
   ]
  },
  {
   "cell_type": "code",
   "execution_count": 144,
   "metadata": {},
   "outputs": [
    {
     "data": {
      "text/plain": [
       "GridSearchCV(cv=10, error_score='raise',\n",
       "       estimator=LogisticRegression(C=1.0, class_weight='balanced', dual=False,\n",
       "          fit_intercept=True, intercept_scaling=1, max_iter=100,\n",
       "          multi_class='ovr', n_jobs=1, penalty='l2', random_state=23,\n",
       "          solver='liblinear', tol=0.0001, verbose=0, warm_start=False),\n",
       "       fit_params=None, iid=True, n_jobs=1,\n",
       "       param_grid={'penalty': ['l1', 'l2'], 'C': [0.1, 0.2, 0.3, 0.4, 0.5, 0.6, 0.7, 0.8, 0.9, 1.0]},\n",
       "       pre_dispatch='2*n_jobs', refit=True, return_train_score=True,\n",
       "       scoring='f1', verbose=0)"
      ]
     },
     "execution_count": 144,
     "metadata": {},
     "output_type": "execute_result"
    }
   ],
   "source": [
    "lr_grid.fit(Xv2_std, yv2)"
   ]
  },
  {
   "cell_type": "code",
   "execution_count": 145,
   "metadata": {},
   "outputs": [
    {
     "name": "stderr",
     "output_type": "stream",
     "text": [
      "/Users/dluther/anaconda/lib/python3.6/site-packages/sklearn/model_selection/_search.py:747: DeprecationWarning: The grid_scores_ attribute was deprecated in version 0.18 in favor of the more elaborate cv_results_ attribute. The grid_scores_ attribute will not be available from 0.20\n",
      "  DeprecationWarning)\n"
     ]
    },
    {
     "data": {
      "text/plain": [
       "[mean: 0.51107, std: 0.04931, params: {'C': 0.1, 'penalty': 'l1'},\n",
       " mean: 0.53632, std: 0.05332, params: {'C': 0.1, 'penalty': 'l2'},\n",
       " mean: 0.52625, std: 0.05181, params: {'C': 0.2, 'penalty': 'l1'},\n",
       " mean: 0.52910, std: 0.05272, params: {'C': 0.2, 'penalty': 'l2'},\n",
       " mean: 0.53277, std: 0.05459, params: {'C': 0.3, 'penalty': 'l1'},\n",
       " mean: 0.53140, std: 0.04817, params: {'C': 0.3, 'penalty': 'l2'},\n",
       " mean: 0.52740, std: 0.05365, params: {'C': 0.4, 'penalty': 'l1'},\n",
       " mean: 0.52627, std: 0.04651, params: {'C': 0.4, 'penalty': 'l2'},\n",
       " mean: 0.52459, std: 0.05070, params: {'C': 0.5, 'penalty': 'l1'},\n",
       " mean: 0.52632, std: 0.05077, params: {'C': 0.5, 'penalty': 'l2'},\n",
       " mean: 0.52674, std: 0.05061, params: {'C': 0.6, 'penalty': 'l1'},\n",
       " mean: 0.52612, std: 0.04795, params: {'C': 0.6, 'penalty': 'l2'},\n",
       " mean: 0.52584, std: 0.04823, params: {'C': 0.7, 'penalty': 'l1'},\n",
       " mean: 0.52350, std: 0.04996, params: {'C': 0.7, 'penalty': 'l2'},\n",
       " mean: 0.52647, std: 0.04824, params: {'C': 0.8, 'penalty': 'l1'},\n",
       " mean: 0.52284, std: 0.04973, params: {'C': 0.8, 'penalty': 'l2'},\n",
       " mean: 0.52713, std: 0.04792, params: {'C': 0.9, 'penalty': 'l1'},\n",
       " mean: 0.52284, std: 0.04973, params: {'C': 0.9, 'penalty': 'l2'},\n",
       " mean: 0.52289, std: 0.04871, params: {'C': 1.0, 'penalty': 'l1'},\n",
       " mean: 0.52204, std: 0.04788, params: {'C': 1.0, 'penalty': 'l2'}]"
      ]
     },
     "execution_count": 145,
     "metadata": {},
     "output_type": "execute_result"
    }
   ],
   "source": [
    "lr_grid.grid_scores_"
   ]
  },
  {
   "cell_type": "code",
   "execution_count": 146,
   "metadata": {},
   "outputs": [
    {
     "name": "stdout",
     "output_type": "stream",
     "text": [
      "0.536324540935\n",
      "{'C': 0.1, 'penalty': 'l2'}\n",
      "LogisticRegression(C=0.1, class_weight='balanced', dual=False,\n",
      "          fit_intercept=True, intercept_scaling=1, max_iter=100,\n",
      "          multi_class='ovr', n_jobs=1, penalty='l2', random_state=23,\n",
      "          solver='liblinear', tol=0.0001, verbose=0, warm_start=False)\n"
     ]
    }
   ],
   "source": [
    "print(lr_grid.best_score_)\n",
    "print(lr_grid.best_params_)\n",
    "print(lr_grid.best_estimator_)"
   ]
  },
  {
   "cell_type": "markdown",
   "metadata": {},
   "source": [
    "### SVC Linear"
   ]
  },
  {
   "cell_type": "code",
   "execution_count": 147,
   "metadata": {
    "collapsed": true
   },
   "outputs": [],
   "source": [
    "svc_pgrid = {\n",
    "    # 'penalty': ['l1', 'l2'],\n",
    "    # 'loss': ['hinge', 'squared_hinge'],\n",
    "    'C': [i / 10 for i in range(1,11)]\n",
    "}"
   ]
  },
  {
   "cell_type": "code",
   "execution_count": 148,
   "metadata": {
    "collapsed": true
   },
   "outputs": [],
   "source": [
    "# svc_grid = RandomizedSearchCV(\n",
    "#     LinearSVC(class_weight='balanced', random_state=23),\n",
    "#     svc_pgrid,\n",
    "#     cv=10,\n",
    "#     scoring='f1',\n",
    "#     n_iter=20,\n",
    "#     random_state=23\n",
    "# )"
   ]
  },
  {
   "cell_type": "code",
   "execution_count": 149,
   "metadata": {
    "collapsed": true
   },
   "outputs": [],
   "source": [
    "svc_grid = GridSearchCV(\n",
    "    LinearSVC(class_weight='balanced', random_state=23),\n",
    "    svc_pgrid,\n",
    "    cv=10,\n",
    "    scoring='f1'\n",
    ")"
   ]
  },
  {
   "cell_type": "code",
   "execution_count": 150,
   "metadata": {},
   "outputs": [
    {
     "data": {
      "text/plain": [
       "GridSearchCV(cv=10, error_score='raise',\n",
       "       estimator=LinearSVC(C=1.0, class_weight='balanced', dual=True, fit_intercept=True,\n",
       "     intercept_scaling=1, loss='squared_hinge', max_iter=1000,\n",
       "     multi_class='ovr', penalty='l2', random_state=23, tol=0.0001,\n",
       "     verbose=0),\n",
       "       fit_params=None, iid=True, n_jobs=1,\n",
       "       param_grid={'C': [0.1, 0.2, 0.3, 0.4, 0.5, 0.6, 0.7, 0.8, 0.9, 1.0]},\n",
       "       pre_dispatch='2*n_jobs', refit=True, return_train_score=True,\n",
       "       scoring='f1', verbose=0)"
      ]
     },
     "execution_count": 150,
     "metadata": {},
     "output_type": "execute_result"
    }
   ],
   "source": [
    "svc_grid.fit(Xv2_std, yv2)"
   ]
  },
  {
   "cell_type": "code",
   "execution_count": 151,
   "metadata": {},
   "outputs": [
    {
     "name": "stderr",
     "output_type": "stream",
     "text": [
      "/Users/dluther/anaconda/lib/python3.6/site-packages/sklearn/model_selection/_search.py:747: DeprecationWarning: The grid_scores_ attribute was deprecated in version 0.18 in favor of the more elaborate cv_results_ attribute. The grid_scores_ attribute will not be available from 0.20\n",
      "  DeprecationWarning)\n"
     ]
    },
    {
     "data": {
      "text/plain": [
       "[mean: 0.52125, std: 0.04750, params: {'C': 0.1},\n",
       " mean: 0.52155, std: 0.04798, params: {'C': 0.2},\n",
       " mean: 0.52155, std: 0.04798, params: {'C': 0.3},\n",
       " mean: 0.52155, std: 0.04798, params: {'C': 0.4},\n",
       " mean: 0.52155, std: 0.04798, params: {'C': 0.5},\n",
       " mean: 0.52155, std: 0.04798, params: {'C': 0.6},\n",
       " mean: 0.52155, std: 0.04798, params: {'C': 0.7},\n",
       " mean: 0.52155, std: 0.04798, params: {'C': 0.8},\n",
       " mean: 0.52155, std: 0.04798, params: {'C': 0.9},\n",
       " mean: 0.52155, std: 0.04798, params: {'C': 1.0}]"
      ]
     },
     "execution_count": 151,
     "metadata": {},
     "output_type": "execute_result"
    }
   ],
   "source": [
    "svc_grid.grid_scores_"
   ]
  },
  {
   "cell_type": "code",
   "execution_count": 152,
   "metadata": {},
   "outputs": [
    {
     "name": "stdout",
     "output_type": "stream",
     "text": [
      "0.521551423546\n",
      "{'C': 0.2}\n",
      "LinearSVC(C=0.2, class_weight='balanced', dual=True, fit_intercept=True,\n",
      "     intercept_scaling=1, loss='squared_hinge', max_iter=1000,\n",
      "     multi_class='ovr', penalty='l2', random_state=23, tol=0.0001,\n",
      "     verbose=0)\n"
     ]
    }
   ],
   "source": [
    "print(svc_grid.best_score_)\n",
    "print(svc_grid.best_params_)\n",
    "print(svc_grid.best_estimator_)"
   ]
  },
  {
   "cell_type": "code",
   "execution_count": null,
   "metadata": {
    "collapsed": true
   },
   "outputs": [],
   "source": []
  }
 ],
 "metadata": {
  "kernelspec": {
   "display_name": "Python [conda root]",
   "language": "python",
   "name": "conda-root-py"
  },
  "language_info": {
   "codemirror_mode": {
    "name": "ipython",
    "version": 3
   },
   "file_extension": ".py",
   "mimetype": "text/x-python",
   "name": "python",
   "nbconvert_exporter": "python",
   "pygments_lexer": "ipython3",
   "version": "3.6.2"
  }
 },
 "nbformat": 4,
 "nbformat_minor": 2
}
