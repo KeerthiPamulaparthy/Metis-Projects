{
 "cells": [
  {
   "cell_type": "markdown",
   "metadata": {},
   "source": [
    "# 3.1 Testing of Final Models"
   ]
  },
  {
   "cell_type": "code",
   "execution_count": 1,
   "metadata": {
    "collapsed": true
   },
   "outputs": [],
   "source": [
    "import mcnultymod\n",
    "import pandas as pd\n",
    "import numpy as np\n",
    "import warnings\n",
    "\n",
    "from sklearn.preprocessing import StandardScaler\n",
    "from sklearn.neighbors import KNeighborsClassifier\n",
    "from sklearn.linear_model import LogisticRegression\n",
    "from sklearn.svm import SVC, LinearSVC\n",
    "from sklearn.naive_bayes import GaussianNB\n",
    "# from sklearn.tree import DecisionTreeClassifier\n",
    "from sklearn.ensemble import RandomForestClassifier\n",
    "from sklearn import metrics\n",
    "from sklearn.model_selection import (train_test_split,\n",
    "                                     cross_validate,\n",
    "                                     cross_val_score,\n",
    "                                     # cross_val_predict,\n",
    "                                     learning_curve,\n",
    "                                     StratifiedKFold,\n",
    "                                     GridSearchCV,\n",
    "                                     RandomizedSearchCV\n",
    "                                     # KFold\n",
    "                                    )\n",
    "\n",
    "from datetime import datetime, timedelta, date\n",
    "# import os\n",
    "import pickle\n",
    "\n",
    "import matplotlib.pyplot as plt\n",
    "from mpl_toolkits.basemap import Basemap\n",
    "import seaborn as sns\n",
    "plt.style.use('seaborn')\n",
    "%matplotlib inline"
   ]
  },
  {
   "cell_type": "code",
   "execution_count": 2,
   "metadata": {
    "collapsed": true
   },
   "outputs": [],
   "source": [
    "auctions = pd.read_pickle('../data/auctionsclosed_v2.pkl')\n",
    "auctions_test = pd.read_pickle('../data/auctionsclosed_test_v2.pkl')"
   ]
  },
  {
   "cell_type": "code",
   "execution_count": 3,
   "metadata": {
    "collapsed": true
   },
   "outputs": [],
   "source": [
    "auctions_short = (auctions\n",
    "                     .filter(['ptype_num',\n",
    "                              'p_bin',\n",
    "                              'n_bin',\n",
    "                              'thr_0',\n",
    "                              'tcount_2'\n",
    "                             ]))\n",
    "\n",
    "auctions_test_short = (auctions_test\n",
    "                     .filter(['ptype_num',\n",
    "                              'p_bin',\n",
    "                              'n_bin',\n",
    "                              'thr_0',\n",
    "                              'tcount_2'\n",
    "                             ]))"
   ]
  },
  {
   "cell_type": "code",
   "execution_count": 4,
   "metadata": {},
   "outputs": [
    {
     "data": {
      "text/plain": [
       "(1043, 5)"
      ]
     },
     "execution_count": 4,
     "metadata": {},
     "output_type": "execute_result"
    }
   ],
   "source": [
    "auctions_short.shape"
   ]
  },
  {
   "cell_type": "code",
   "execution_count": 5,
   "metadata": {},
   "outputs": [
    {
     "data": {
      "text/plain": [
       "(261, 5)"
      ]
     },
     "execution_count": 5,
     "metadata": {},
     "output_type": "execute_result"
    }
   ],
   "source": [
    "auctions_test_short.shape"
   ]
  },
  {
   "cell_type": "code",
   "execution_count": 6,
   "metadata": {
    "collapsed": true
   },
   "outputs": [],
   "source": [
    "y_train = auctions_short.iloc[:, 0]\n",
    "X_train = auctions_short.iloc[:, 1:]\n",
    "y_test = auctions_test_short.iloc[:, 0]\n",
    "X_test = auctions_test_short.iloc[:, 1:]"
   ]
  },
  {
   "cell_type": "code",
   "execution_count": 7,
   "metadata": {},
   "outputs": [
    {
     "name": "stderr",
     "output_type": "stream",
     "text": [
      "/Users/dluther/ds/metis/metisgh/projects/Proj-03-McNulty/code/mcnultymod.py:486: SettingWithCopyWarning: \n",
      "A value is trying to be set on a copy of a slice from a DataFrame.\n",
      "Try using .loc[row_indexer,col_indexer] = value instead\n",
      "\n",
      "See the caveats in the documentation: http://pandas.pydata.org/pandas-docs/stable/indexing.html#indexing-view-versus-copy\n",
      "  X[col] = X[col].astype('category')\n"
     ]
    }
   ],
   "source": [
    "X_train_std, X_test_std = mcnultymod.prep_X(X_train.columns[:-1], [X_train, X_test])"
   ]
  },
  {
   "cell_type": "code",
   "execution_count": 10,
   "metadata": {
    "collapsed": true
   },
   "outputs": [],
   "source": [
    "# set random state value\n",
    "rs = 23"
   ]
  },
  {
   "cell_type": "code",
   "execution_count": 14,
   "metadata": {},
   "outputs": [],
   "source": [
    "# initialize models\n",
    "\n",
    "rf = RandomForestClassifier(n_estimators=5000,\n",
    "                             max_depth=2,\n",
    "                             oob_score=False,\n",
    "                             n_jobs=-1,\n",
    "                             random_state=rs,\n",
    "                             class_weight='balanced'\n",
    "                            )\n",
    "\n",
    "lr = LogisticRegression(C=0.1, penalty='l2', class_weight='balanced', random_state=rs)\n",
    "\n",
    "svc = LinearSVC(C=0.2, class_weight='balanced', random_state=rs)"
   ]
  },
  {
   "cell_type": "code",
   "execution_count": 15,
   "metadata": {
    "collapsed": true
   },
   "outputs": [],
   "source": [
    "# fit models\n",
    "modlist = [rf, lr, svc]\n",
    "names = [\"Random Forest (5000 trees, max depth 2\",\n",
    "         \"Logistic Regression (C=0.1, L2 penalty)\",\n",
    "         \"Linear SVC (C=0.2)\"\n",
    "        ]\n",
    "\n",
    "for model in modlist:\n",
    "    model.fit(X_train_std, y_train)"
   ]
  },
  {
   "cell_type": "code",
   "execution_count": 16,
   "metadata": {},
   "outputs": [],
   "source": [
    "# predict and look at scores\n",
    "# score_types = ['accuracy',\n",
    "#                'precision',\n",
    "#                'recall',\n",
    "#                'f1'\n",
    "#               ]\n",
    "\n",
    "model_scores = {}\n",
    "\n",
    "for name, model in zip(names, modlist):\n",
    "    model_scores[name] = []\n",
    "    y_hat = model.predict(X_test_std)\n",
    "    model_scores[name].append(metrics.accuracy_score(y_test, y_hat))\n",
    "    model_scores[name].append(metrics.precision_score(y_test, y_hat))\n",
    "    model_scores[name].append(metrics.recall_score(y_test, y_hat))\n",
    "    model_scores[name].append(metrics.f1_score(y_test, y_hat))"
   ]
  },
  {
   "cell_type": "code",
   "execution_count": 17,
   "metadata": {},
   "outputs": [
    {
     "name": "stdout",
     "output_type": "stream",
     "text": [
      "\n",
      "Random Forest (5000 trees, max depth 2\n",
      "*    Accuracy:   0.5479\n",
      "*    Precision:  0.3173\n",
      "*    Recall:     0.4125\n",
      "*    F1:         0.3587\n",
      "\n",
      "Logistic Regression (C=0.1, L2 penalty)\n",
      "*    Accuracy:   0.5096\n",
      "*    Precision:  0.3235\n",
      "*    Recall:     0.55\n",
      "*    F1:         0.4074\n",
      "\n",
      "Linear SVC (C=0.2)\n",
      "*    Accuracy:   0.4981\n",
      "*    Precision:  0.3139\n",
      "*    Recall:     0.5375\n",
      "*    F1:         0.3963\n"
     ]
    }
   ],
   "source": [
    "for name in names:\n",
    "    mcnultymod.print_scores(name, model_scores[name])"
   ]
  },
  {
   "cell_type": "markdown",
   "metadata": {},
   "source": [
    "### ROC and Other Viz"
   ]
  },
  {
   "cell_type": "code",
   "execution_count": 18,
   "metadata": {},
   "outputs": [],
   "source": [
    "def roc_out(X, y, model_name, model):\n",
    "    \"\"\"\n",
    "    Draws ROC curve and returns AUC + log loss as well.\n",
    "    ---\n",
    "    IN\n",
    "    X_test_std:\n",
    "    y_test:\n",
    "    model_name: name of model type (str)\n",
    "    model: sklearn classifier object, already fit\n",
    "    OUT\n",
    "    auc: area under curve (float)\n",
    "    matplotlib object\n",
    "    \"\"\"\n",
    "\n",
    "    y_hat = model.predict(X)\n",
    "    y_score = model.predict_proba(X)[:,1]\n",
    "    fpr, tpr, _ = metrics.roc_curve(y, y_score)\n",
    "    roc_auc = metrics.auc(fpr, tpr)\n",
    "    ll = metrics.log_loss(y, y_hat)\n",
    "\n",
    "    plt.figure(figsize=(8,8))\n",
    "    plt.plot([0,1],[0,1])\n",
    "    plt.plot(fpr,tpr)\n",
    "    plt.xlabel('FPR')\n",
    "    plt.ylabel('TPR')\n",
    "    plt.title(f\"{model_name}\")\n",
    "    \n",
    "    return roc_auc, ll"
   ]
  },
  {
   "cell_type": "code",
   "execution_count": 19,
   "metadata": {
    "scrolled": false
   },
   "outputs": [
    {
     "name": "stdout",
     "output_type": "stream",
     "text": [
      "Random Forest (5000 trees, max depth 2\n",
      "AUC: 0.5009\n",
      "Log Loss: 15.6154 \n",
      "\n",
      "Logistic Regression (C=0.1, L2 penalty)\n",
      "AUC: 0.5114\n",
      "Log Loss: 16.9388 \n",
      "\n"
     ]
    },
    {
     "data": {
      "image/png": "[encoded data removed]",
      "text/plain": [
       "<matplotlib.figure.Figure at 0x10d165748>"
      ]
     },
     "metadata": {},
     "output_type": "display_data"
    },
    {
     "data": {
      "image/png": "[encoded data removed]",
      "text/plain": [
       "<matplotlib.figure.Figure at 0x11c49f518>"
      ]
     },
     "metadata": {},
     "output_type": "display_data"
    }
   ],
   "source": [
    "for name, model in zip(names[:-1], modlist[:-1]):\n",
    "    print(name)\n",
    "    auc, log_loss = roc_out(X_test_std, y_test, name, model)\n",
    "    print(\"AUC:\", round(auc, 4))\n",
    "    print(\"Log Loss:\", round(log_loss, 4), '\\n')"
   ]
  },
  {
   "cell_type": "code",
   "execution_count": 29,
   "metadata": {},
   "outputs": [
    {
     "name": "stdout",
     "output_type": "stream",
     "text": [
      "\n",
      "Dummy (guessing Investor)\n",
      "*    Accuracy:   0.3065\n",
      "*    Precision:  0.3065\n",
      "*    Recall:     1.0\n",
      "*    F1:         0.4692\n"
     ]
    }
   ],
   "source": [
    "dummy_scores = mcnultymod.the_dummy(y_test)\n",
    "mcnultymod.print_scores('Dummy (guessing Investor)', dummy_scores)"
   ]
  },
  {
   "cell_type": "code",
   "execution_count": 20,
   "metadata": {},
   "outputs": [
    {
     "data": {
      "text/plain": [
       "{'Linear SVC (C=0.2)': [0.49808429118773945,\n",
       "  0.31386861313868614,\n",
       "  0.53749999999999998,\n",
       "  0.39631336405529949],\n",
       " 'Logistic Regression (C=0.1, L2 penalty)': [0.50957854406130265,\n",
       "  0.3235294117647059,\n",
       "  0.55000000000000004,\n",
       "  0.4074074074074075],\n",
       " 'Random Forest (5000 trees, max depth 2': [0.54789272030651337,\n",
       "  0.31730769230769229,\n",
       "  0.41249999999999998,\n",
       "  0.35869565217391303]}"
      ]
     },
     "execution_count": 20,
     "metadata": {},
     "output_type": "execute_result"
    }
   ],
   "source": [
    "model_scores"
   ]
  },
  {
   "cell_type": "code",
   "execution_count": 58,
   "metadata": {},
   "outputs": [
    {
     "data": {
      "text/plain": [
       "''"
      ]
     },
     "execution_count": 58,
     "metadata": {},
     "output_type": "execute_result"
    },
    {
     "data": {
      "image/png": "[encoded data removed]",
      "text/plain": [
       "<matplotlib.figure.Figure at 0x120bb62e8>"
      ]
     },
     "metadata": {},
     "output_type": "display_data"
    }
   ],
   "source": [
    "x_labels = ['Logistic Regression,' 'Linear SVC', 'Random Forest']\n",
    "x = [-0.75, 2.75]\n",
    "y_dummy = [0.47] * 2\n",
    "x_lr = [2]\n",
    "y_lr = [0.407]\n",
    "x_svc = [1]\n",
    "y_svc = [0.396]\n",
    "x_rf = [0]\n",
    "y_rf = [0.359]\n",
    "\n",
    "plt.figure(figsize=(16,8))\n",
    "plt.plot(x, y_dummy, 'r--', label='Dummy Model (0.470)')\n",
    "plt.bar(x_rf, y_rf, color='#001021', label='Random Forest (0.359)')\n",
    "plt.bar(x_svc, y_svc, color='#02474B', label='Linear SVC (0.396)')\n",
    "plt.bar(x_lr, y_lr, color='#69140E', label='Logistic Regression (0.407)')\n",
    "plt.xlim(-0.75,2.75)\n",
    "plt.ylim(0,1)\n",
    "plt.xticks([0, 1, 2], ['RF', 'SVC', 'LR'])\n",
    "plt.xlabel(\"Model\", fontsize=14)\n",
    "plt.ylabel(\"F1 Score\", fontsize=14)\n",
    "plt.legend(loc='upper left', fontsize=12)\n",
    "plt.title(\"F1 Score on Test Set by Model\", fontsize=24)\n",
    "\n",
    "# plt.savefig('../img/f1_test.png', dpi=200, bbox_inches = 'tight')\n",
    ";"
   ]
  },
  {
   "cell_type": "code",
   "execution_count": null,
   "metadata": {
    "collapsed": true
   },
   "outputs": [],
   "source": []
  }
 ],
 "metadata": {
  "kernelspec": {
   "display_name": "Python [conda root]",
   "language": "python",
   "name": "conda-root-py"
  },
  "language_info": {
   "codemirror_mode": {
    "name": "ipython",
    "version": 3
   },
   "file_extension": ".py",
   "mimetype": "text/x-python",
   "name": "python",
   "nbconvert_exporter": "python",
   "pygments_lexer": "ipython3",
   "version": "3.6.2"
  }
 },
 "nbformat": 4,
 "nbformat_minor": 2
}
