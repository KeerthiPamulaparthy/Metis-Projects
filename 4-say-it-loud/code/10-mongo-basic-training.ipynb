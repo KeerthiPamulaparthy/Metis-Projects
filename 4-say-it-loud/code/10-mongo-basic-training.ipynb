{
 "cells": [
  {
   "cell_type": "markdown",
   "metadata": {},
   "source": [
    "# Creating MongoDB Collection for Lyrics"
   ]
  },
  {
   "cell_type": "markdown",
   "metadata": {},
   "source": [
    "Includes training steps as well as actual collection creation."
   ]
  },
  {
   "cell_type": "code",
   "execution_count": 203,
   "metadata": {},
   "outputs": [],
   "source": [
    "import pandas as pd\n",
    "import numpy as np\n",
    "import json\n",
    "import csv\n",
    "from pymongo import MongoClient\n",
    "from bson.objectid import ObjectId"
   ]
  },
  {
   "cell_type": "code",
   "execution_count": 17,
   "metadata": {},
   "outputs": [],
   "source": [
    "# with open('../data/billboard_lyrics_1964-2015.csv', 'r') as csvfile:\n",
    "#     reader = csv.reader(csvfile, delimiter=',')\n",
    "#     header = next(reader)\n",
    "#     test_songs = []\n",
    "#     for _ in range(10):\n",
    "#         row = next(reader)\n",
    "#         song = {}\n",
    "#         for i, label in enumerate(header):\n",
    "#             print(f\"\\n{label}: {row[i]}\")"
   ]
  },
  {
   "cell_type": "markdown",
   "metadata": {},
   "source": [
    "There's a better way to do this: just import straight into MongoDB from the terminal with the following command:\n",
    "\n",
    "`mongoimport -d proj4 -c lyrics --type csv --file billboard_lyrics_1964-2015.csv --headerline`\n",
    "\n",
    "Done and done."
   ]
  },
  {
   "cell_type": "code",
   "execution_count": 20,
   "metadata": {
    "collapsed": true
   },
   "outputs": [],
   "source": [
    "client = MongoClient()\n",
    "p4_db = client.proj4\n",
    "lyrics = p4_db.lyrics"
   ]
  },
  {
   "cell_type": "code",
   "execution_count": 45,
   "metadata": {},
   "outputs": [
    {
     "data": {
      "text/plain": [
       "['admin', 'legislation', 'local', 'proj4', 'test']"
      ]
     },
     "execution_count": 45,
     "metadata": {},
     "output_type": "execute_result"
    }
   ],
   "source": [
    "client.database_names()"
   ]
  },
  {
   "cell_type": "code",
   "execution_count": 22,
   "metadata": {},
   "outputs": [
    {
     "data": {
      "text/plain": [
       "{'Artist': 'four tops',\n",
       " 'Lyrics': ' sugar pie honey bunch you know that i love you i cant help myself i love you and nobody elsein and out my life you come and you go leaving just your picture behind and i kissed it a thousand timeswhen you snap your finger or wink your eye i come arunning to you im tied to your apron strings and theres nothing that i can docant help myself no i cant help myselfsugar pie honey bunch im weaker than a man should be i cant help myself im a fool in love you seewanna tell you i dont love you tell you that were through and ive tried but every time i see your face i get all choked up insidewhen i call your name girl it starts the flame burning in my heart tearing it all apart no matter how i try my love i cannot hidecause sugar pie honey bunch you know that im weak for you cant help myself i love you and nobody elsesugar pie honey bunch do anything you ask me to cant help myself i want you and nobody elsesugar pie honey bunch you know that i love you i cant help myself i cant help myself ',\n",
       " 'Rank': 2,\n",
       " 'Song': 'i cant help myself sugar pie honey bunch',\n",
       " 'Source': 1,\n",
       " 'Year': 1965,\n",
       " '_id': ObjectId('59f903140f3e05a46c01d788')}"
      ]
     },
     "execution_count": 22,
     "metadata": {},
     "output_type": "execute_result"
    }
   ],
   "source": [
    "lyrics.find_one()"
   ]
  },
  {
   "cell_type": "code",
   "execution_count": 191,
   "metadata": {},
   "outputs": [
    {
     "data": {
      "text/plain": [
       "ObjectId('59f903140f3e05a46c01d788')"
      ]
     },
     "execution_count": 191,
     "metadata": {},
     "output_type": "execute_result"
    }
   ],
   "source": [
    "lyrics.find_one()['_id']"
   ]
  },
  {
   "cell_type": "code",
   "execution_count": 189,
   "metadata": {},
   "outputs": [
    {
     "name": "stdout",
     "output_type": "stream",
     "text": [
      "1965\n",
      "1965\n",
      "1967\n"
     ]
    }
   ],
   "source": [
    "# find number of entries by the Four Tops, print the songs\n",
    "\n",
    "four_tops = lyrics.find({'Artist': 'four tops'})\n",
    "\n",
    "for top in four_tops:\n",
    "    print(top['Year'])"
   ]
  },
  {
   "cell_type": "code",
   "execution_count": 207,
   "metadata": {},
   "outputs": [],
   "source": [
    "# add a field\n",
    "\n",
    "result = lyrics.update_one({\"_id\": ObjectId('59f903140f3e05a46c01d788')}, \n",
    "                           {\"$set\": {\"Release\": \"April 23, 1963\"}})"
   ]
  },
  {
   "cell_type": "code",
   "execution_count": 208,
   "metadata": {},
   "outputs": [
    {
     "data": {
      "text/plain": [
       "1"
      ]
     },
     "execution_count": 208,
     "metadata": {},
     "output_type": "execute_result"
    }
   ],
   "source": [
    "result.matched_count"
   ]
  },
  {
   "cell_type": "code",
   "execution_count": 209,
   "metadata": {},
   "outputs": [
    {
     "data": {
      "text/plain": [
       "{'Artist': 'four tops',\n",
       " 'Lyrics': ' sugar pie honey bunch you know that i love you i cant help myself i love you and nobody elsein and out my life you come and you go leaving just your picture behind and i kissed it a thousand timeswhen you snap your finger or wink your eye i come arunning to you im tied to your apron strings and theres nothing that i can docant help myself no i cant help myselfsugar pie honey bunch im weaker than a man should be i cant help myself im a fool in love you seewanna tell you i dont love you tell you that were through and ive tried but every time i see your face i get all choked up insidewhen i call your name girl it starts the flame burning in my heart tearing it all apart no matter how i try my love i cannot hidecause sugar pie honey bunch you know that im weak for you cant help myself i love you and nobody elsesugar pie honey bunch do anything you ask me to cant help myself i want you and nobody elsesugar pie honey bunch you know that i love you i cant help myself i cant help myself ',\n",
       " 'Rank': 2,\n",
       " 'Release': 'April 23, 1963',\n",
       " 'Song': 'i cant help myself sugar pie honey bunch',\n",
       " 'Source': 1,\n",
       " 'Year': 1965,\n",
       " '_id': ObjectId('59f903140f3e05a46c01d788')}"
      ]
     },
     "execution_count": 209,
     "metadata": {},
     "output_type": "execute_result"
    }
   ],
   "source": [
    "lyrics.find_one()"
   ]
  },
  {
   "cell_type": "code",
   "execution_count": 210,
   "metadata": {
    "collapsed": true
   },
   "outputs": [],
   "source": [
    "# ...and then take it out\n",
    "\n",
    "result = lyrics.update_one({\"_id\": ObjectId('59f903140f3e05a46c01d788')}, \n",
    "                           {\"$unset\": {\"Release\": \"$\"}})"
   ]
  },
  {
   "cell_type": "code",
   "execution_count": 211,
   "metadata": {},
   "outputs": [
    {
     "data": {
      "text/plain": [
       "{'Artist': 'four tops',\n",
       " 'Lyrics': ' sugar pie honey bunch you know that i love you i cant help myself i love you and nobody elsein and out my life you come and you go leaving just your picture behind and i kissed it a thousand timeswhen you snap your finger or wink your eye i come arunning to you im tied to your apron strings and theres nothing that i can docant help myself no i cant help myselfsugar pie honey bunch im weaker than a man should be i cant help myself im a fool in love you seewanna tell you i dont love you tell you that were through and ive tried but every time i see your face i get all choked up insidewhen i call your name girl it starts the flame burning in my heart tearing it all apart no matter how i try my love i cannot hidecause sugar pie honey bunch you know that im weak for you cant help myself i love you and nobody elsesugar pie honey bunch do anything you ask me to cant help myself i want you and nobody elsesugar pie honey bunch you know that i love you i cant help myself i cant help myself ',\n",
       " 'Rank': 2,\n",
       " 'Song': 'i cant help myself sugar pie honey bunch',\n",
       " 'Source': 1,\n",
       " 'Year': 1965,\n",
       " '_id': ObjectId('59f903140f3e05a46c01d788')}"
      ]
     },
     "execution_count": 211,
     "metadata": {},
     "output_type": "execute_result"
    }
   ],
   "source": [
    "lyrics.find_one()"
   ]
  },
  {
   "cell_type": "code",
   "execution_count": 196,
   "metadata": {},
   "outputs": [
    {
     "data": {
      "text/plain": [
       "5100"
      ]
     },
     "execution_count": 196,
     "metadata": {},
     "output_type": "execute_result"
    }
   ],
   "source": [
    "lyrics.count()"
   ]
  },
  {
   "cell_type": "code",
   "execution_count": 91,
   "metadata": {},
   "outputs": [
    {
     "data": {
      "text/plain": [
       "510"
      ]
     },
     "execution_count": 91,
     "metadata": {},
     "output_type": "execute_result"
    }
   ],
   "source": [
    "lyrics.find({'Rank': {\"$lte\": 10}}).count()"
   ]
  },
  {
   "cell_type": "code",
   "execution_count": 73,
   "metadata": {},
   "outputs": [
    {
     "data": {
      "text/plain": [
       "510"
      ]
     },
     "execution_count": 73,
     "metadata": {},
     "output_type": "execute_result"
    }
   ],
   "source": [
    "lyrics.find({'Rank': {\"$gte\": 20, \"$lt\": 30}}).count()"
   ]
  },
  {
   "cell_type": "code",
   "execution_count": 212,
   "metadata": {},
   "outputs": [
    {
     "data": {
      "text/plain": [
       "1"
      ]
     },
     "execution_count": 212,
     "metadata": {},
     "output_type": "execute_result"
    }
   ],
   "source": [
    "lyrics.find({'Year': 1975, 'Rank': 1}).count()"
   ]
  },
  {
   "cell_type": "code",
   "execution_count": 78,
   "metadata": {},
   "outputs": [
    {
     "data": {
      "text/plain": [
       "'when youre weary feeling small when tears are in your eyes i will dry them all im on your side oh when times get rough and friends just cant be found like a bridge over troubled water i will lay me down like a bridge over troubled water i will lay me down when youre down and out when youre on the street when evening falls so hard i will comfort you ill take your part oh when darkness comes and pain is all around like a bridge over troubled water i will lay me down like a bridge over troubled water i will lay me down sail on silver girl sail on by your time has come to shine all your dreams are on their way see how they shine oh if you need a friend im sailing right behind like a bridge over troubled water i will ease your mind like a bridge over troubled water i will ease your mind'"
      ]
     },
     "execution_count": 78,
     "metadata": {},
     "output_type": "execute_result"
    }
   ],
   "source": [
    "lyrics.find_one({'Year': 1970})['Lyrics']"
   ]
  },
  {
   "cell_type": "code",
   "execution_count": 213,
   "metadata": {},
   "outputs": [
    {
     "name": "stdout",
     "output_type": "stream",
     "text": [
      " whether im right or whether im wrong whether i find a place in this world or never belong i gotta be me ive gotta be me what else can i be but what i ami want to live not merely survive and i wont give up this dream of life that keeps me alive i gotta be me i gotta be me the dream that i see makes me what i amthat far away prize a world of success is waiting for me if i heed the call i wont settle down wont settle for less as long as theres a chance that i can have it allill go it alone thats how it must be i cant be right for somebody else if im not right for me i gotta be free ive gotta be free daring to try to do it or die ive gotta be me \n",
      "\n",
      "all the leaves are brown and the sky is grey ive been for a walk on a winters day id be safe and warm if i was in la california dreamin on such a winters day stepped into a church i passed along the way well i get down on my knees and i pretend to pray you know the preacher likes the cold he knows im gonna stay california california dreamin on such a winters day all the leaves are brown and the sky is grey ive been for a walk on a winters day if i didnt tell her i could leave today california california dreamin on such a winters day california dreamin california dreamin california dreamin\n",
      "\n",
      "sergio mendes miscellaneous the fool on the hill the fool on the hill the beatles music  lyrics  john lennon  paul mccartney day after day alone on the hill the man with the foolish grin is keeping perfectly still but nobody wants to know him they can see that hes just a fool and he never gives an answer but the fool on the hill sees the sun going down and the eyes in his head see the world spinning around well on his way his head in a cloud the man of a thousand voices talking percetly loud but nobody ever hears him or the sound he appears to make and he never seems to notice but the fool on the hill    nobody seems to like him they can tell what he wants to do and he never shows his feelings but the fool on the hill   \n",
      "\n",
      "please love me forever dont forget me ever just listen to my plea please dont stop loving me youre in my dreams nightly dont take my love lightly begging on bended knees please dont stop loving me oh when i lay me down to sleep i pray the lord your love ill keep if i should die before i wake ill come back for you thats no mistake oh ill love you forever cant forget you ever our love was meant to be please dont stop loving me ill love you forever cant forget you ever our love was meant to be please dont stop loving me please dont stop loving me\n",
      "\n",
      " the continent of atlantis was an island which lay before the great flood in the area we now call the atlantic oceanso great an area of land that from her western shores those beautiful sailors journeyed to the south and the north americas with ease in their ships with painted sailsto them east africa was a neighbor across a short strait of sea miles the great egyptian age is but a remnant of the atlantian culture the antediluvian kings colonized the world all the gods who play in the mythological dramas in all legends from all lands were from far atlantisknowing her fate atlantis sent out ships to all corners of the earth on board were the twelve the poet the physician the farmer the scientist the magician and the other socalled gods of our legendsthough gods they were and as the elders of our time choose to remain blind let us rejoice and let us sing and dance and ring in the new hail atlantisway down below the ocean where i wanna be she may be way down below the ocean where i wanna be she may be way down below the ocean where i wanna be she may be  \n",
      "\n"
     ]
    }
   ],
   "source": [
    "# pulls a sample from a specific date range\n",
    "\n",
    "sample = lyrics.aggregate([{\"$match\": {'Year': {\"$gte\": 1965, \"$lte\": 1975}}},\n",
    "                           {\"$sample\": {\"size\": 5}}\n",
    "                           ])\n",
    "\n",
    "for record in sample:\n",
    "    print(record['Lyrics'] + '\\n')"
   ]
  },
  {
   "cell_type": "code",
   "execution_count": 215,
   "metadata": {},
   "outputs": [
    {
     "data": {
      "text/plain": [
       "4898"
      ]
     },
     "execution_count": 215,
     "metadata": {},
     "output_type": "execute_result"
    }
   ],
   "source": [
    "lyrics.find({'Lyrics': {\"$exists\": True}}).count()"
   ]
  }
 ],
 "metadata": {
  "kernelspec": {
   "display_name": "Python [conda env:Py36]",
   "language": "python",
   "name": "conda-env-Py36-py"
  },
  "language_info": {
   "codemirror_mode": {
    "name": "ipython",
    "version": 3
   },
   "file_extension": ".py",
   "mimetype": "text/x-python",
   "name": "python",
   "nbconvert_exporter": "python",
   "pygments_lexer": "ipython3",
   "version": "3.6.2"
  }
 },
 "nbformat": 4,
 "nbformat_minor": 2
}
