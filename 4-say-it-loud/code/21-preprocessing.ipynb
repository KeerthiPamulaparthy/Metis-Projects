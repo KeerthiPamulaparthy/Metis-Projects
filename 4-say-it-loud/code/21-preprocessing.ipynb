{
 "cells": [
  {
   "cell_type": "markdown",
   "metadata": {},
   "source": [
    "# Preprocessing"
   ]
  },
  {
   "cell_type": "markdown",
   "metadata": {},
   "source": [
    "All pre-tokenizing cleaning operations happen here, including the spell checker, which has been moved from the tokenizer to the cleaning function. Cleaned lyrics are then entered into each corresponding MongoDB document to save time in future actions."
   ]
  },
  {
   "cell_type": "code",
   "execution_count": 1,
   "metadata": {},
   "outputs": [],
   "source": [
    "import fletchmod\n",
    "from pymongo import MongoClient\n",
    "from bson.objectid import ObjectId\n",
    "import pprint"
   ]
  },
  {
   "cell_type": "code",
   "execution_count": 2,
   "metadata": {},
   "outputs": [],
   "source": [
    "# objects/vars for global use\n",
    "client = MongoClient()\n",
    "p4_db = client.proj4\n",
    "lyrics_coll = p4_db.lyrics"
   ]
  },
  {
   "cell_type": "code",
   "execution_count": 3,
   "metadata": {
    "scrolled": true
   },
   "outputs": [
    {
     "name": "stdout",
     "output_type": "stream",
     "text": [
      "IndexError while trying to check '̢shotgun'\n",
      "IndexError while trying to check 'hey̢'\n",
      "IndexError while trying to check '̢buy'\n",
      "IndexError while trying to check 'now̢'\n",
      "IndexError while trying to check '̢shotgun'\n",
      "IndexError while trying to check 'hey̢'\n",
      "IndexError while trying to check '̢its'\n",
      "IndexError while trying to check 'time̢'\n",
      "IndexError while trying to check '̢its'\n",
      "IndexError while trying to check 'time̢'\n",
      "IndexError while trying to check '̢its'\n",
      "IndexError while trying to check 'time̢'\n",
      "IndexError while trying to check 'slaycrewetook'\n",
      "IndexError while trying to check 'eyesahahahahah'\n",
      "IndexError while trying to check 'shadeahahahahah'\n",
      "IndexError while trying to check 'ooooohbut'\n",
      "IndexError while trying to check 'ooooohcause'\n",
      "IndexError while trying to check 'ooooohhow'\n",
      "IndexError while trying to check 'ahhhhhhhhhhhhhhhhhhhhhhhh'\n",
      "IndexError while trying to check 'ahhhhhhhhhhhhhhhhhhhhhhhhh'\n",
      "IndexError while trying to check 'tmazanec1junocom'\n",
      "IndexError while trying to check 'ronhontzworldnetattnet'\n",
      "IndexError while trying to check 'weeoohdoesnt'\n",
      "IndexError while trying to check 'nightdoobeedoobeedoo'\n",
      "IndexError while trying to check 'dahdahdahdahdah'\n",
      "IndexError while trying to check 'me̢'\n",
      "IndexError while trying to check 'avodeeohdoe'\n",
      "IndexError while trying to check 'avodeeohdoe'\n",
      "IndexError while trying to check 'avodeeohdoedeeohdoe'\n",
      "IndexError while trying to check 'owoooooooo'\n",
      "IndexError while trying to check 'owoooooooo'\n",
      "IndexError while trying to check 'owoooooooo'\n",
      "IndexError while trying to check 'owoooooooo'\n",
      "IndexError while trying to check 'owoooooooo'\n",
      "IndexError while trying to check 'baaaaaa'\n",
      "IndexError while trying to check 'bopbopbopbop'\n",
      "IndexError while trying to check 'bopbopbopbop'\n",
      "IndexError while trying to check 'bopbopbopbop'\n",
      "IndexError while trying to check 'mmmmmm'\n",
      "IndexError while trying to check 'ahhhhhh'\n",
      "IndexError while trying to check 'aheyheyhey'\n",
      "IndexError while trying to check 'carm�_n'\n",
      "IndexError while trying to check 'carm�_n'\n",
      "IndexError while trying to check 'b5b5b6b6'\n",
      "IndexError while trying to check 'uhhmm'\n",
      "IndexError while trying to check 'uhhmm'\n",
      "IndexError while trying to check 'itawwyoure'\n",
      "IndexError while trying to check 'ummmmmthis'\n",
      "IndexError while trying to check 'ditditditdo'\n",
      "IndexError while trying to check 'ditditditdo'\n",
      "IndexError while trying to check 'ditditditdo'\n",
      "IndexError while trying to check 'ditditditditditditditdit'\n",
      "IndexError while trying to check 'ditditditditditditditdit'\n",
      "IndexError while trying to check 'ditditditditditditditdit'\n",
      "IndexError while trying to check 'mindchorusyeah'\n",
      "IndexError while trying to check 'mindchorusbaby'\n",
      "IndexError while trying to check '̢'\n",
      "IndexError while trying to check 'tommyjamesandtheshondells'\n",
      "IndexError while trying to check 'ahhhhhhh'\n",
      "IndexError while trying to check 'ahhhh'\n",
      "IndexError while trying to check 'ohhhdo'\n",
      "IndexError while trying to check 'ohhhhhhh'\n",
      "IndexError while trying to check 'awayayayaystop'\n",
      "IndexError while trying to check 'nooooooshort'\n",
      "IndexError while trying to check 'x11oh'\n",
      "IndexError while trying to check 'uhyaoooooo'\n",
      "IndexError while trying to check 'boopboopbaboopboop'\n",
      "IndexError while trying to check 'oooooooo'\n",
      "IndexError while trying to check 'oooooooowhy'\n",
      "IndexError while trying to check 'oooooooo'\n",
      "IndexError while trying to check 'oooooooowhy'\n",
      "IndexError while trying to check 'luvmycomcsaolcom'\n",
      "IndexError while trying to check 'fermintvservidorunammx'\n",
      "IndexError while trying to check '̢im'\n",
      "IndexError while trying to check 'will̢'\n",
      "IndexError while trying to check 'ooooooooh'\n",
      "IndexError while trying to check 'ooooooooh'\n",
      "IndexError while trying to check 'yeahyeahyeahlookahere'\n",
      "IndexError while trying to check '̢cause'\n",
      "IndexError while trying to check '̢cause'\n",
      "IndexError while trying to check '̢cause'\n",
      "IndexError while trying to check '̢cause'\n",
      "IndexError while trying to check 'deeeeeepall'\n",
      "IndexError while trying to check 'deeeeeepmy'\n",
      "IndexError while trying to check 'locutusimsaedu'\n",
      "IndexError while trying to check 'desireahahahahahahah'\n",
      "IndexError while trying to check 'dahdodahdahdah'\n",
      "IndexError while trying to check 'chhchhwhen'\n",
      "IndexError while trying to check 'dahdodahdahdah'\n",
      "IndexError while trying to check 'gbh333'\n",
      "IndexError while trying to check 'stayayayarizona'\n",
      "IndexError while trying to check 'bendyeahohcatch'\n",
      "IndexError while trying to check 'that̢s'\n",
      "IndexError while trying to check 'that̢s'\n",
      "IndexError while trying to check 'i̢m'\n",
      "IndexError while trying to check '̢cause'\n",
      "IndexError while trying to check 'can̢t'\n",
      "IndexError while trying to check 'i̢m'\n",
      "IndexError while trying to check 'i̢m'\n",
      "IndexError while trying to check 'can̢t'\n",
      "IndexError while trying to check 'that̢s'\n",
      "IndexError while trying to check 'ain̢t'\n",
      "IndexError while trying to check 'doing̢'\n",
      "IndexError while trying to check 'good̢s'\n",
      "IndexError while trying to check 'good̢s'\n",
      "IndexError while trying to check 'that̢s'\n",
      "IndexError while trying to check 'mcnamarabarrycretecos'\n",
      "IndexError while trying to check 'delfi4110aolcom'\n",
      "IndexError while trying to check 'sonofagunjoy'\n",
      "IndexError while trying to check 'lookingfordonnatime'\n",
      "IndexError while trying to check 'lookingfordonnatime'\n",
      "IndexError while trying to check 'lookingfordonnatime'\n",
      "IndexError while trying to check 'lookingfordonnatime'\n",
      "IndexError while trying to check 'jbaer10134aolcom'\n",
      "IndexError while trying to check 'yoyowoah'\n",
      "IndexError while trying to check 'yoyowoah'\n",
      "IndexError while trying to check 'yoyowoah'\n",
      "IndexError while trying to check 'yoyowoah'\n",
      "IndexError while trying to check 'tmazanec1junocom'\n",
      "IndexError while trying to check 'yeaaaaaaaaaaaaaaaaaaaaaaaaah'\n",
      "IndexError while trying to check 'deweumumaway'\n",
      "IndexError while trying to check 'weumumaway'\n",
      "IndexError while trying to check 'deweumumaway'\n",
      "IndexError while trying to check 'weumumaway'\n",
      "IndexError while trying to check '̢i'\n",
      "IndexError while trying to check 'boy̢'\n",
      "IndexError while trying to check 'wwwgoldinccomedwise'\n",
      "IndexError while trying to check 'ronhontzworldnetattnet'\n",
      "IndexError while trying to check 'shambalachorushow'\n",
      "IndexError while trying to check 'shambalachorushow'\n",
      "IndexError while trying to check 'kabenn000aolcom'\n",
      "IndexError while trying to check '̫i'\n",
      "IndexError while trying to check 'or̫r̫i'\n",
      "IndexError while trying to check 'r̫r̫r̫i'\n",
      "IndexError while trying to check 'r̫r̫r̫i'\n",
      "IndexError while trying to check 'r̫r̫r̫i'\n",
      "IndexError while trying to check 'r̫r̫r̫i'\n",
      "IndexError while trying to check 'ohror̫'\n",
      "IndexError while trying to check 'pop̫'\n",
      "IndexError while trying to check 'y̫i'\n",
      "IndexError while trying to check 'or̫r̫i'\n",
      "IndexError while trying to check 'r̫r̫r̫i'\n",
      "IndexError while trying to check 'r̫r̫r̫i'\n",
      "IndexError while trying to check 'r̫r̫r̫i'\n",
      "IndexError while trying to check 'r̫r̫r̫i'\n",
      "IndexError while trying to check 'ohror̫'\n",
      "IndexError while trying to check 'pop̫'\n",
      "IndexError while trying to check 'ooooooooh'\n",
      "IndexError while trying to check '̫i'\n",
      "IndexError while trying to check 'or̫r̫i'\n",
      "IndexError while trying to check 'r̫r̫r̫i'\n",
      "IndexError while trying to check 'r̫r̫r̫i'\n",
      "IndexError while trying to check 'r̫r̫r̫i'\n",
      "IndexError while trying to check 'r̫r̫r̫i'\n",
      "IndexError while trying to check 'ohror̫'\n",
      "IndexError while trying to check 'pop̫'\n",
      "IndexError while trying to check 'y̫i'\n",
      "IndexError while trying to check 'or̫r̫i'\n",
      "IndexError while trying to check 'r̫r̫r̫i'\n",
      "IndexError while trying to check 'r̫r̫r̫i'\n",
      "IndexError while trying to check 'r̫r̫r̫i'\n",
      "IndexError while trying to check 'r̫r̫r̫i'\n",
      "IndexError while trying to check 'ohror̫'\n",
      "IndexError while trying to check 'boump̫'\n",
      "IndexError while trying to check 'ooooooooh'\n",
      "IndexError while trying to check 'tatrrrep̫tetretrepiec̫̣̩̩̫ḥh̩nh̩n'\n",
      "IndexError while trying to check '̫i'\n",
      "IndexError while trying to check 'tr̩gueregu̩d̫i'\n",
      "IndexError while trying to check 'det̻ro'\n",
      "IndexError while trying to check 'degued̫'\n",
      "IndexError while trying to check 'tegueregued̻ro'\n",
      "IndexError while trying to check 'd̻dow'\n",
      "IndexError while trying to check '̫̩hr̫hr̻hr̻hr��hr�_'\n",
      "IndexError while trying to check 'h̩'\n",
      "IndexError while trying to check 'ḥ'\n",
      "IndexError while trying to check '̣i'\n",
      "IndexError while trying to check 'er̻ṛi'\n",
      "IndexError while trying to check 'ṛṛr̫i'\n",
      "IndexError while trying to check 'r̫r̫r̫i'\n",
      "IndexError while trying to check 'r̫r̫r̫i'\n",
      "IndexError while trying to check 'r̫r̫r̫i'\n",
      "IndexError while trying to check 'ohror̫'\n",
      "IndexError while trying to check 'pop̫'\n",
      "IndexError while trying to check 'y̫i'\n",
      "IndexError while trying to check 'or̫r̫i'\n",
      "IndexError while trying to check 'r̫r̫r̫i'\n",
      "IndexError while trying to check 'r̫r̫r̫i'\n",
      "IndexError while trying to check 'r̫r̫r̫i'\n",
      "IndexError while trying to check 'r̫r̫r̫i'\n",
      "IndexError while trying to check 'ohror̫m'\n",
      "IndexError while trying to check 'pomp̫'\n"
     ]
    },
    {
     "name": "stdout",
     "output_type": "stream",
     "text": [
      "IndexError while trying to check 'ooooooooh'\n",
      "IndexError while trying to check '̫i'\n",
      "IndexError while trying to check 'or̫r̫i'\n",
      "IndexError while trying to check 'r̫r̫r̫i'\n",
      "IndexError while trying to check 'r̫r̫r̫i'\n",
      "IndexError while trying to check 'r̫r̫r̫i'\n",
      "IndexError while trying to check 'r̫r̫r̫i'\n",
      "IndexError while trying to check 'ohror̫'\n",
      "IndexError while trying to check 'pop̫'\n",
      "IndexError while trying to check 'y̫i'\n",
      "IndexError while trying to check 'or̫r̫i'\n",
      "IndexError while trying to check 'r̫r̫r̫i'\n",
      "IndexError while trying to check 'r̫'\n",
      "IndexError while trying to check 'ooooooooh'\n",
      "IndexError while trying to check 'h������'\n",
      "IndexError while trying to check 'toodlieadatoot'\n",
      "IndexError while trying to check 'toodliatatoodliata'\n",
      "IndexError while trying to check 'aaaaaaaah'\n",
      "IndexError while trying to check 'tearyeyeddont'\n",
      "IndexError while trying to check 'wwwmp3lyricsorg'\n",
      "IndexError while trying to check 'sweettaikingladies'\n",
      "IndexError while trying to check 'caf̣'\n",
      "IndexError while trying to check 'me̢'\n",
      "IndexError while trying to check 'mochachocalata'\n",
      "IndexError while trying to check 'mochachocalata'\n",
      "IndexError while trying to check 'timeoohhoohoo'\n",
      "IndexError while trying to check 'yeahwoohoohoobaby'\n",
      "IndexError while trying to check '̢oh'\n",
      "IndexError while trying to check 'b17'\n",
      "IndexError while trying to check 'b17'\n",
      "IndexError while trying to check 'ayeayeayeayea'\n",
      "IndexError while trying to check 'doorahahayeayea'\n",
      "IndexError while trying to check 'doorayeayeayeaye'\n",
      "IndexError while trying to check 'ayeayeayeaye'\n",
      "IndexError while trying to check 'ayeayeayeaye'\n",
      "IndexError while trying to check 'ayeayeayea'\n",
      "IndexError while trying to check 'oooooooo'\n",
      "IndexError while trying to check 'oooooooo'\n",
      "IndexError while trying to check 'mmmmmmmm'\n",
      "IndexError while trying to check 'mmmmmmmm'\n",
      "IndexError while trying to check 'mmmmmmmm'\n"
     ]
    }
   ],
   "source": [
    "# this need not be run twice... unless one happens to update spell check options :\\\n",
    "# fails = fletchmod.load_clean_store(lyrics_coll, return_copy=False)"
   ]
  },
  {
   "cell_type": "markdown",
   "metadata": {},
   "source": [
    "Quick check on fails."
   ]
  },
  {
   "cell_type": "code",
   "execution_count": 7,
   "metadata": {
    "scrolled": true
   },
   "outputs": [],
   "source": [
    "for song_id in fails:\n",
    "    pprint.pprint(lyrics_coll.find_one({'_id': ObjectId(song_id)}))"
   ]
  },
  {
   "cell_type": "markdown",
   "metadata": {},
   "source": [
    "None! Good."
   ]
  },
  {
   "cell_type": "markdown",
   "metadata": {},
   "source": [
    "Draw a sample to see if lyrics were added to others:"
   ]
  },
  {
   "cell_type": "code",
   "execution_count": 8,
   "metadata": {},
   "outputs": [],
   "source": [
    "lyrics, song_ids = fletchmod.lyrics_from_db(lyrics_coll, 'Lyrics_clean', sample_size=10)"
   ]
  },
  {
   "cell_type": "code",
   "execution_count": 9,
   "metadata": {},
   "outputs": [
    {
     "name": "stdout",
     "output_type": "stream",
     "text": [
      "\n",
      "Song ID: 59f903150f3e05a46c01daf5\n",
      "i wanna jump but im afraid ill fall i wanna holler but the joints too small young man rhythms got a hold of me too i got the rocking pneumonia and the boogie boogie flu call some others baby that aint all i wanna kiss her but shes way too tall young man rhythms got a hold of me too i got the rocking pneumonia and the boogie boogie flew wanna squeeze her but im way too low i would be running but my fits too slow young man rhythms got a hold of me too i got the rocking pneumonia and the boogie boogie flew wanna squeeze her but im way too low i would be running but my fits too slow young man rhythms got a hold of me too i got the rocking pneumonia and the boogie boogie flu\n",
      "\n",
      "Song ID: 59f903150f3e05a46c01d99f\n",
      "just got home from illinois lock the front door oh boy got to sit down take a rest on the porch imagination sets in pretty soon im dew dew looking out my back door theres a giant doing cartwheels a statue wearing high heels look at all the happy creatures dancing on the lawn a dinosaur victrola listing to buck dew dew looking out my back door tambourines and elephants are playing in the band wont you take a ride on the flying spoon dew dew dew wondrous apparition provided by dew dew looking out my back door tambourines and elephants are playing in the band wont you take a ride on the flying spoon dew dew dew bother me tomorrow today ill buy no dew dew looking out my back door forward troubles illinois lock the front door oh boy look at all the happy creatures dancing on the lawn bother me tomorrow today ill buy no dew dew looking out my back door\n",
      "\n",
      "Song ID: 59f903150f3e05a46c01d7d1\n",
      "and if she should tell you come closer and if she tempts you with her charms tell her no no no no no no no no no no no no no no no no no no no no no dont hurt me now for her love belongs to mend if she should tell you come closer and if she tempts you with her charms tell her no no no no no no no no no no no no no no no no dont take her love for your arms no no no no no dont hurt me now for her love belongs to ma know shes the kind of girl dhow throw my love away but i still love her so dont hurt me now dont hurt me now if she tells you i love you just remember she said that to retell her no no no no no no no no no no no no no no no no dont take her love from my arms no no no no no dont leave her now for her love belongs to me\n",
      "\n",
      "Song ID: 59f903150f3e05a46c01db18\n",
      "midnight at the oasis send your camel to bed shadows painting our faces traces of romance in our heads heavens holding a half moon shining just for us lets slip off to a sand dune real soon and kick up a little dust come on cactus is our friend hell point out the way come on till the evening ends till the evening ends you dont have to answer theres no need to speak ill be your belly dancer prancer and you can be my sheik know your daddy a sultan a nomad known to all with fifty girls to attend him they all send him jump at his beck and call but you wont need no harem honey when im by your side and you wont need no camel no no when i take you for a ride come on cactus is our friend hell point out the way come on till the evening ends till the evening ends midnight at the oasis send your camel to bed got shadows painting our faces and traces of romance in our heads\n",
      "\n",
      "Song ID: 59f903150f3e05a46c01d89e\n",
      "good morning sun i say its good to see you shining i know my baby brought you to me she kissed me yesterday hello to silver lining got spring and summer running through me hey its good to have you back again oh hey her loving is the medicine that saved me oh i love my baby hey everybody on the street i see you smiling must be because i found my baby you know shes got me on another kind of highway i want to go to where it takes me hey its good to have you back again oh hey her loving is the medicine that saved me oh i love my baby you know shes got me on another kind of highway i want to go to where it takes me hey its good to have you back again oh hey her loving is the medicine that saved me oh i love my baby\n",
      "\n",
      "Song ID: 59f903150f3e05a46c01d949\n",
      "i dont remember what day it was i dint notice what time it was all i know is that i fell in love with you and if all my dreams come true ill be spending time with you every days a new day in love with you with each day comes a new way of loving you every time i kiss your lips my mind starts to wander and if all my dreams come true ill be spending time with youth i love you more today than yesterday but not as much as tomorrow i love you more today than yesterday but darling not as much as tomorrow tomorrows date means springtimes just a day away cupid we dont need ya now be on your way i thank the lord for love like ours that grows ever stronger and i always will be true i know you feel the same way too\n",
      "\n",
      "Song ID: 59f903150f3e05a46c01d8d0\n",
      "bonnie and clyde were pretty looking people but i can tell you people they were the devils children bonnie and clyde began their evil doing one lazy afternoon down savannah way they robbed a store and hightailed auto that town got clean away in a stolen car and waited till the heat died down bonnie and clyde advanced their reputation and made the graduation into the banking business reach for the sky sweet talking clyde would holler as bonnie loaded dollars in the dewlap bag now one brave mane tried to take em alone they left him eying in a pool of blood and laughed about it all the way home bonnie and clyde got to be public enemy number one running and hiding from very american lawman gun they used to laugh about dying but deep inside em they knew that pretty soon they be lying beneath the ground together pushing up daisies to welcome the sun and the morning dew acting upon reliable information a feral deputation laid a deadly ambush when bonnie and clyde came walking in the sunshine a half a dozen carbines opened up on them bonnie and clyde they lived a lot together and finally together they died\n",
      "\n",
      "Song ID: 59f903140f3e05a46c01d796\n",
      "i said shoot em for he runs now do the jerk baby do the jerk now put on your red dress and then you go downtown now i said yourself a shotgun now were gonna break it down baby now were gonna load it up baby now and then you shoot him for he runs shotgun shoot em for he runs now do the jerk baby do the jerk now hey put on your high heels shoes i said were going down here listen to em play blues were gonna dig potatoes were gonna pick tomatoes i said shoot em for he runs now do the jerk baby do the jerk now i said twine i said twine i said twine hey\n",
      "\n",
      "Song ID: 59f903150f3e05a46c01d7db\n",
      "little things that you do make me glad im in love with you little things that you say make me glad that i feel this way the way you smile the way you hold my hand and when im down you always understand you know i love those little things i hear that you say when theres no one near little things that you do let me know that your love is true when we walk you like to hold my hand and when we talk you tell me im your man you know i love those little things that i knew the little things you whispered in my ear i know there aint nobody else like you no one could do the little things you do little things that you do make me glad im in love with you little things that you say make me glad that i feel this way when we walk you like to hold my hand and when we talk you tell me im your man you know i love those little things that i knew the little things you whispered in my ear i know there aint nobody else like you\n",
      "\n",
      "Song ID: 59f903150f3e05a46c01dace\n",
      "why do i keep my mind on you all the time and i dont even know you why do i feel this way thinking about you every day and i dont even know you take me in your arms thrill me with all of your charm sand ill take to the sky on a natural high i want to take to the sky loving you more till the day i die on the natural high take to the sky on a natural high i want you to be mine loving you more if you have anything to do call me and i will do it for you and i dont even know you if i only had one wish to give that wish would be for you to live forever and ever when i see you on the street my heart skips a beat and ill take to the sky on a natural high ill just take to the sky loving you more till the day i die on a natural high take to the sky on a natural high loving you more and i dont know you loving you ram gonna try to do all the things you want me to if youll just give me a chance im trying to make something out of a nothing romance and i dont even know you take me in your arms thrill me with all of your charm sand ill take to the sky on a natural high loving you more till the day i die to the skill take to the sky on a natural high loving you more and ill take to the sky on a natural high loving you more till the day i die ill take to the sky on a natural high loving loving youll take to the sky on a natural high loving you more till the day i die ill take to the sky on a natural high loving loving you la la la la la la\n"
     ]
    }
   ],
   "source": [
    "for song_id, lyric in zip(song_ids, lyrics):\n",
    "    print(f\"\\nSong ID: {song_id}\")\n",
    "    print(lyric)"
   ]
  },
  {
   "cell_type": "markdown",
   "metadata": {},
   "source": [
    "Success."
   ]
  },
  {
   "cell_type": "code",
   "execution_count": null,
   "metadata": {
    "collapsed": true
   },
   "outputs": [],
   "source": []
  }
 ],
 "metadata": {
  "kernelspec": {
   "display_name": "Python [conda env:Py36]",
   "language": "python",
   "name": "conda-env-Py36-py"
  },
  "language_info": {
   "codemirror_mode": {
    "name": "ipython",
    "version": 3
   },
   "file_extension": ".py",
   "mimetype": "text/x-python",
   "name": "python",
   "nbconvert_exporter": "python",
   "pygments_lexer": "ipython3",
   "version": "3.6.2"
  }
 },
 "nbformat": 4,
 "nbformat_minor": 2
}
