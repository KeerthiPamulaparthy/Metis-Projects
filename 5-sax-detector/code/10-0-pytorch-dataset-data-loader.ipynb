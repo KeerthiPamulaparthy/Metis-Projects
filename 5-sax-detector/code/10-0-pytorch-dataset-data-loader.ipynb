{
 "cells": [
  {
   "cell_type": "markdown",
   "metadata": {},
   "source": [
    "# PyTorch Exploration – Dataset & Data Loader"
   ]
  },
  {
   "cell_type": "code",
   "execution_count": 1,
   "metadata": {},
   "outputs": [],
   "source": [
    "import audiomod\n",
    "import ptmod\n",
    "# from pymongo import MongoClient\n",
    "import matplotlib.pyplot as plt\n",
    "import pandas as pd\n",
    "import numpy as np\n",
    "import torch\n",
    "# import torchvision\n",
    "# from torchvision import transforms, utils\n",
    "import torch.utils.data as data_utils\n",
    "from torch.autograd import Variable\n",
    "import torch.nn as nn\n",
    "import torch.nn.functional as F\n",
    "import torch.optim as optim\n",
    "import time\n",
    "from collections import OrderedDict, defaultdict\n",
    "import pickle\n",
    "import os\n",
    "\n",
    "from sklearn import metrics\n",
    "\n",
    "%matplotlib inline"
   ]
  },
  {
   "cell_type": "markdown",
   "metadata": {},
   "source": [
    "## Creating Dataset Sub-Class"
   ]
  },
  {
   "cell_type": "markdown",
   "metadata": {},
   "source": [
    "Wrote a class in `pytorchmod` that uses MongoDB to access particular test round. Creates spectrograms on the fly through the `__getitem__()` method."
   ]
  },
  {
   "cell_type": "markdown",
   "metadata": {},
   "source": [
    "First, create a datagroup in the Mongo collection. Following the sax/no-sax convention, I'll use all the available samples with sax in foreground, and an equal number of those without."
   ]
  },
  {
   "cell_type": "code",
   "execution_count": 2,
   "metadata": {},
   "outputs": [],
   "source": [
    "# only run once!\n",
    "# komod.create_datagroup_in_db('sax1203', 'sax')"
   ]
  },
  {
   "cell_type": "markdown",
   "metadata": {},
   "source": [
    "Now that it's labeled in the database, I load the datagroup as a pd dataframe, pull a relatively balanced subset, add a train/test column, and then create PyTorch dataset objects."
   ]
  },
  {
   "cell_type": "code",
   "execution_count": 3,
   "metadata": {},
   "outputs": [
    {
     "data": {
      "text/plain": [
       "(920, 2)"
      ]
     },
     "execution_count": 3,
     "metadata": {},
     "output_type": "execute_result"
    }
   ],
   "source": [
    "sax1203_datagroup = audiomod.pull_datagroup_from_db('sax1203')\n",
    "\n",
    "sax1203_datagroup.shape"
   ]
  },
  {
   "cell_type": "code",
   "execution_count": 4,
   "metadata": {},
   "outputs": [
    {
     "data": {
      "text/plain": [
       "1    53\n",
       "0    47\n",
       "Name: actual, dtype: int64"
      ]
     },
     "execution_count": 4,
     "metadata": {},
     "output_type": "execute_result"
    }
   ],
   "source": [
    "# pull a smaller sample for PoC run\n",
    "sub_datagroup = sax1203_datagroup.sample(100)\n",
    "sub_datagroup.actual.value_counts()"
   ]
  },
  {
   "cell_type": "code",
   "execution_count": 6,
   "metadata": {},
   "outputs": [
    {
     "name": "stdout",
     "output_type": "stream",
     "text": [
      "Train set length: 79\n",
      "Test set length: 21\n"
     ]
    }
   ],
   "source": [
    "train_df, test_df = audiomod.tts(sub_datagroup)\n",
    "\n",
    "# this scaling is pretty tiny, but it'll do the trick for a dry run\n",
    "train_sub = ptmod.SpectroDataset(train_df, scaling=0.125)\n",
    "test_sub = ptmod.SpectroDataset(test_df, scaling=0.125)\n",
    "\n",
    "print(\"Train set length:\", len(train_sub))\n",
    "print(\"Test set length:\", len(test_sub))"
   ]
  },
  {
   "cell_type": "markdown",
   "metadata": {},
   "source": [
    "Getting an item by index on a dataset object should return a tuple of:  \n",
    "\n",
    "`(sample_spectrogram, sample_ground_truth, sample_ID)`"
   ]
  },
  {
   "cell_type": "code",
   "execution_count": 7,
   "metadata": {
    "scrolled": true
   },
   "outputs": [
    {
     "name": "stdout",
     "output_type": "stream",
     "text": [
      "\n",
      "Chunk: 003171\n",
      "Label: 0\n",
      "---\n",
      "Min: -1.0\n",
      "Max: 1.0\n",
      "Mean: 0.11256619692517654\n",
      "Std: 0.4029987719865222\n",
      "Shape: torch.Size([1, 64, 54])\n",
      "\n",
      "Chunk: 000301\n",
      "Label: 1\n",
      "---\n",
      "Min: -0.870057225227356\n",
      "Max: 1.0\n",
      "Mean: 0.26686227109635013\n",
      "Std: 0.31685899686397717\n",
      "Shape: torch.Size([1, 64, 54])\n",
      "\n",
      "Chunk: 012413\n",
      "Label: 0\n",
      "---\n",
      "Min: -1.0\n",
      "Max: 1.0\n",
      "Mean: -0.5248126373042867\n",
      "Std: 0.44975363493523973\n",
      "Shape: torch.Size([1, 64, 54])\n",
      "\n",
      "Chunk: 014894\n",
      "Label: 0\n",
      "---\n",
      "Min: -1.0\n",
      "Max: 1.0\n",
      "Mean: -0.16581711575324537\n",
      "Std: 0.3819979149374032\n",
      "Shape: torch.Size([1, 64, 54])\n",
      "\n",
      "Chunk: 014699\n",
      "Label: 0\n",
      "---\n",
      "Min: -0.4782467186450958\n",
      "Max: 1.0\n",
      "Mean: 0.16387082422865104\n",
      "Std: 0.2371574806909264\n",
      "Shape: torch.Size([1, 64, 54])\n"
     ]
    }
   ],
   "source": [
    "for i in range(5):\n",
    "    item = train_sub[i]\n",
    "    print(\"\\nChunk:\", item[2])\n",
    "    print(\"Label:\", item[1])\n",
    "    print(\"---\")\n",
    "    ptmod.tensor_stats(item[0])"
   ]
  },
  {
   "cell_type": "markdown",
   "metadata": {},
   "source": [
    "Works as it should. The first object in the tuple, the spectrogram, should be a torch tensor:"
   ]
  },
  {
   "cell_type": "code",
   "execution_count": 8,
   "metadata": {},
   "outputs": [
    {
     "data": {
      "text/plain": [
       "torch.FloatTensor"
      ]
     },
     "execution_count": 8,
     "metadata": {},
     "output_type": "execute_result"
    }
   ],
   "source": [
    "type(train_sub[2][0])"
   ]
  },
  {
   "cell_type": "markdown",
   "metadata": {},
   "source": [
    "## Data Loader"
   ]
  },
  {
   "cell_type": "markdown",
   "metadata": {},
   "source": [
    "What is it and how does it work?"
   ]
  },
  {
   "cell_type": "code",
   "execution_count": 9,
   "metadata": {},
   "outputs": [],
   "source": [
    "train_loader = data_utils.DataLoader(train_sub, batch_size=4, shuffle=True, drop_last=True)"
   ]
  },
  {
   "cell_type": "code",
   "execution_count": 10,
   "metadata": {},
   "outputs": [
    {
     "data": {
      "text/plain": [
       "torch.utils.data.dataloader.DataLoader"
      ]
     },
     "execution_count": 10,
     "metadata": {},
     "output_type": "execute_result"
    }
   ],
   "source": [
    "type(train_loader)"
   ]
  },
  {
   "cell_type": "code",
   "execution_count": 11,
   "metadata": {},
   "outputs": [],
   "source": [
    "# makes an iterable from loader\n",
    "train_iter = iter(train_loader)"
   ]
  },
  {
   "cell_type": "code",
   "execution_count": 12,
   "metadata": {},
   "outputs": [
    {
     "data": {
      "text/plain": [
       "torch.utils.data.dataloader.DataLoaderIter"
      ]
     },
     "execution_count": 12,
     "metadata": {},
     "output_type": "execute_result"
    }
   ],
   "source": [
    "type(train_iter)"
   ]
  },
  {
   "cell_type": "code",
   "execution_count": 13,
   "metadata": {},
   "outputs": [
    {
     "data": {
      "text/plain": [
       "list"
      ]
     },
     "execution_count": 13,
     "metadata": {},
     "output_type": "execute_result"
    }
   ],
   "source": [
    "# save a batch of data as a variable\n",
    "loader_unit = next(train_iter)\n",
    "type(loader_unit)"
   ]
  },
  {
   "cell_type": "code",
   "execution_count": 14,
   "metadata": {},
   "outputs": [
    {
     "data": {
      "text/plain": [
       "3"
      ]
     },
     "execution_count": 14,
     "metadata": {},
     "output_type": "execute_result"
    }
   ],
   "source": [
    "# list includes training array, corresponding label, and chunk ID\n",
    "len(loader_unit)"
   ]
  },
  {
   "cell_type": "code",
   "execution_count": 15,
   "metadata": {},
   "outputs": [
    {
     "name": "stdout",
     "output_type": "stream",
     "text": [
      "4\n",
      "4\n",
      "4\n"
     ]
    }
   ],
   "source": [
    "# each should include four records\n",
    "for sub in loader_unit:\n",
    "    print(len(sub))"
   ]
  },
  {
   "cell_type": "code",
   "execution_count": 16,
   "metadata": {},
   "outputs": [
    {
     "name": "stdout",
     "output_type": "stream",
     "text": [
      "<class 'torch.FloatTensor'>\n",
      "<class 'torch.LongTensor'>\n",
      "<class 'tuple'>\n"
     ]
    }
   ],
   "source": [
    "# and the types?\n",
    "for sub in loader_unit:\n",
    "    print(type(sub))"
   ]
  },
  {
   "cell_type": "code",
   "execution_count": 17,
   "metadata": {},
   "outputs": [
    {
     "name": "stdout",
     "output_type": "stream",
     "text": [
      "torch.Size([1, 64, 54])\n",
      "0\n",
      "012093\n"
     ]
    }
   ],
   "source": [
    "# what about some shapes and contents\n",
    "print(loader_unit[0][0].shape)\n",
    "print(loader_unit[1][0]) # breaks with shape because an int has no such property\n",
    "print(loader_unit[2][0]) # same, because str"
   ]
  },
  {
   "cell_type": "code",
   "execution_count": 18,
   "metadata": {},
   "outputs": [
    {
     "data": {
      "text/plain": [
       "\n",
       " 0\n",
       " 1\n",
       " 1\n",
       " 0\n",
       "[torch.LongTensor of size 4]"
      ]
     },
     "execution_count": 18,
     "metadata": {},
     "output_type": "execute_result"
    }
   ],
   "source": [
    "loader_unit[1]"
   ]
  },
  {
   "cell_type": "markdown",
   "metadata": {},
   "source": [
    "Into the module with it all and on to CNN design..."
   ]
  },
  {
   "cell_type": "code",
   "execution_count": null,
   "metadata": {},
   "outputs": [],
   "source": []
  }
 ],
 "metadata": {
  "kernelspec": {
   "display_name": "Python [conda env:pytorch]",
   "language": "python",
   "name": "conda-env-pytorch-py"
  },
  "language_info": {
   "codemirror_mode": {
    "name": "ipython",
    "version": 3
   },
   "file_extension": ".py",
   "mimetype": "text/x-python",
   "name": "python",
   "nbconvert_exporter": "python",
   "pygments_lexer": "ipython3",
   "version": "3.6.2"
  }
 },
 "nbformat": 4,
 "nbformat_minor": 2
}
