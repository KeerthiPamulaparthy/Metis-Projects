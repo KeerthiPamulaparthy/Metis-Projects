{
 "cells": [
  {
   "cell_type": "markdown",
   "metadata": {},
   "source": [
    "# Modeling with PyTorch"
   ]
  },
  {
   "cell_type": "code",
   "execution_count": 1,
   "metadata": {},
   "outputs": [],
   "source": [
    "import komod\n",
    "import ptmod\n",
    "\n",
    "import numpy as np\n",
    "import pandas as pd\n",
    "\n",
    "import torch\n",
    "import torch.nn as nn\n",
    "import torch.optim as optim\n",
    "\n",
    "import pickle\n",
    "\n",
    "import matplotlib.pyplot as plt\n",
    "# import seaborn as sns\n",
    "# plt.style.use('seaborn')\n",
    "\n",
    "%matplotlib inline"
   ]
  },
  {
   "cell_type": "markdown",
   "metadata": {},
   "source": [
    "## Train/Test Dataset Creation"
   ]
  },
  {
   "cell_type": "markdown",
   "metadata": {},
   "source": [
    "First, create a datagroup in the Mongo collection. Following the sax/no-sax convention, I'll use all the available samples with sax in foreground, and an equal number of those without."
   ]
  },
  {
   "cell_type": "code",
   "execution_count": 2,
   "metadata": {},
   "outputs": [],
   "source": [
    "# only run once!\n",
    "# komod.create_datagroup_in_db('sax1203', 'sax')"
   ]
  },
  {
   "cell_type": "markdown",
   "metadata": {},
   "source": [
    "Now that it's labeled in the database, I load the datagroup as a pd dataframe, add a train/test column, and then create PyTorch dataset objects. These spectros will be at 1/4 scale, larger than the 1/8 scale spectros used in development."
   ]
  },
  {
   "cell_type": "code",
   "execution_count": 2,
   "metadata": {},
   "outputs": [],
   "source": [
    "sax1203_datagroup = komod.pull_datagroup_from_db('sax1203')"
   ]
  },
  {
   "cell_type": "code",
   "execution_count": 4,
   "metadata": {
    "scrolled": true
   },
   "outputs": [
    {
     "data": {
      "text/plain": [
       "1    460\n",
       "0    460\n",
       "Name: actual, dtype: int64"
      ]
     },
     "execution_count": 4,
     "metadata": {},
     "output_type": "execute_result"
    }
   ],
   "source": [
    "# look at number of records with each label\n",
    "sax1203_datagroup.actual.value_counts()"
   ]
  },
  {
   "cell_type": "code",
   "execution_count": 7,
   "metadata": {},
   "outputs": [
    {
     "data": {
      "text/html": [
       "<div>\n",
       "<style>\n",
       "    .dataframe thead tr:only-child th {\n",
       "        text-align: right;\n",
       "    }\n",
       "\n",
       "    .dataframe thead th {\n",
       "        text-align: left;\n",
       "    }\n",
       "\n",
       "    .dataframe tbody tr th {\n",
       "        vertical-align: top;\n",
       "    }\n",
       "</style>\n",
       "<table border=\"1\" class=\"dataframe\">\n",
       "  <thead>\n",
       "    <tr style=\"text-align: right;\">\n",
       "      <th></th>\n",
       "      <th>chunk_id</th>\n",
       "      <th>actual</th>\n",
       "    </tr>\n",
       "  </thead>\n",
       "  <tbody>\n",
       "    <tr>\n",
       "      <th>478</th>\n",
       "      <td>009152</td>\n",
       "      <td>1</td>\n",
       "    </tr>\n",
       "    <tr>\n",
       "      <th>393</th>\n",
       "      <td>007624</td>\n",
       "      <td>1</td>\n",
       "    </tr>\n",
       "    <tr>\n",
       "      <th>730</th>\n",
       "      <td>015111</td>\n",
       "      <td>1</td>\n",
       "    </tr>\n",
       "    <tr>\n",
       "      <th>719</th>\n",
       "      <td>015015</td>\n",
       "      <td>1</td>\n",
       "    </tr>\n",
       "    <tr>\n",
       "      <th>285</th>\n",
       "      <td>005398</td>\n",
       "      <td>0</td>\n",
       "    </tr>\n",
       "  </tbody>\n",
       "</table>\n",
       "</div>"
      ],
      "text/plain": [
       "    chunk_id  actual\n",
       "478   009152       1\n",
       "393   007624       1\n",
       "730   015111       1\n",
       "719   015015       1\n",
       "285   005398       0"
      ]
     },
     "execution_count": 7,
     "metadata": {},
     "output_type": "execute_result"
    }
   ],
   "source": [
    "sax1203_datagroup.sample(5)"
   ]
  },
  {
   "cell_type": "code",
   "execution_count": 8,
   "metadata": {},
   "outputs": [
    {
     "name": "stdout",
     "output_type": "stream",
     "text": [
      "Train set length: 733\n",
      "Test set length: 187\n"
     ]
    }
   ],
   "source": [
    "# creation of dataset objects for train and test sets\n",
    "\n",
    "train_df, test_df = komod.tts(sax1203_datagroup)\n",
    "\n",
    "train_4 = ptmod.SpectroDataset(train_df, scaling=0.25)\n",
    "test_4 = ptmod.SpectroDataset(test_df, scaling=0.25)\n",
    "\n",
    "print(\"Train set length:\", len(train_4))\n",
    "print(\"Test set length:\", len(test_4))"
   ]
  },
  {
   "cell_type": "markdown",
   "metadata": {},
   "source": [
    "A look at 5 records in the train set:"
   ]
  },
  {
   "cell_type": "code",
   "execution_count": 9,
   "metadata": {
    "scrolled": true
   },
   "outputs": [
    {
     "name": "stdout",
     "output_type": "stream",
     "text": [
      "\n",
      "Chunk: 000009\n",
      "Label: 0\n",
      "---\n",
      "Min: -1.0\n",
      "Max: 1.0\n",
      "Mean: -0.25908217679108936\n",
      "Std: 0.424969919429845\n",
      "Shape: torch.Size([1, 128, 108])\n",
      "\n",
      "Chunk: 000047\n",
      "Label: 0\n",
      "---\n",
      "Min: -1.0\n",
      "Max: 1.0\n",
      "Mean: 0.011445257489091466\n",
      "Std: 0.2823653199847814\n",
      "Shape: torch.Size([1, 128, 108])\n",
      "\n",
      "Chunk: 000064\n",
      "Label: 0\n",
      "---\n",
      "Min: -1.0\n",
      "Max: 1.0\n",
      "Mean: -0.667392001937738\n",
      "Std: 0.3322335200982037\n",
      "Shape: torch.Size([1, 128, 108])\n",
      "\n",
      "Chunk: 000108\n",
      "Label: 0\n",
      "---\n",
      "Min: -1.0\n",
      "Max: 1.0\n",
      "Mean: 0.006972157547526107\n",
      "Std: 0.30845731487670264\n",
      "Shape: torch.Size([1, 128, 108])\n",
      "\n",
      "Chunk: 000136\n",
      "Label: 0\n",
      "---\n",
      "Min: -1.0\n",
      "Max: 1.0\n",
      "Mean: 0.01438710490623144\n",
      "Std: 0.3315670103026427\n",
      "Shape: torch.Size([1, 128, 108])\n"
     ]
    }
   ],
   "source": [
    "for i in range(5):\n",
    "    item = train_4[i]\n",
    "    print(\"\\nChunk:\", item[2])\n",
    "    print(\"Label:\", item[1])\n",
    "    print(\"---\")\n",
    "    ptmod.tensor_stats(item[0])"
   ]
  },
  {
   "cell_type": "markdown",
   "metadata": {},
   "source": [
    "## CNN Architecture"
   ]
  },
  {
   "cell_type": "markdown",
   "metadata": {},
   "source": [
    "Because of the (1,128,108) dimension of the images, we'll have to re-design the layers of the CNN."
   ]
  },
  {
   "cell_type": "code",
   "execution_count": 10,
   "metadata": {},
   "outputs": [
    {
     "name": "stdout",
     "output_type": "stream",
     "text": [
      "1 x 128 x 108\n",
      "10 x 124 x 104\n",
      "10 x 62 x 52\n",
      "20 x 58 x 48\n",
      "20 x 29 x 24\n"
     ]
    },
    {
     "data": {
      "text/plain": [
       "13920"
      ]
     },
     "execution_count": 10,
     "metadata": {},
     "output_type": "execute_result"
    }
   ],
   "source": [
    "cnn_layers_test = (\n",
    "    (5,1,10),\n",
    "    (2,2,0),\n",
    "    (5,1,20),\n",
    "    (2,2,0)\n",
    ")\n",
    "\n",
    "ptmod.cnn_pixels_out((1,128,108), cnn_layers_test, drop_last=True)"
   ]
  },
  {
   "cell_type": "markdown",
   "metadata": {},
   "source": [
    "I could try running it with 13920 values going into the FC layer, but will look at getting it down to the 400-3000 range."
   ]
  },
  {
   "cell_type": "code",
   "execution_count": 11,
   "metadata": {},
   "outputs": [
    {
     "name": "stdout",
     "output_type": "stream",
     "text": [
      "1 x 128 x 108\n",
      "10 x 62 x 52\n",
      "10 x 31 x 26\n",
      "20 x 14 x 11\n",
      "20 x 7 x 5\n"
     ]
    },
    {
     "data": {
      "text/plain": [
       "700"
      ]
     },
     "execution_count": 11,
     "metadata": {},
     "output_type": "execute_result"
    }
   ],
   "source": [
    "cnn_layers = (\n",
    "    (5,2,10),\n",
    "    (2,2,0),\n",
    "    (5,2,20),\n",
    "    (2,2,0)\n",
    ")\n",
    "\n",
    "ptmod.cnn_pixels_out((1,128,108), cnn_layers, drop_last=True)"
   ]
  },
  {
   "cell_type": "markdown",
   "metadata": {},
   "source": [
    "With a stride of 2 on each convolutional layer, this gets it down to 700. Worth a shot."
   ]
  },
  {
   "cell_type": "code",
   "execution_count": 12,
   "metadata": {},
   "outputs": [
    {
     "name": "stdout",
     "output_type": "stream",
     "text": [
      "CNN_cpcpff (\n",
      "  (conv1): Conv2d(1, 10, kernel_size=(5, 5), stride=(2, 2))\n",
      "  (pool1): MaxPool2d (size=(2, 2), stride=(2, 2), dilation=(1, 1))\n",
      "  (conv2): Conv2d(10, 20, kernel_size=(5, 5), stride=(2, 2))\n",
      "  (pool2): MaxPool2d (size=(2, 2), stride=(2, 2), dilation=(1, 1))\n",
      "  (fc1): Linear (700 -> 100)\n",
      "  (fc2): Linear (100 -> 2)\n",
      ")\n"
     ]
    }
   ],
   "source": [
    "params_1 = {\n",
    "    'c1': [5,2,10],\n",
    "    'p1': [2,2],\n",
    "    'c2': [5,2,20],\n",
    "    'p2': [2,2],\n",
    "    'f1': [700,100],\n",
    "    'f2': [100,2]\n",
    "}\n",
    "\n",
    "cnn_700 = ptmod.CNN_cpcpff(params_1)\n",
    "print(cnn_700)"
   ]
  },
  {
   "cell_type": "markdown",
   "metadata": {},
   "source": [
    "## Testing First Model"
   ]
  },
  {
   "cell_type": "code",
   "execution_count": 4,
   "metadata": {},
   "outputs": [
    {
     "name": "stdout",
     "output_type": "stream",
     "text": [
      "Epoch 1\n",
      " * Avg loss: 0.692\tTime: 7274.246 ms\n",
      "Epoch 2\n",
      " * Avg loss: 0.686\tTime: 6947.226 ms\n",
      "Epoch 3\n",
      " * Avg loss: 0.673\tTime: 7599.780 ms\n",
      "Epoch 4\n",
      " * Avg loss: 0.660\tTime: 7585.520 ms\n",
      "Epoch 5\n",
      " * Avg loss: 0.639\tTime: 7549.266 ms\n",
      "Epoch 6\n",
      " * Avg loss: 0.631\tTime: 7987.980 ms\n",
      "Epoch 7\n",
      " * Avg loss: 0.613\tTime: 7926.175 ms\n",
      "Epoch 8\n",
      " * Avg loss: 0.594\tTime: 7938.627 ms\n",
      "Epoch 9\n",
      " * Avg loss: 0.564\tTime: 8015.641 ms\n",
      "Epoch 10\n",
      " * Avg loss: 0.522\tTime: 8203.070 ms\n",
      "Epoch 11\n",
      " * Avg loss: 0.497\tTime: 8089.379 ms\n",
      "Epoch 12\n",
      " * Avg loss: 0.474\tTime: 8550.252 ms\n",
      "Epoch 13\n",
      " * Avg loss: 0.457\tTime: 7960.489 ms\n",
      "Epoch 14\n",
      " * Avg loss: 0.450\tTime: 8022.415 ms\n",
      "Epoch 15\n",
      " * Avg loss: 0.426\tTime: 8199.469 ms\n",
      "Epoch 16\n",
      " * Avg loss: 0.418\tTime: 8791.102 ms\n",
      "Epoch 17\n",
      " * Avg loss: 0.417\tTime: 7966.831 ms\n",
      "Epoch 18\n",
      " * Avg loss: 0.395\tTime: 8240.990 ms\n",
      "Epoch 19\n",
      " * Avg loss: 0.362\tTime: 7881.802 ms\n",
      "Epoch 20\n",
      " * Avg loss: 0.363\tTime: 7975.317 ms\n",
      "\n",
      "Training Complete!\n"
     ]
    },
    {
     "data": {
      "text/plain": [
       "CNN_cpcpff (\n",
       "  (conv1): Conv2d(1, 10, kernel_size=(5, 5), stride=(2, 2))\n",
       "  (pool1): MaxPool2d (size=(2, 2), stride=(2, 2), dilation=(1, 1))\n",
       "  (conv2): Conv2d(10, 20, kernel_size=(5, 5), stride=(2, 2))\n",
       "  (pool2): MaxPool2d (size=(2, 2), stride=(2, 2), dilation=(1, 1))\n",
       "  (fc1): Linear (700 -> 100)\n",
       "  (fc2): Linear (100 -> 2)\n",
       ")"
      ]
     },
     "execution_count": 4,
     "metadata": {},
     "output_type": "execute_result"
    }
   ],
   "source": [
    "ptmod.fit(\n",
    "    cnn_700,\n",
    "    train_4, \n",
    "    optim.SGD(cnn_700.parameters(), lr=0.01), \n",
    "    nn.CrossEntropyLoss(), \n",
    "    20\n",
    ")"
   ]
  },
  {
   "cell_type": "code",
   "execution_count": 6,
   "metadata": {},
   "outputs": [],
   "source": [
    "cnn_700.save_myself('cnn700_171203_1109')"
   ]
  },
  {
   "cell_type": "code",
   "execution_count": 5,
   "metadata": {},
   "outputs": [],
   "source": [
    "train_4_pred = ptmod.predict(cnn_700, train_4)\n",
    "test_4_pred = ptmod.predict(cnn_700, test_4)"
   ]
  },
  {
   "cell_type": "code",
   "execution_count": 13,
   "metadata": {},
   "outputs": [
    {
     "name": "stdout",
     "output_type": "stream",
     "text": [
      "MODEL SCORES\n",
      "Score\tTrain\tTest\n",
      "------------------------\n",
      "Acc\t0.807\t0.780\n",
      "Rec\t0.636\t0.611\n",
      "Spec\t0.978\t0.948\n"
     ]
    }
   ],
   "source": [
    "cnn_700_scores = ptmod.get_scores(train_4_pred, test_4_pred)"
   ]
  },
  {
   "cell_type": "markdown",
   "metadata": {},
   "source": [
    "Much better than the first attempt! Doesn't look like it's overfitting. What happens with more epochs?"
   ]
  },
  {
   "cell_type": "markdown",
   "metadata": {},
   "source": [
    "### Bumping Up Number of Epochs"
   ]
  },
  {
   "cell_type": "code",
   "execution_count": 5,
   "metadata": {
    "scrolled": true
   },
   "outputs": [
    {
     "name": "stdout",
     "output_type": "stream",
     "text": [
      "CNN_cpcpff (\n",
      "  (conv1): Conv2d(1, 10, kernel_size=(5, 5), stride=(2, 2))\n",
      "  (pool1): MaxPool2d (size=(2, 2), stride=(2, 2), dilation=(1, 1))\n",
      "  (conv2): Conv2d(10, 20, kernel_size=(5, 5), stride=(2, 2))\n",
      "  (pool2): MaxPool2d (size=(2, 2), stride=(2, 2), dilation=(1, 1))\n",
      "  (fc1): Linear (700 -> 100)\n",
      "  (fc2): Linear (100 -> 2)\n",
      ")\n"
     ]
    }
   ],
   "source": [
    "# instantiate a new model object\n",
    "cnn_700_2 = ptmod.CNN_cpcpff(params_1)\n",
    "print(cnn_700_2)"
   ]
  },
  {
   "cell_type": "code",
   "execution_count": 6,
   "metadata": {},
   "outputs": [
    {
     "name": "stdout",
     "output_type": "stream",
     "text": [
      "Epoch 1\n",
      " * Avg loss: 0.692\tTime: 7558.088 ms\n",
      "Epoch 2\n",
      " * Avg loss: 0.683\tTime: 6802.814 ms\n",
      "Epoch 3\n",
      " * Avg loss: 0.664\tTime: 7288.173 ms\n",
      "Epoch 4\n",
      " * Avg loss: 0.644\tTime: 8410.750 ms\n",
      "Epoch 5\n",
      " * Avg loss: 0.631\tTime: 8523.485 ms\n",
      "Epoch 6\n",
      " * Avg loss: 0.606\tTime: 9145.294 ms\n",
      "Epoch 7\n",
      " * Avg loss: 0.587\tTime: 7804.300 ms\n",
      "Epoch 8\n",
      " * Avg loss: 0.549\tTime: 7759.554 ms\n",
      "Epoch 9\n",
      " * Avg loss: 0.540\tTime: 7861.447 ms\n",
      "Epoch 10\n",
      " * Avg loss: 0.517\tTime: 7759.850 ms\n",
      "Epoch 11\n",
      " * Avg loss: 0.498\tTime: 7757.904 ms\n",
      "Epoch 12\n",
      " * Avg loss: 0.504\tTime: 7849.624 ms\n",
      "Epoch 13\n",
      " * Avg loss: 0.479\tTime: 7734.679 ms\n",
      "Epoch 14\n",
      " * Avg loss: 0.459\tTime: 7812.079 ms\n",
      "Epoch 15\n",
      " * Avg loss: 0.455\tTime: 7728.856 ms\n",
      "Epoch 16\n",
      " * Avg loss: 0.443\tTime: 7777.609 ms\n",
      "Epoch 17\n",
      " * Avg loss: 0.428\tTime: 9333.158 ms\n",
      "Epoch 18\n",
      " * Avg loss: 0.423\tTime: 8371.256 ms\n",
      "Epoch 19\n",
      " * Avg loss: 0.385\tTime: 7733.986 ms\n",
      "Epoch 20\n",
      " * Avg loss: 0.399\tTime: 7677.977 ms\n",
      "Epoch 21\n",
      " * Avg loss: 0.364\tTime: 7748.486 ms\n",
      "Epoch 22\n",
      " * Avg loss: 0.360\tTime: 7806.963 ms\n",
      "Epoch 23\n",
      " * Avg loss: 0.337\tTime: 7756.153 ms\n",
      "Epoch 24\n",
      " * Avg loss: 0.326\tTime: 7698.983 ms\n",
      "Epoch 25\n",
      " * Avg loss: 0.309\tTime: 7713.676 ms\n",
      "Epoch 26\n",
      " * Avg loss: 0.289\tTime: 7606.813 ms\n",
      "Epoch 27\n",
      " * Avg loss: 0.259\tTime: 7472.293 ms\n",
      "Epoch 28\n",
      " * Avg loss: 0.252\tTime: 7548.122 ms\n",
      "Epoch 29\n",
      " * Avg loss: 0.230\tTime: 7401.020 ms\n",
      "Epoch 30\n",
      " * Avg loss: 0.216\tTime: 7588.477 ms\n",
      "Epoch 31\n",
      " * Avg loss: 0.203\tTime: 7682.098 ms\n",
      "Epoch 32\n",
      " * Avg loss: 0.193\tTime: 7486.652 ms\n",
      "Epoch 33\n",
      " * Avg loss: 0.157\tTime: 7420.330 ms\n",
      "Epoch 34\n",
      " * Avg loss: 0.151\tTime: 7489.356 ms\n",
      "Epoch 35\n",
      " * Avg loss: 0.124\tTime: 7667.816 ms\n",
      "Epoch 36\n",
      " * Avg loss: 0.117\tTime: 7360.461 ms\n",
      "Epoch 37\n",
      " * Avg loss: 0.106\tTime: 7394.310 ms\n",
      "Epoch 38\n",
      " * Avg loss: 0.082\tTime: 7698.636 ms\n",
      "Epoch 39\n",
      " * Avg loss: 0.073\tTime: 7632.411 ms\n",
      "Epoch 40\n",
      " * Avg loss: 0.060\tTime: 8889.133 ms\n",
      "Epoch 41\n",
      " * Avg loss: 0.049\tTime: 7489.264 ms\n",
      "Epoch 42\n",
      " * Avg loss: 0.039\tTime: 7322.033 ms\n",
      "Epoch 43\n",
      " * Avg loss: 0.033\tTime: 8100.363 ms\n",
      "Epoch 44\n",
      " * Avg loss: 0.036\tTime: 7439.129 ms\n",
      "Epoch 45\n",
      " * Avg loss: 0.024\tTime: 7407.580 ms\n",
      "Epoch 46\n",
      " * Avg loss: 0.020\tTime: 7869.050 ms\n",
      "Epoch 47\n",
      " * Avg loss: 0.017\tTime: 7484.027 ms\n",
      "Epoch 48\n",
      " * Avg loss: 0.012\tTime: 7575.746 ms\n",
      "Epoch 49\n",
      " * Avg loss: 0.011\tTime: 9135.487 ms\n",
      "Epoch 50\n",
      " * Avg loss: 0.010\tTime: 8008.575 ms\n",
      "\n",
      "Training Complete!\n"
     ]
    }
   ],
   "source": [
    "cnn_700_2, cnn_700_2_loss = ptmod.fit(\n",
    "    cnn_700_2,\n",
    "    train_4, \n",
    "    optim.SGD(cnn_700_2.parameters(), lr=0.01), \n",
    "    nn.CrossEntropyLoss(), \n",
    "    50\n",
    ")"
   ]
  },
  {
   "cell_type": "code",
   "execution_count": 18,
   "metadata": {},
   "outputs": [
    {
     "data": {
      "image/png": "[encoded data removed]",
      "text/plain": [
       "<matplotlib.figure.Figure at 0x119919828>"
      ]
     },
     "metadata": {},
     "output_type": "display_data"
    }
   ],
   "source": [
    "x, y = list(range(1,51)), cnn_700_2_loss\n",
    "\n",
    "fig = plt.figure(figsize=(12,8))\n",
    "plt.plot(x,y)\n",
    "plt.grid(b=True)\n",
    "plt.xlabel(\"Epoch\")\n",
    "plt.ylabel(\"Cross-Entropy Loss\")\n",
    "plt.title(\"CNN_700: Loss Per Epoch\");"
   ]
  },
  {
   "cell_type": "code",
   "execution_count": 12,
   "metadata": {},
   "outputs": [],
   "source": [
    "train_4_pred2 = ptmod.predict(cnn_700_2, train_4)\n",
    "test_4_pred2 = ptmod.predict(cnn_700_2, test_4)"
   ]
  },
  {
   "cell_type": "code",
   "execution_count": 13,
   "metadata": {},
   "outputs": [
    {
     "name": "stdout",
     "output_type": "stream",
     "text": [
      "MODEL SCORES\n",
      "Score\tTrain\tTest\n",
      "------------------------\n",
      "Acc\t1.000\t0.775\n",
      "Rec\t1.000\t0.768\n",
      "Spec\t1.000\t0.781\n"
     ]
    }
   ],
   "source": [
    "cnn_700_scores = ptmod.get_scores(train_4_pred2, test_4_pred2)"
   ]
  },
  {
   "cell_type": "markdown",
   "metadata": {},
   "source": [
    "Clearly overfitting -- seriously learned the training set. I'll have to back off on model complexity and/or epochs. Need to do some CV/Grid Search."
   ]
  },
  {
   "cell_type": "code",
   "execution_count": 26,
   "metadata": {},
   "outputs": [],
   "source": [
    "# cnn_700_50_loss_and_predicts = {\n",
    "#     'loss': cnn_700_2_loss,\n",
    "#     'train_df': train_4_pred2,\n",
    "#     'test_df': test_4_pred2\n",
    "# }"
   ]
  },
  {
   "cell_type": "code",
   "execution_count": 27,
   "metadata": {},
   "outputs": [],
   "source": [
    "# save for later\n",
    "# with open('../data/cnn_700_50_loss_and_predicts.p', 'wb') as pf:\n",
    "#     pickle.dump(cnn_700_50_loss_and_predicts, pf)"
   ]
  }
 ],
 "metadata": {
  "kernelspec": {
   "display_name": "Python [conda env:pytorch]",
   "language": "python",
   "name": "conda-env-pytorch-py"
  },
  "language_info": {
   "codemirror_mode": {
    "name": "ipython",
    "version": 3
   },
   "file_extension": ".py",
   "mimetype": "text/x-python",
   "name": "python",
   "nbconvert_exporter": "python",
   "pygments_lexer": "ipython3",
   "version": "3.6.2"
  }
 },
 "nbformat": 4,
 "nbformat_minor": 2
}
