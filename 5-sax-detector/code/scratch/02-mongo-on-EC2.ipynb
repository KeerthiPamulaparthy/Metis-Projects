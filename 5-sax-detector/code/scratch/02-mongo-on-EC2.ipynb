{
 "cells": [
  {
   "cell_type": "markdown",
   "metadata": {},
   "source": [
    "# Connecting to Mongo on EC2"
   ]
  },
  {
   "cell_type": "code",
   "execution_count": 1,
   "metadata": {
    "scrolled": true
   },
   "outputs": [],
   "source": [
    "import komod\n",
    "from pymongo import MongoClient\n",
    "from bson.objectid import ObjectId\n",
    "import numpy as np\n",
    "import os\n",
    "from datetime import datetime, timedelta\n",
    "from pprint import pprint\n",
    "import matplotlib.pyplot as plt\n",
    "%matplotlib inline"
   ]
  },
  {
   "cell_type": "code",
   "execution_count": 2,
   "metadata": {},
   "outputs": [],
   "source": [
    "client = MongoClient(\n",
    "    \"mongodb://{}:{}@18.216.205.251/kojak\".format(\n",
    "        str(os.environ['mdbUN']),\n",
    "        str(os.environ['mdbPW'])\n",
    "    )\n",
    ")\n",
    "\n",
    "kdb = client.kojak\n",
    "test = client.kojak.testData\n",
    "songs = client.kojak.test_songs"
   ]
  },
  {
   "cell_type": "markdown",
   "metadata": {},
   "source": [
    "## Mongo Review"
   ]
  },
  {
   "cell_type": "code",
   "execution_count": null,
   "metadata": {},
   "outputs": [],
   "source": [
    "result = test.insert_one({\"name\": \"Laurel\", \"age\": 34, \"coffee\": False})"
   ]
  },
  {
   "cell_type": "code",
   "execution_count": 16,
   "metadata": {},
   "outputs": [
    {
     "data": {
      "text/plain": [
       "ObjectId('5a13475d8d3ce003b0ef7c9d')"
      ]
     },
     "execution_count": 16,
     "metadata": {},
     "output_type": "execute_result"
    }
   ],
   "source": [
    "result.inserted_id"
   ]
  },
  {
   "cell_type": "code",
   "execution_count": 36,
   "metadata": {},
   "outputs": [
    {
     "name": "stdout",
     "output_type": "stream",
     "text": [
      "{'_id': ObjectId('5a1336ed3274e85302353021'), 'name': 'David', 'coffee': True, 'age': 38.0}\n",
      "{'_id': ObjectId('5a13472b8d3ce003b0ef7c9b'), 'name': 'Jim', 'age': 34}\n",
      "{'_id': ObjectId('5a1347418d3ce003b0ef7c9c'), 'name': 'Joe', 'coffee': True, 'age': 29}\n",
      "{'_id': ObjectId('5a13475d8d3ce003b0ef7c9d'), 'name': 'Laurel', 'coffee': False, 'age': 34}\n"
     ]
    }
   ],
   "source": [
    "for doc in test.find():\n",
    "    print(doc)"
   ]
  },
  {
   "cell_type": "code",
   "execution_count": 33,
   "metadata": {},
   "outputs": [],
   "source": [
    "result = test.update_many({'male': True},\n",
    "                     {\"$unset\": {\"male\": \"\"}}\n",
    "                    )"
   ]
  },
  {
   "cell_type": "code",
   "execution_count": 34,
   "metadata": {},
   "outputs": [
    {
     "data": {
      "text/plain": [
       "0"
      ]
     },
     "execution_count": 34,
     "metadata": {},
     "output_type": "execute_result"
    }
   ],
   "source": [
    "result.modified_count"
   ]
  },
  {
   "cell_type": "code",
   "execution_count": 37,
   "metadata": {},
   "outputs": [],
   "source": [
    "result = kdb.test2.insert_one({'chunk_id': '000001', 'title': '12 Comatose Joe'})"
   ]
  },
  {
   "cell_type": "code",
   "execution_count": 45,
   "metadata": {},
   "outputs": [
    {
     "name": "stdout",
     "output_type": "stream",
     "text": [
      ".DS_Store\n"
     ]
    }
   ],
   "source": [
    "for item in os.listdir('../audio/dump'):\n",
    "    print(item)"
   ]
  },
  {
   "cell_type": "code",
   "execution_count": 52,
   "metadata": {},
   "outputs": [
    {
     "data": {
      "text/plain": [
       "{'_id': ObjectId('5a1489ae8d3ce00a04e3ab0e'),\n",
       " 'chunk_id': '009900',\n",
       " 'song_name': 'Maundering'}"
      ]
     },
     "execution_count": 52,
     "metadata": {},
     "output_type": "execute_result"
    }
   ],
   "source": [
    "kdb.test_songs.find_one({\"chunk_id\": '009900'})"
   ]
  },
  {
   "cell_type": "markdown",
   "metadata": {},
   "source": [
    "## DB Check-In"
   ]
  },
  {
   "cell_type": "markdown",
   "metadata": {},
   "source": [
    "Development of a short script that I can execute from the command line to check in on how many samples have been labeled and with which elements."
   ]
  },
  {
   "cell_type": "code",
   "execution_count": 6,
   "metadata": {},
   "outputs": [
    {
     "data": {
      "text/plain": [
       "{'_id': ObjectId('5a1476ff8d3ce0099ff2f34f'),\n",
       " 'chunk_id': '000005',\n",
       " 'labeled': True,\n",
       " 'piano': 0,\n",
       " 'sax': 0,\n",
       " 'skipped': False,\n",
       " 'song_name': 'a Lickin',\n",
       " 'vocals': 0}"
      ]
     },
     "execution_count": 6,
     "metadata": {},
     "output_type": "execute_result"
    }
   ],
   "source": [
    "songs.find_one({\"labeled\": True})"
   ]
  },
  {
   "cell_type": "code",
   "execution_count": 14,
   "metadata": {},
   "outputs": [
    {
     "data": {
      "text/plain": [
       "21487"
      ]
     },
     "execution_count": 14,
     "metadata": {},
     "output_type": "execute_result"
    }
   ],
   "source": [
    "songs.count()"
   ]
  },
  {
   "cell_type": "code",
   "execution_count": 15,
   "metadata": {},
   "outputs": [
    {
     "data": {
      "text/plain": [
       "467"
      ]
     },
     "execution_count": 15,
     "metadata": {},
     "output_type": "execute_result"
    }
   ],
   "source": [
    "songs.find({\"labeled\": True}).count()"
   ]
  },
  {
   "cell_type": "code",
   "execution_count": 7,
   "metadata": {},
   "outputs": [
    {
     "data": {
      "text/plain": [
       "17"
      ]
     },
     "execution_count": 7,
     "metadata": {},
     "output_type": "execute_result"
    }
   ],
   "source": [
    "songs.find({\"skipped\": True}).count()"
   ]
  },
  {
   "cell_type": "code",
   "execution_count": 9,
   "metadata": {},
   "outputs": [
    {
     "data": {
      "text/plain": [
       "129"
      ]
     },
     "execution_count": 9,
     "metadata": {},
     "output_type": "execute_result"
    }
   ],
   "source": [
    "songs.find({\"sax\": 2}).count()"
   ]
  },
  {
   "cell_type": "code",
   "execution_count": 11,
   "metadata": {},
   "outputs": [
    {
     "data": {
      "text/plain": [
       "40"
      ]
     },
     "execution_count": 11,
     "metadata": {},
     "output_type": "execute_result"
    }
   ],
   "source": [
    "songs.find({\"piano\": 2}).count()"
   ]
  },
  {
   "cell_type": "code",
   "execution_count": 12,
   "metadata": {},
   "outputs": [
    {
     "data": {
      "text/plain": [
       "177"
      ]
     },
     "execution_count": 12,
     "metadata": {},
     "output_type": "execute_result"
    }
   ],
   "source": [
    "songs.find({\"vocals\": 2}).count()"
   ]
  },
  {
   "cell_type": "code",
   "execution_count": 65,
   "metadata": {},
   "outputs": [],
   "source": [
    "## working copy, since modularized\n",
    "# def db_status():\n",
    "#     \"\"\"\n",
    "#     Prints labeling status of samples in DB.\n",
    "#     \"\"\"\n",
    "    \n",
    "#     db = kdb.test_songs\n",
    "    \n",
    "#     # creating dict of db figures\n",
    "#     figs = {}\n",
    "    \n",
    "#     figs['total'] = [db.count()]\n",
    "#     figs['labeled'] = [db.find({\"labeled\": True}).count()]\n",
    "#     figs['vox_fg'] = [db.find({\"vocals\": 2}).count()]\n",
    "#     figs['vox_bg'] = [db.find({\"vocals\": 1}).count()]\n",
    "#     figs['sax_fg'] = [db.find({\"sax\": 2}).count()]\n",
    "#     figs['sax_bg'] = [db.find({\"sax\": 1}).count()]\n",
    "#     figs['piano_fg'] = [db.find({\"piano\": 2}).count()]\n",
    "#     figs['piano_bg'] = [db.find({\"piano\": 1}).count()]\n",
    "\n",
    "    \n",
    "#     for k, v in figs.items():\n",
    "#         figs[k].append(round(100 * v[0]/figs['labeled'][0], 2))\n",
    "\n",
    "#     print(\"\\nSAMPLE DATABASE STATUS\")\n",
    "#     print(\"{} samples total\".format(figs['total'][0]))\n",
    "#     print(\"-\" * 40)\n",
    "#     print(\"Labeled samples:\\t{}\\t{}%\"\n",
    "#           .format(figs['labeled'][0], figs['labeled'][1]))\n",
    "#     print(\"Vocals, foreground:\\t{}\\t{}%\".format(figs['vox_fg'][0], figs['vox_fg'][1]))\n",
    "#     print(\"Vocals, background:\\t{}\\t{}%\".format(figs['vox_bg'][0], figs['vox_bg'][1]))\n",
    "#     print(\"Saxophone, foreground:\\t{}\\t{}%\".format(figs['sax_fg'][0], figs['sax_fg'][1]))\n",
    "#     print(\"Saxophone, background:\\t{}\\t{}%\".format(figs['sax_bg'][0], figs['sax_bg'][1]))\n",
    "#     print(\"Piano, foreground:\\t{}\\t{}%\".format(figs['piano_fg'][0], figs['piano_fg'][1]))\n",
    "#     print(\"Piano, background:\\t{}\\t{}%\".format(figs['piano_bg'][0], figs['piano_bg'][1]))\n",
    "    "
   ]
  },
  {
   "cell_type": "code",
   "execution_count": 66,
   "metadata": {},
   "outputs": [
    {
     "name": "stdout",
     "output_type": "stream",
     "text": [
      "\n",
      "SAMPLE DATABASE STATUS\n",
      "21487 samples total\n",
      "----------------------------------------\n",
      "Labeled samples:\t571\t100.0%\n",
      "Vocals, foreground:\t222\t38.88%\n",
      "Vocals, background:\t17\t2.98%\n",
      "Saxophone, foreground:\t157\t27.5%\n",
      "Saxophone, background:\t54\t9.46%\n",
      "Piano, foreground:\t56\t9.81%\n",
      "Piano, background:\t157\t27.5%\n"
     ]
    }
   ],
   "source": [
    "db_status()"
   ]
  },
  {
   "cell_type": "code",
   "execution_count": 3,
   "metadata": {},
   "outputs": [
    {
     "name": "stdout",
     "output_type": "stream",
     "text": [
      "\n",
      "SAMPLE DATABASE STATUS\n",
      "21487 samples total\n",
      "----------------------------------------\n",
      "Labeled samples\t\t1054\t100.0%\n",
      "Skipped samples\t\t50\t  4.7%\n",
      "Vocals, foreground\t406\t 38.5%\n",
      "Vocals, background\t25\t  2.4%\n",
      "Saxophone, foreground\t288\t 27.3%\n",
      "Saxophone, background\t91\t  8.6%\n",
      "Piano, foreground\t98\t  9.3%\n",
      "Piano, background\t289\t 27.4%\n",
      "---------------------------------------- \n",
      "\n"
     ]
    }
   ],
   "source": [
    "current_status = komod.db_status()"
   ]
  },
  {
   "cell_type": "code",
   "execution_count": 4,
   "metadata": {},
   "outputs": [
    {
     "data": {
      "text/plain": [
       "{'labeled': [1054, 100.0],\n",
       " 'piano_bg': [289, 27.4],\n",
       " 'piano_fg': [98, 9.3],\n",
       " 'sax_bg': [91, 8.6],\n",
       " 'sax_fg': [288, 27.3],\n",
       " 'skipped': [50, 4.7],\n",
       " 'timestamp': datetime.datetime(2017, 11, 28, 16, 24, 2, 653522),\n",
       " 'total': [21487, 2038.6],\n",
       " 'vox_bg': [25, 2.4],\n",
       " 'vox_fg': [406, 38.5]}"
      ]
     },
     "execution_count": 4,
     "metadata": {},
     "output_type": "execute_result"
    }
   ],
   "source": [
    "current_status"
   ]
  },
  {
   "cell_type": "code",
   "execution_count": 5,
   "metadata": {},
   "outputs": [
    {
     "data": {
      "text/plain": [
       "<pymongo.results.InsertOneResult at 0x11346d990>"
      ]
     },
     "execution_count": 5,
     "metadata": {},
     "output_type": "execute_result"
    }
   ],
   "source": [
    "kdb.status.insert_one(current_status)"
   ]
  },
  {
   "cell_type": "code",
   "execution_count": 12,
   "metadata": {},
   "outputs": [
    {
     "data": {
      "text/plain": [
       "{'_id': ObjectId('5a1de2118d3ce01ddb0bf6d3'),\n",
       " 'labeled': [1054, 100.0],\n",
       " 'last': False,\n",
       " 'piano_bg': [289, 27.4],\n",
       " 'piano_fg': [98, 9.3],\n",
       " 'sax_bg': [91, 8.6],\n",
       " 'sax_fg': [288, 27.3],\n",
       " 'skipped': [50, 4.7],\n",
       " 'timestamp': datetime.datetime(2017, 11, 28, 16, 24, 2, 653000),\n",
       " 'total': [21487, 2038.6],\n",
       " 'vox_bg': [25, 2.4],\n",
       " 'vox_fg': [406, 38.5]}"
      ]
     },
     "execution_count": 12,
     "metadata": {},
     "output_type": "execute_result"
    }
   ],
   "source": [
    "kdb.status.find_one({\"timestamp\": {\"$exists\": True}})"
   ]
  },
  {
   "cell_type": "code",
   "execution_count": 11,
   "metadata": {},
   "outputs": [
    {
     "data": {
      "text/plain": [
       "datetime.datetime(2017, 11, 28, 16, 18, 0, 412736)"
      ]
     },
     "execution_count": 11,
     "metadata": {},
     "output_type": "execute_result"
    }
   ],
   "source": [
    "datetime.now()"
   ]
  },
  {
   "cell_type": "code",
   "execution_count": 21,
   "metadata": {},
   "outputs": [],
   "source": [
    "res = kdb.status.update_one({\"last\": False},\n",
    "                      {\"$set\": {\"last\": True}}\n",
    "                     )"
   ]
  },
  {
   "cell_type": "code",
   "execution_count": 88,
   "metadata": {},
   "outputs": [
    {
     "data": {
      "text/plain": [
       "44"
      ]
     },
     "execution_count": 88,
     "metadata": {},
     "output_type": "execute_result"
    }
   ],
   "source": [
    "kdb.status.count()"
   ]
  },
  {
   "cell_type": "code",
   "execution_count": 56,
   "metadata": {
    "collapsed": true
   },
   "outputs": [
    {
     "name": "stdout",
     "output_type": "stream",
     "text": [
      "5a1de2118d3ce01ddb0bf6d3: 1\n",
      "5a1de2118d3ce01ddb0bf6d3: 1\n",
      "5a1de2118d3ce01ddb0bf6d3: 1\n",
      "5a1de2118d3ce01ddb0bf6d3: 1\n",
      "5a1de2118d3ce01ddb0bf6d3: 1\n",
      "5a1de2118d3ce01ddb0bf6d3: 1\n",
      "5a1de2118d3ce01ddb0bf6d3: 1\n",
      "5a1de2118d3ce01ddb0bf6d3: 1\n",
      "5a1de2118d3ce01ddb0bf6d3: 1\n",
      "5a1de9eb8d3ce01e2063e261: 1\n",
      "5a1de9eb8d3ce01e2063e261: 1\n",
      "5a1de9eb8d3ce01e2063e261: 1\n",
      "5a1de9eb8d3ce01e2063e261: 1\n",
      "5a1de9eb8d3ce01e2063e261: 1\n",
      "5a1de9eb8d3ce01e2063e261: 1\n",
      "5a1de9eb8d3ce01e2063e261: 1\n",
      "5a1de9eb8d3ce01e2063e261: 1\n",
      "5a1de9eb8d3ce01e2063e261: 1\n",
      "5a1deb3b8d3ce01e2c30904c: 1\n",
      "5a1deb3b8d3ce01e2c30904c: 1\n",
      "5a1deb3b8d3ce01e2c30904c: 1\n",
      "5a1deb3b8d3ce01e2c30904c: 1\n",
      "5a1deb3b8d3ce01e2c30904c: 1\n",
      "5a1deb3b8d3ce01e2c30904c: 1\n",
      "5a1deb3b8d3ce01e2c30904c: 1\n",
      "5a1deb3b8d3ce01e2c30904c: 1\n",
      "5a1deb3b8d3ce01e2c30904c: 1\n",
      "5a1deb888d3ce01e30726130: 1\n",
      "5a1deb888d3ce01e30726130: 1\n",
      "5a1deb888d3ce01e30726130: 1\n",
      "5a1deb888d3ce01e30726130: 1\n",
      "5a1deb888d3ce01e30726130: 1\n",
      "5a1deb888d3ce01e30726130: 1\n",
      "5a1deb888d3ce01e30726130: 1\n",
      "5a1deb888d3ce01e30726130: 1\n",
      "5a1deb888d3ce01e30726130: 1\n",
      "5a1ded5b8d3ce01e4c954bd4: 1\n",
      "5a1ded5b8d3ce01e4c954bd4: 1\n",
      "5a1ded5b8d3ce01e4c954bd4: 1\n",
      "5a1ded5b8d3ce01e4c954bd4: 1\n",
      "5a1ded5b8d3ce01e4c954bd4: 1\n",
      "5a1ded5b8d3ce01e4c954bd4: 1\n",
      "5a1ded5b8d3ce01e4c954bd4: 1\n",
      "5a1ded5b8d3ce01e4c954bd4: 1\n",
      "5a1ded5b8d3ce01e4c954bd4: 1\n",
      "5a1defc68d3ce01e5a3da065: 1\n",
      "5a1defc68d3ce01e5a3da065: 1\n",
      "5a1defc68d3ce01e5a3da065: 1\n",
      "5a1defc68d3ce01e5a3da065: 1\n",
      "5a1defc68d3ce01e5a3da065: 1\n",
      "5a1defc68d3ce01e5a3da065: 1\n",
      "5a1defc68d3ce01e5a3da065: 1\n",
      "5a1defc68d3ce01e5a3da065: 1\n",
      "5a1defc68d3ce01e5a3da065: 1\n",
      "5a1e02c28d3ce01e79a8c1ae: 1\n",
      "5a1e02c28d3ce01e79a8c1ae: 1\n",
      "5a1e02c28d3ce01e79a8c1ae: 1\n",
      "5a1e02c28d3ce01e79a8c1ae: 1\n",
      "5a1e02c28d3ce01e79a8c1ae: 1\n",
      "5a1e02c28d3ce01e79a8c1ae: 1\n",
      "5a1e02c28d3ce01e79a8c1ae: 1\n",
      "5a1e02c28d3ce01e79a8c1ae: 1\n",
      "5a1e02c28d3ce01e79a8c1ae: 1\n",
      "5a1e17de8d3ce01e8a4f5783: 1\n",
      "5a1e17de8d3ce01e8a4f5783: 1\n",
      "5a1e17de8d3ce01e8a4f5783: 1\n",
      "5a1e17de8d3ce01e8a4f5783: 1\n",
      "5a1e17de8d3ce01e8a4f5783: 1\n",
      "5a1e17de8d3ce01e8a4f5783: 1\n",
      "5a1e17de8d3ce01e8a4f5783: 1\n",
      "5a1e17de8d3ce01e8a4f5783: 1\n",
      "5a1e17de8d3ce01e8a4f5783: 1\n",
      "5a1e1a358d3ce01e9b52739d: 1\n",
      "5a1e1a358d3ce01e9b52739d: 1\n",
      "5a1e1a358d3ce01e9b52739d: 1\n",
      "5a1e1a358d3ce01e9b52739d: 1\n",
      "5a1e1a358d3ce01e9b52739d: 1\n",
      "5a1e1a358d3ce01e9b52739d: 1\n",
      "5a1e1a358d3ce01e9b52739d: 1\n",
      "5a1e1a358d3ce01e9b52739d: 1\n",
      "5a1e1a358d3ce01e9b52739d: 1\n",
      "5a1e20398d3ce01ebd652bab: 1\n",
      "5a1e20398d3ce01ebd652bab: 1\n",
      "5a1e20398d3ce01ebd652bab: 1\n",
      "5a1e20398d3ce01ebd652bab: 1\n",
      "5a1e20398d3ce01ebd652bab: 1\n",
      "5a1e20398d3ce01ebd652bab: 1\n",
      "5a1e20398d3ce01ebd652bab: 1\n",
      "5a1e20398d3ce01ebd652bab: 1\n",
      "5a1e20398d3ce01ebd652bab: 1\n",
      "5a1e20ad8d3ce01ec8604803: 1\n",
      "5a1e20ad8d3ce01ec8604803: 1\n",
      "5a1e20ad8d3ce01ec8604803: 1\n",
      "5a1e20ad8d3ce01ec8604803: 1\n",
      "5a1e20ad8d3ce01ec8604803: 1\n",
      "5a1e20ad8d3ce01ec8604803: 1\n",
      "5a1e20ad8d3ce01ec8604803: 1\n",
      "5a1e20ad8d3ce01ec8604803: 1\n",
      "5a1e20ad8d3ce01ec8604803: 1\n",
      "5a1e21ed8d3ce01edc931fad: 1\n",
      "5a1e21ed8d3ce01edc931fad: 1\n",
      "5a1e21ed8d3ce01edc931fad: 1\n",
      "5a1e21ed8d3ce01edc931fad: 1\n",
      "5a1e21ed8d3ce01edc931fad: 1\n",
      "5a1e21ed8d3ce01edc931fad: 1\n",
      "5a1e21ed8d3ce01edc931fad: 1\n",
      "5a1e21ed8d3ce01edc931fad: 1\n",
      "5a1e21ed8d3ce01edc931fad: 1\n",
      "5a1e2e4f8d3ce01efb84b652: 1\n",
      "5a1e2e4f8d3ce01efb84b652: 1\n",
      "5a1e2e4f8d3ce01efb84b652: 1\n",
      "5a1e2e4f8d3ce01efb84b652: 1\n",
      "5a1e2e4f8d3ce01efb84b652: 1\n",
      "5a1e2e4f8d3ce01efb84b652: 1\n",
      "5a1e2e4f8d3ce01efb84b652: 1\n",
      "5a1e2e4f8d3ce01efb84b652: 1\n",
      "5a1e2e4f8d3ce01efb84b652: 1\n"
     ]
    }
   ],
   "source": [
    "# for entry in kdb.status.find():\n",
    "#     for key in entry.keys():\n",
    "#         if type(entry[key]) == list:\n",
    "#             #entry[key] = entry[key][0]\n",
    "#             res = kdb.status.update_one({\"_id\": ObjectId(entry['_id'])},\n",
    "#                                         {\"$set\": {key: entry[key][0]}}\n",
    "#                                        )\n",
    "#             print(\"{}: {}\".format(entry['_id'], res.modified_count))"
   ]
  },
  {
   "cell_type": "code",
   "execution_count": 100,
   "metadata": {
    "scrolled": true
   },
   "outputs": [],
   "source": [
    "# search a date range (GMT)\n",
    "for entry in kdb.status.find({\"$and\": [ {\"timestamp\": {\"$lt\": datetime(2017, 11, 29, 6)}},\n",
    "                                        {\"timestamp\": {\"$gt\": datetime(2017, 11, 29, 0)}}\n",
    "                                      ]\n",
    "                             }):\n",
    "    pprint(entry)\n",
    "#     eid = entry['_id']\n",
    "#     newtime = entry['timestamp'] - timedelta(hours=6)\n",
    "#     res = kdb.status.update_one({\"_id\": ObjectId(eid)},\n",
    "#                                 {\"$set\": {\"timestamp\": newtime}}\n",
    "#                                )\n",
    "#     if res.modified_count == 1:\n",
    "#         print(\"Success!\\n\")"
   ]
  },
  {
   "cell_type": "code",
   "execution_count": 15,
   "metadata": {},
   "outputs": [
    {
     "data": {
      "text/plain": [
       "47"
      ]
     },
     "execution_count": 15,
     "metadata": {},
     "output_type": "execute_result"
    }
   ],
   "source": [
    "kdb.status.find({\"auto\": {\"$exists\": True}}).count()"
   ]
  },
  {
   "cell_type": "markdown",
   "metadata": {},
   "source": [
    "## Developing TTS Function"
   ]
  },
  {
   "cell_type": "code",
   "execution_count": 3,
   "metadata": {},
   "outputs": [
    {
     "data": {
      "text/plain": [
       "435"
      ]
     },
     "execution_count": 3,
     "metadata": {},
     "output_type": "execute_result"
    }
   ],
   "source": [
    "kdb.test_songs.find({\"sax\": 2}).count()"
   ]
  },
  {
   "cell_type": "code",
   "execution_count": 9,
   "metadata": {},
   "outputs": [],
   "source": [
    "booger = kdb.test_songs.aggregate([\n",
    "    {\"$match\": {\"sax\": 2}},\n",
    "    {\"$sample\": {\"size\": 435}}\n",
    "])"
   ]
  },
  {
   "cell_type": "code",
   "execution_count": 13,
   "metadata": {},
   "outputs": [],
   "source": [
    "pos_ids = np.array([])\n",
    "for boogie in booger:\n",
    "    pos_ids = np.append(pos_ids, boogie['chunk_id'])"
   ]
  },
  {
   "cell_type": "code",
   "execution_count": 3,
   "metadata": {},
   "outputs": [
    {
     "name": "stdout",
     "output_type": "stream",
     "text": [
      "Label 1, train: 42\n",
      "Label 1, test: 8\n",
      "Label 0, train: 39\n",
      "Label 0, test: 11\n"
     ]
    }
   ],
   "source": [
    "komod.tts(\"test_run\", n_per_label=50)"
   ]
  },
  {
   "cell_type": "code",
   "execution_count": 4,
   "metadata": {},
   "outputs": [
    {
     "data": {
      "text/plain": [
       "{'_id': ObjectId('5a147dea8d3ce009eb2d6a4f'),\n",
       " 'chunk_id': '000175',\n",
       " 'labeled': True,\n",
       " 'piano': 0,\n",
       " 'sax': 0,\n",
       " 'skipped': False,\n",
       " 'song_name': 'Afrodisia',\n",
       " 'test_run': [0, 'train'],\n",
       " 'vocals': 0}"
      ]
     },
     "execution_count": 4,
     "metadata": {},
     "output_type": "execute_result"
    }
   ],
   "source": [
    "kdb.test_songs.find_one({\"test_run\": {\"$exists\": True}})"
   ]
  },
  {
   "cell_type": "markdown",
   "metadata": {},
   "source": [
    "## What's Up With Mongo Shuffle?"
   ]
  },
  {
   "cell_type": "markdown",
   "metadata": {},
   "source": [
    "What kind of distribution does the random seem to pull?"
   ]
  },
  {
   "cell_type": "code",
   "execution_count": 47,
   "metadata": {},
   "outputs": [],
   "source": [
    "def simple_hist(arr):\n",
    "    plt.figure(figsize=(16,8))\n",
    "    plt.hist(arr, bins=20)"
   ]
  },
  {
   "cell_type": "code",
   "execution_count": 43,
   "metadata": {},
   "outputs": [],
   "source": [
    "chunks = kdb.test_songs.aggregate([\n",
    "#    {\"$match\": {\"labeled\": {\"$exists\": False}}},\n",
    "    {\"$sample\": {\"size\": 1000}}\n",
    "])\n",
    "\n",
    "sample_ids = np.array([])\n",
    "for chunk in chunks:\n",
    "    sample_ids = np.append(sample_ids, int(chunk['chunk_id']))"
   ]
  },
  {
   "cell_type": "code",
   "execution_count": 48,
   "metadata": {
    "scrolled": false
   },
   "outputs": [
    {
     "data": {
      "image/png": "[encoded data removed]",
      "text/plain": [
       "<matplotlib.figure.Figure at 0x11935ca58>"
      ]
     },
     "metadata": {},
     "output_type": "display_data"
    }
   ],
   "source": [
    "simple_hist(sample_ids)"
   ]
  },
  {
   "cell_type": "markdown",
   "metadata": {},
   "source": [
    "Looks reasonably uniform... what about the labeled samples?"
   ]
  },
  {
   "cell_type": "code",
   "execution_count": 32,
   "metadata": {},
   "outputs": [],
   "source": [
    "labeled_chunks = kdb.test_songs.find({\"labeled\": True})\n",
    "\n",
    "labeled_ids = np.array([])\n",
    "for chunk in labeled_chunks:\n",
    "    labeled_ids = np.append(labeled_ids, int(chunk['chunk_id']))"
   ]
  },
  {
   "cell_type": "code",
   "execution_count": 33,
   "metadata": {},
   "outputs": [
    {
     "data": {
      "image/png": "[encoded data removed]",
      "text/plain": [
       "<matplotlib.figure.Figure at 0x118a052b0>"
      ]
     },
     "metadata": {},
     "output_type": "display_data"
    }
   ],
   "source": [
    "simple_hist(labeled_ids)"
   ]
  },
  {
   "cell_type": "markdown",
   "metadata": {},
   "source": [
    "Reasonably uniform through the first batch, but it's not labeling anything from the second batch, even though they're in the DB..."
   ]
  },
  {
   "cell_type": "code",
   "execution_count": 34,
   "metadata": {},
   "outputs": [
    {
     "data": {
      "text/plain": [
       "21487"
      ]
     },
     "execution_count": 34,
     "metadata": {},
     "output_type": "execute_result"
    }
   ],
   "source": [
    "kdb.test_songs.count()"
   ]
  },
  {
   "cell_type": "code",
   "execution_count": 38,
   "metadata": {},
   "outputs": [
    {
     "data": {
      "text/plain": [
       "{'_id': ObjectId('5a1c5d5f8d3ce008f5eadd11'),\n",
       " 'chunk_id': '019000',\n",
       " 'labeled': False,\n",
       " 'song_name': 'Symphony No.9 _From the New World_ II Largo'}"
      ]
     },
     "execution_count": 38,
     "metadata": {},
     "output_type": "execute_result"
    }
   ],
   "source": [
    "kdb.test_songs.find_one({\"chunk_id\": '019000'})"
   ]
  },
  {
   "cell_type": "code",
   "execution_count": 39,
   "metadata": {},
   "outputs": [
    {
     "data": {
      "text/plain": [
       "{'_id': ObjectId('5a148f418d3ce00a04e3befa'),\n",
       " 'chunk_id': '015000',\n",
       " 'song_name': 'Blues Walk'}"
      ]
     },
     "execution_count": 39,
     "metadata": {},
     "output_type": "execute_result"
    }
   ],
   "source": [
    "kdb.test_songs.find_one({\"chunk_id\": '015000'})"
   ]
  },
  {
   "cell_type": "markdown",
   "metadata": {},
   "source": [
    "Songs from the first batch have no 'labeled' field, while those from the second have it set to False. The query looks for a sample where 'labeled' doesn't exist. I'll just delete it when it's False and change the chunk log function."
   ]
  },
  {
   "cell_type": "code",
   "execution_count": 42,
   "metadata": {},
   "outputs": [
    {
     "data": {
      "text/plain": [
       "0"
      ]
     },
     "execution_count": 42,
     "metadata": {},
     "output_type": "execute_result"
    }
   ],
   "source": [
    "kdb.test_songs.find({\"labeled\": False}).count()"
   ]
  },
  {
   "cell_type": "code",
   "execution_count": 41,
   "metadata": {},
   "outputs": [
    {
     "data": {
      "text/plain": [
       "3486"
      ]
     },
     "execution_count": 41,
     "metadata": {},
     "output_type": "execute_result"
    }
   ],
   "source": [
    "result = kdb.test_songs.update_many({\"labeled\": False}, {\"$unset\": {\"labeled\": \"$\"}})\n",
    "result.modified_count"
   ]
  },
  {
   "cell_type": "markdown",
   "metadata": {},
   "source": [
    "Done"
   ]
  },
  {
   "cell_type": "markdown",
   "metadata": {},
   "source": [
    "## Sketchpad"
   ]
  },
  {
   "cell_type": "code",
   "execution_count": 3,
   "metadata": {},
   "outputs": [
    {
     "data": {
      "text/plain": [
       "49"
      ]
     },
     "execution_count": 3,
     "metadata": {},
     "output_type": "execute_result"
    }
   ],
   "source": [
    "kdb.test_songs.find({\"sax\": 2, \"sax1203\": {\"$exists\": False}}).count()"
   ]
  }
 ],
 "metadata": {
  "kernelspec": {
   "display_name": "Python [conda root]",
   "language": "python",
   "name": "conda-root-py"
  },
  "language_info": {
   "codemirror_mode": {
    "name": "ipython",
    "version": 3
   },
   "file_extension": ".py",
   "mimetype": "text/x-python",
   "name": "python",
   "nbconvert_exporter": "python",
   "pygments_lexer": "ipython3",
   "version": "3.5.4"
  }
 },
 "nbformat": 4,
 "nbformat_minor": 2
}
